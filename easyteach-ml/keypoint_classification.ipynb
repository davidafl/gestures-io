{
 "cells": [
  {
   "cell_type": "code",
   "execution_count": 1,
   "metadata": {
    "pycharm": {
     "name": "#%%\n"
    }
   },
   "outputs": [],
   "source": [
    "import csv\n",
    "\n",
    "import numpy as np\n",
    "import tensorflow as tf\n",
    "from sklearn.model_selection import train_test_split\n",
    "\n",
    "RANDOM_SEED = 42"
   ]
  },
  {
   "cell_type": "markdown",
   "metadata": {
    "pycharm": {
     "name": "#%% md\n"
    }
   },
   "source": [
    "# Specify each path"
   ]
  },
  {
   "cell_type": "code",
   "execution_count": 2,
   "metadata": {
    "pycharm": {
     "name": "#%%\n"
    }
   },
   "outputs": [],
   "source": [
    "dataset = 'model/keypoint_classifier/keypoint.csv'\n",
    "model_save_path = 'model/keypoint_classifier/keypoint_classifier.hdf5'"
   ]
  },
  {
   "cell_type": "markdown",
   "metadata": {
    "pycharm": {
     "name": "#%% md\n"
    }
   },
   "source": [
    "# Number of classes"
   ]
  },
  {
   "cell_type": "code",
   "execution_count": 3,
   "metadata": {
    "pycharm": {
     "name": "#%%\n"
    }
   },
   "outputs": [],
   "source": [
    "NUM_CLASSES = 7"
   ]
  },
  {
   "cell_type": "markdown",
   "metadata": {
    "pycharm": {
     "name": "#%% md\n"
    }
   },
   "source": [
    "# Reading training data"
   ]
  },
  {
   "cell_type": "code",
   "execution_count": 4,
   "metadata": {
    "pycharm": {
     "name": "#%%\n"
    }
   },
   "outputs": [],
   "source": [
    "X_dataset = np.loadtxt(dataset, delimiter=',', dtype='float32', usecols=list(range(1, (21 * 2) + 1)))"
   ]
  },
  {
   "cell_type": "code",
   "execution_count": 5,
   "metadata": {
    "pycharm": {
     "name": "#%%\n"
    }
   },
   "outputs": [],
   "source": [
    "y_dataset = np.loadtxt(dataset, delimiter=',', dtype='int32', usecols=(0))"
   ]
  },
  {
   "cell_type": "code",
   "execution_count": 6,
   "metadata": {
    "pycharm": {
     "name": "#%%\n"
    }
   },
   "outputs": [],
   "source": [
    "X_train, X_test, y_train, y_test = train_test_split(X_dataset, y_dataset, train_size=0.75, random_state=RANDOM_SEED)"
   ]
  },
  {
   "cell_type": "markdown",
   "metadata": {
    "pycharm": {
     "name": "#%% md\n"
    }
   },
   "source": [
    "# Model building"
   ]
  },
  {
   "cell_type": "code",
   "execution_count": 7,
   "metadata": {
    "pycharm": {
     "name": "#%%\n"
    }
   },
   "outputs": [],
   "source": [
    "model = tf.keras.models.Sequential([\n",
    "    tf.keras.layers.Input((21 * 2, )),\n",
    "    tf.keras.layers.Dropout(0.2),\n",
    "    tf.keras.layers.Dense(20, activation='relu'),\n",
    "    tf.keras.layers.Dropout(0.4),\n",
    "    tf.keras.layers.Dense(10, activation='relu'),\n",
    "    tf.keras.layers.Dense(NUM_CLASSES, activation='softmax')\n",
    "])"
   ]
  },
  {
   "cell_type": "code",
   "execution_count": 8,
   "metadata": {
    "pycharm": {
     "name": "#%%\n"
    }
   },
   "outputs": [
    {
     "name": "stdout",
     "output_type": "stream",
     "text": [
      "Model: \"sequential\"\n",
      "_________________________________________________________________\n",
      " Layer (type)                Output Shape              Param #   \n",
      "=================================================================\n",
      " dropout (Dropout)           (None, 42)                0         \n",
      "                                                                 \n",
      " dense (Dense)               (None, 20)                860       \n",
      "                                                                 \n",
      " dropout_1 (Dropout)         (None, 20)                0         \n",
      "                                                                 \n",
      " dense_1 (Dense)             (None, 10)                210       \n",
      "                                                                 \n",
      " dense_2 (Dense)             (None, 7)                 77        \n",
      "                                                                 \n",
      "=================================================================\n",
      "Total params: 1,147\n",
      "Trainable params: 1,147\n",
      "Non-trainable params: 0\n",
      "_________________________________________________________________\n"
     ]
    }
   ],
   "source": [
    "model.summary()  # tf.keras.utils.plot_model(model, show_shapes=True)"
   ]
  },
  {
   "cell_type": "code",
   "execution_count": 9,
   "metadata": {
    "pycharm": {
     "name": "#%%\n"
    }
   },
   "outputs": [],
   "source": [
    "# Model checkpoint callback\n",
    "cp_callback = tf.keras.callbacks.ModelCheckpoint(\n",
    "    model_save_path, verbose=1, save_weights_only=False)\n",
    "# Early stopping callback\n",
    "es_callback = tf.keras.callbacks.EarlyStopping(patience=20, verbose=1)"
   ]
  },
  {
   "cell_type": "code",
   "execution_count": 10,
   "metadata": {
    "pycharm": {
     "name": "#%%\n"
    }
   },
   "outputs": [],
   "source": [
    "# Model compilation\n",
    "model.compile(\n",
    "    optimizer='adam',\n",
    "    loss='sparse_categorical_crossentropy',\n",
    "    metrics=['accuracy']\n",
    ")"
   ]
  },
  {
   "cell_type": "markdown",
   "metadata": {
    "pycharm": {
     "name": "#%% md\n"
    }
   },
   "source": [
    "# fit the model"
   ]
  },
  {
   "cell_type": "code",
   "execution_count": 11,
   "metadata": {
    "scrolled": true,
    "pycharm": {
     "name": "#%%\n"
    }
   },
   "outputs": [
    {
     "name": "stdout",
     "output_type": "stream",
     "text": [
      "Epoch 1/1000\n",
      "51/67 [=====================>........] - ETA: 0s - loss: 1.9049 - accuracy: 0.2328 \n",
      "Epoch 1: saving model to model/keypoint_classifier\\keypoint_classifier.hdf5\n",
      "67/67 [==============================] - 0s 3ms/step - loss: 1.8687 - accuracy: 0.2590 - val_loss: 1.6625 - val_accuracy: 0.3699\n",
      "Epoch 2/1000\n",
      "57/67 [========================>.....] - ETA: 0s - loss: 1.5953 - accuracy: 0.3782\n",
      "Epoch 2: saving model to model/keypoint_classifier\\keypoint_classifier.hdf5\n",
      "67/67 [==============================] - 0s 2ms/step - loss: 1.5756 - accuracy: 0.3850 - val_loss: 1.3075 - val_accuracy: 0.5178\n",
      "Epoch 3/1000\n",
      "52/67 [======================>.......] - ETA: 0s - loss: 1.3627 - accuracy: 0.4659\n",
      "Epoch 3: saving model to model/keypoint_classifier\\keypoint_classifier.hdf5\n",
      "67/67 [==============================] - 0s 2ms/step - loss: 1.3419 - accuracy: 0.4737 - val_loss: 1.0853 - val_accuracy: 0.5811\n",
      "Epoch 4/1000\n",
      "53/67 [======================>.......] - ETA: 0s - loss: 1.2195 - accuracy: 0.5087\n",
      "Epoch 4: saving model to model/keypoint_classifier\\keypoint_classifier.hdf5\n",
      "67/67 [==============================] - 0s 1ms/step - loss: 1.1986 - accuracy: 0.5209 - val_loss: 0.9383 - val_accuracy: 0.7599\n",
      "Epoch 5/1000\n",
      "48/67 [====================>.........] - ETA: 0s - loss: 1.1034 - accuracy: 0.5700\n",
      "Epoch 5: saving model to model/keypoint_classifier\\keypoint_classifier.hdf5\n",
      "67/67 [==============================] - 0s 2ms/step - loss: 1.0977 - accuracy: 0.5716 - val_loss: 0.8470 - val_accuracy: 0.7761\n",
      "Epoch 6/1000\n",
      "56/67 [========================>.....] - ETA: 0s - loss: 1.0271 - accuracy: 0.5918\n",
      "Epoch 6: saving model to model/keypoint_classifier\\keypoint_classifier.hdf5\n",
      "67/67 [==============================] - 0s 2ms/step - loss: 1.0247 - accuracy: 0.5925 - val_loss: 0.7669 - val_accuracy: 0.7973\n",
      "Epoch 7/1000\n",
      "54/67 [=======================>......] - ETA: 0s - loss: 0.9718 - accuracy: 0.6208\n",
      "Epoch 7: saving model to model/keypoint_classifier\\keypoint_classifier.hdf5\n",
      "67/67 [==============================] - 0s 1ms/step - loss: 0.9722 - accuracy: 0.6208 - val_loss: 0.7072 - val_accuracy: 0.8251\n",
      "Epoch 8/1000\n",
      "50/67 [=====================>........] - ETA: 0s - loss: 0.9480 - accuracy: 0.6261\n",
      "Epoch 8: saving model to model/keypoint_classifier\\keypoint_classifier.hdf5\n",
      "67/67 [==============================] - 0s 1ms/step - loss: 0.9332 - accuracy: 0.6325 - val_loss: 0.6571 - val_accuracy: 0.8405\n",
      "Epoch 9/1000\n",
      " 1/67 [..............................] - ETA: 1s - loss: 0.8358 - accuracy: 0.6250\n",
      "Epoch 9: saving model to model/keypoint_classifier\\keypoint_classifier.hdf5\n",
      "67/67 [==============================] - 0s 1ms/step - loss: 0.8848 - accuracy: 0.6506 - val_loss: 0.6108 - val_accuracy: 0.8458\n",
      "Epoch 10/1000\n",
      "54/67 [=======================>......] - ETA: 0s - loss: 0.8650 - accuracy: 0.6512\n",
      "Epoch 10: saving model to model/keypoint_classifier\\keypoint_classifier.hdf5\n",
      "67/67 [==============================] - 0s 2ms/step - loss: 0.8626 - accuracy: 0.6515 - val_loss: 0.5806 - val_accuracy: 0.8571\n",
      "Epoch 11/1000\n",
      "55/67 [=======================>......] - ETA: 0s - loss: 0.8314 - accuracy: 0.6753\n",
      "Epoch 11: saving model to model/keypoint_classifier\\keypoint_classifier.hdf5\n",
      "67/67 [==============================] - 0s 1ms/step - loss: 0.8304 - accuracy: 0.6748 - val_loss: 0.5494 - val_accuracy: 0.8694\n",
      "Epoch 12/1000\n",
      "58/67 [========================>.....] - ETA: 0s - loss: 0.7956 - accuracy: 0.6882\n",
      "Epoch 12: saving model to model/keypoint_classifier\\keypoint_classifier.hdf5\n",
      "67/67 [==============================] - 0s 1ms/step - loss: 0.7941 - accuracy: 0.6892 - val_loss: 0.5218 - val_accuracy: 0.8782\n",
      "Epoch 13/1000\n",
      "61/67 [==========================>...] - ETA: 0s - loss: 0.7885 - accuracy: 0.6957\n",
      "Epoch 13: saving model to model/keypoint_classifier\\keypoint_classifier.hdf5\n",
      "67/67 [==============================] - 0s 1ms/step - loss: 0.7853 - accuracy: 0.6975 - val_loss: 0.4904 - val_accuracy: 0.8768\n",
      "Epoch 14/1000\n",
      " 1/67 [..............................] - ETA: 0s - loss: 0.7010 - accuracy: 0.6953\n",
      "Epoch 14: saving model to model/keypoint_classifier\\keypoint_classifier.hdf5\n",
      "67/67 [==============================] - 0s 1ms/step - loss: 0.7373 - accuracy: 0.7093 - val_loss: 0.4700 - val_accuracy: 0.8831\n",
      "Epoch 15/1000\n",
      "53/67 [======================>.......] - ETA: 0s - loss: 0.7257 - accuracy: 0.7220\n",
      "Epoch 15: saving model to model/keypoint_classifier\\keypoint_classifier.hdf5\n",
      "67/67 [==============================] - 0s 1ms/step - loss: 0.7212 - accuracy: 0.7263 - val_loss: 0.4459 - val_accuracy: 0.8877\n",
      "Epoch 16/1000\n",
      "51/67 [=====================>........] - ETA: 0s - loss: 0.7108 - accuracy: 0.7282\n",
      "Epoch 16: saving model to model/keypoint_classifier\\keypoint_classifier.hdf5\n",
      "67/67 [==============================] - 0s 2ms/step - loss: 0.7026 - accuracy: 0.7279 - val_loss: 0.4275 - val_accuracy: 0.8828\n",
      "Epoch 17/1000\n",
      "51/67 [=====================>........] - ETA: 0s - loss: 0.6817 - accuracy: 0.7335\n",
      "Epoch 17: saving model to model/keypoint_classifier\\keypoint_classifier.hdf5\n",
      "67/67 [==============================] - 0s 2ms/step - loss: 0.6799 - accuracy: 0.7358 - val_loss: 0.4121 - val_accuracy: 0.8881\n",
      "Epoch 18/1000\n",
      "60/67 [=========================>....] - ETA: 0s - loss: 0.6699 - accuracy: 0.7398\n",
      "Epoch 18: saving model to model/keypoint_classifier\\keypoint_classifier.hdf5\n",
      "67/67 [==============================] - 0s 2ms/step - loss: 0.6720 - accuracy: 0.7398 - val_loss: 0.3969 - val_accuracy: 0.8905\n",
      "Epoch 19/1000\n",
      "54/67 [=======================>......] - ETA: 0s - loss: 0.6537 - accuracy: 0.7594\n",
      "Epoch 19: saving model to model/keypoint_classifier\\keypoint_classifier.hdf5\n",
      "67/67 [==============================] - 0s 2ms/step - loss: 0.6530 - accuracy: 0.7594 - val_loss: 0.3834 - val_accuracy: 0.8955\n",
      "Epoch 20/1000\n",
      "52/67 [======================>.......] - ETA: 0s - loss: 0.6475 - accuracy: 0.7524\n",
      "Epoch 20: saving model to model/keypoint_classifier\\keypoint_classifier.hdf5\n",
      "67/67 [==============================] - 0s 1ms/step - loss: 0.6452 - accuracy: 0.7558 - val_loss: 0.3759 - val_accuracy: 0.8951\n",
      "Epoch 21/1000\n",
      "47/67 [====================>.........] - ETA: 0s - loss: 0.6353 - accuracy: 0.7605\n",
      "Epoch 21: saving model to model/keypoint_classifier\\keypoint_classifier.hdf5\n",
      "67/67 [==============================] - 0s 1ms/step - loss: 0.6343 - accuracy: 0.7622 - val_loss: 0.3609 - val_accuracy: 0.9004\n",
      "Epoch 22/1000\n",
      "64/67 [===========================>..] - ETA: 0s - loss: 0.6211 - accuracy: 0.7654\n",
      "Epoch 22: saving model to model/keypoint_classifier\\keypoint_classifier.hdf5\n",
      "67/67 [==============================] - 0s 1ms/step - loss: 0.6221 - accuracy: 0.7648 - val_loss: 0.3487 - val_accuracy: 0.9004\n",
      "Epoch 23/1000\n",
      "65/67 [============================>.] - ETA: 0s - loss: 0.6105 - accuracy: 0.7686\n",
      "Epoch 23: saving model to model/keypoint_classifier\\keypoint_classifier.hdf5\n",
      "67/67 [==============================] - 0s 2ms/step - loss: 0.6125 - accuracy: 0.7680 - val_loss: 0.3494 - val_accuracy: 0.9036\n",
      "Epoch 24/1000\n",
      "59/67 [=========================>....] - ETA: 0s - loss: 0.6026 - accuracy: 0.7672\n",
      "Epoch 24: saving model to model/keypoint_classifier\\keypoint_classifier.hdf5\n",
      "67/67 [==============================] - 0s 2ms/step - loss: 0.6000 - accuracy: 0.7687 - val_loss: 0.3337 - val_accuracy: 0.9053\n",
      "Epoch 25/1000\n",
      "65/67 [============================>.] - ETA: 0s - loss: 0.5912 - accuracy: 0.7779\n",
      "Epoch 25: saving model to model/keypoint_classifier\\keypoint_classifier.hdf5\n",
      "67/67 [==============================] - 0s 1ms/step - loss: 0.5898 - accuracy: 0.7788 - val_loss: 0.3241 - val_accuracy: 0.9099\n",
      "Epoch 26/1000\n",
      "42/67 [=================>............] - ETA: 0s - loss: 0.5971 - accuracy: 0.7759\n",
      "Epoch 26: saving model to model/keypoint_classifier\\keypoint_classifier.hdf5\n",
      "67/67 [==============================] - 0s 2ms/step - loss: 0.5829 - accuracy: 0.7824 - val_loss: 0.3178 - val_accuracy: 0.9092\n",
      "Epoch 27/1000\n",
      "55/67 [=======================>......] - ETA: 0s - loss: 0.5756 - accuracy: 0.7876\n",
      "Epoch 27: saving model to model/keypoint_classifier\\keypoint_classifier.hdf5\n",
      "67/67 [==============================] - 0s 2ms/step - loss: 0.5735 - accuracy: 0.7891 - val_loss: 0.3085 - val_accuracy: 0.9106\n",
      "Epoch 28/1000\n",
      "55/67 [=======================>......] - ETA: 0s - loss: 0.5560 - accuracy: 0.7888\n",
      "Epoch 28: saving model to model/keypoint_classifier\\keypoint_classifier.hdf5\n",
      "67/67 [==============================] - 0s 2ms/step - loss: 0.5602 - accuracy: 0.7890 - val_loss: 0.3075 - val_accuracy: 0.9106\n",
      "Epoch 29/1000\n",
      "50/67 [=====================>........] - ETA: 0s - loss: 0.5589 - accuracy: 0.7931\n",
      "Epoch 29: saving model to model/keypoint_classifier\\keypoint_classifier.hdf5\n",
      "67/67 [==============================] - 0s 1ms/step - loss: 0.5565 - accuracy: 0.7912 - val_loss: 0.3076 - val_accuracy: 0.9194\n",
      "Epoch 30/1000\n",
      "56/67 [========================>.....] - ETA: 0s - loss: 0.5677 - accuracy: 0.7902\n",
      "Epoch 30: saving model to model/keypoint_classifier\\keypoint_classifier.hdf5\n",
      "67/67 [==============================] - 0s 1ms/step - loss: 0.5605 - accuracy: 0.7920 - val_loss: 0.2929 - val_accuracy: 0.9250\n",
      "Epoch 31/1000\n",
      "58/67 [========================>.....] - ETA: 0s - loss: 0.5442 - accuracy: 0.7936\n",
      "Epoch 31: saving model to model/keypoint_classifier\\keypoint_classifier.hdf5\n",
      "67/67 [==============================] - 0s 1ms/step - loss: 0.5448 - accuracy: 0.7954 - val_loss: 0.2859 - val_accuracy: 0.9261\n",
      "Epoch 32/1000\n",
      "58/67 [========================>.....] - ETA: 0s - loss: 0.5279 - accuracy: 0.8051\n",
      "Epoch 32: saving model to model/keypoint_classifier\\keypoint_classifier.hdf5\n",
      "67/67 [==============================] - 0s 1ms/step - loss: 0.5304 - accuracy: 0.8054 - val_loss: 0.2778 - val_accuracy: 0.9303\n",
      "Epoch 33/1000\n",
      " 1/67 [..............................] - ETA: 1s - loss: 0.5605 - accuracy: 0.8047\n",
      "Epoch 33: saving model to model/keypoint_classifier\\keypoint_classifier.hdf5\n",
      "67/67 [==============================] - 0s 1ms/step - loss: 0.5246 - accuracy: 0.8066 - val_loss: 0.2688 - val_accuracy: 0.9271\n",
      "Epoch 34/1000\n",
      "61/67 [==========================>...] - ETA: 0s - loss: 0.5291 - accuracy: 0.8039\n",
      "Epoch 34: saving model to model/keypoint_classifier\\keypoint_classifier.hdf5\n",
      "67/67 [==============================] - 0s 1ms/step - loss: 0.5259 - accuracy: 0.8040 - val_loss: 0.2669 - val_accuracy: 0.9296\n",
      "Epoch 35/1000\n",
      "48/67 [====================>.........] - ETA: 0s - loss: 0.5268 - accuracy: 0.8088\n",
      "Epoch 35: saving model to model/keypoint_classifier\\keypoint_classifier.hdf5\n",
      "67/67 [==============================] - 0s 2ms/step - loss: 0.5214 - accuracy: 0.8080 - val_loss: 0.2636 - val_accuracy: 0.9345\n",
      "Epoch 36/1000\n",
      "42/67 [=================>............] - ETA: 0s - loss: 0.4962 - accuracy: 0.8160\n",
      "Epoch 36: saving model to model/keypoint_classifier\\keypoint_classifier.hdf5\n",
      "67/67 [==============================] - 0s 2ms/step - loss: 0.4978 - accuracy: 0.8149 - val_loss: 0.2549 - val_accuracy: 0.9412\n",
      "Epoch 37/1000\n",
      "50/67 [=====================>........] - ETA: 0s - loss: 0.4936 - accuracy: 0.8223\n",
      "Epoch 37: saving model to model/keypoint_classifier\\keypoint_classifier.hdf5\n",
      "67/67 [==============================] - 0s 2ms/step - loss: 0.5019 - accuracy: 0.8157 - val_loss: 0.2459 - val_accuracy: 0.9388\n",
      "Epoch 38/1000\n",
      "51/67 [=====================>........] - ETA: 0s - loss: 0.5063 - accuracy: 0.8171\n",
      "Epoch 38: saving model to model/keypoint_classifier\\keypoint_classifier.hdf5\n",
      "67/67 [==============================] - 0s 2ms/step - loss: 0.5020 - accuracy: 0.8195 - val_loss: 0.2509 - val_accuracy: 0.9359\n",
      "Epoch 39/1000\n",
      "63/67 [===========================>..] - ETA: 0s - loss: 0.4886 - accuracy: 0.8177\n",
      "Epoch 39: saving model to model/keypoint_classifier\\keypoint_classifier.hdf5\n",
      "67/67 [==============================] - 0s 1ms/step - loss: 0.4876 - accuracy: 0.8176 - val_loss: 0.2411 - val_accuracy: 0.9423\n",
      "Epoch 40/1000\n",
      "62/67 [==========================>...] - ETA: 0s - loss: 0.4909 - accuracy: 0.8197\n",
      "Epoch 40: saving model to model/keypoint_classifier\\keypoint_classifier.hdf5\n",
      "67/67 [==============================] - 0s 2ms/step - loss: 0.4906 - accuracy: 0.8190 - val_loss: 0.2470 - val_accuracy: 0.9412\n",
      "Epoch 41/1000\n",
      "65/67 [============================>.] - ETA: 0s - loss: 0.4997 - accuracy: 0.8148\n",
      "Epoch 41: saving model to model/keypoint_classifier\\keypoint_classifier.hdf5\n",
      "67/67 [==============================] - 0s 1ms/step - loss: 0.4992 - accuracy: 0.8149 - val_loss: 0.2323 - val_accuracy: 0.9433\n",
      "Epoch 42/1000\n",
      "50/67 [=====================>........] - ETA: 0s - loss: 0.4842 - accuracy: 0.8197\n",
      "Epoch 42: saving model to model/keypoint_classifier\\keypoint_classifier.hdf5\n",
      "67/67 [==============================] - 0s 2ms/step - loss: 0.4722 - accuracy: 0.8272 - val_loss: 0.2315 - val_accuracy: 0.9433\n",
      "Epoch 43/1000\n",
      "50/67 [=====================>........] - ETA: 0s - loss: 0.4940 - accuracy: 0.8134\n",
      "Epoch 43: saving model to model/keypoint_classifier\\keypoint_classifier.hdf5\n",
      "67/67 [==============================] - 0s 2ms/step - loss: 0.4914 - accuracy: 0.8142 - val_loss: 0.2324 - val_accuracy: 0.9461\n",
      "Epoch 44/1000\n",
      "65/67 [============================>.] - ETA: 0s - loss: 0.4625 - accuracy: 0.8328\n",
      "Epoch 44: saving model to model/keypoint_classifier\\keypoint_classifier.hdf5\n",
      "67/67 [==============================] - 0s 1ms/step - loss: 0.4629 - accuracy: 0.8322 - val_loss: 0.2269 - val_accuracy: 0.9476\n",
      "Epoch 45/1000\n",
      "49/67 [====================>.........] - ETA: 0s - loss: 0.4731 - accuracy: 0.8276\n",
      "Epoch 45: saving model to model/keypoint_classifier\\keypoint_classifier.hdf5\n",
      "67/67 [==============================] - 0s 2ms/step - loss: 0.4732 - accuracy: 0.8291 - val_loss: 0.2172 - val_accuracy: 0.9500\n",
      "Epoch 46/1000\n",
      "54/67 [=======================>......] - ETA: 0s - loss: 0.4743 - accuracy: 0.8309\n",
      "Epoch 46: saving model to model/keypoint_classifier\\keypoint_classifier.hdf5\n",
      "67/67 [==============================] - 0s 2ms/step - loss: 0.4794 - accuracy: 0.8279 - val_loss: 0.2138 - val_accuracy: 0.9511\n",
      "Epoch 47/1000\n",
      "58/67 [========================>.....] - ETA: 0s - loss: 0.4473 - accuracy: 0.8417\n",
      "Epoch 47: saving model to model/keypoint_classifier\\keypoint_classifier.hdf5\n",
      "67/67 [==============================] - 0s 1ms/step - loss: 0.4514 - accuracy: 0.8393 - val_loss: 0.2187 - val_accuracy: 0.9479\n",
      "Epoch 48/1000\n",
      " 1/67 [..............................] - ETA: 0s - loss: 0.4368 - accuracy: 0.8359\n",
      "Epoch 48: saving model to model/keypoint_classifier\\keypoint_classifier.hdf5\n",
      "67/67 [==============================] - 0s 1ms/step - loss: 0.4588 - accuracy: 0.8317 - val_loss: 0.2074 - val_accuracy: 0.9535\n",
      "Epoch 49/1000\n",
      "47/67 [====================>.........] - ETA: 0s - loss: 0.4535 - accuracy: 0.8339\n",
      "Epoch 49: saving model to model/keypoint_classifier\\keypoint_classifier.hdf5\n",
      "67/67 [==============================] - 0s 2ms/step - loss: 0.4567 - accuracy: 0.8325 - val_loss: 0.2114 - val_accuracy: 0.9493\n",
      "Epoch 50/1000\n",
      "58/67 [========================>.....] - ETA: 0s - loss: 0.4602 - accuracy: 0.8342\n",
      "Epoch 50: saving model to model/keypoint_classifier\\keypoint_classifier.hdf5\n",
      "67/67 [==============================] - 0s 1ms/step - loss: 0.4551 - accuracy: 0.8342 - val_loss: 0.2090 - val_accuracy: 0.9493\n",
      "Epoch 51/1000\n",
      "51/67 [=====================>........] - ETA: 0s - loss: 0.4544 - accuracy: 0.8372\n",
      "Epoch 51: saving model to model/keypoint_classifier\\keypoint_classifier.hdf5\n",
      "67/67 [==============================] - 0s 2ms/step - loss: 0.4573 - accuracy: 0.8357 - val_loss: 0.2046 - val_accuracy: 0.9518\n",
      "Epoch 52/1000\n",
      "51/67 [=====================>........] - ETA: 0s - loss: 0.4411 - accuracy: 0.8411\n",
      "Epoch 52: saving model to model/keypoint_classifier\\keypoint_classifier.hdf5\n",
      "67/67 [==============================] - 0s 2ms/step - loss: 0.4399 - accuracy: 0.8431 - val_loss: 0.1967 - val_accuracy: 0.9528\n",
      "Epoch 53/1000\n",
      " 1/67 [..............................] - ETA: 1s - loss: 0.5496 - accuracy: 0.8359\n",
      "Epoch 53: saving model to model/keypoint_classifier\\keypoint_classifier.hdf5\n",
      "67/67 [==============================] - 0s 1ms/step - loss: 0.4482 - accuracy: 0.8413 - val_loss: 0.1981 - val_accuracy: 0.9539\n",
      "Epoch 54/1000\n",
      "60/67 [=========================>....] - ETA: 0s - loss: 0.4387 - accuracy: 0.8406\n",
      "Epoch 54: saving model to model/keypoint_classifier\\keypoint_classifier.hdf5\n",
      "67/67 [==============================] - 0s 2ms/step - loss: 0.4372 - accuracy: 0.8420 - val_loss: 0.1981 - val_accuracy: 0.9525\n",
      "Epoch 55/1000\n",
      "60/67 [=========================>....] - ETA: 0s - loss: 0.4375 - accuracy: 0.8436\n",
      "Epoch 55: saving model to model/keypoint_classifier\\keypoint_classifier.hdf5\n",
      "67/67 [==============================] - 0s 1ms/step - loss: 0.4392 - accuracy: 0.8441 - val_loss: 0.1878 - val_accuracy: 0.9535\n",
      "Epoch 56/1000\n",
      "54/67 [=======================>......] - ETA: 0s - loss: 0.4468 - accuracy: 0.8400\n",
      "Epoch 56: saving model to model/keypoint_classifier\\keypoint_classifier.hdf5\n",
      "67/67 [==============================] - 0s 1ms/step - loss: 0.4457 - accuracy: 0.8419 - val_loss: 0.1936 - val_accuracy: 0.9542\n",
      "Epoch 57/1000\n",
      "58/67 [========================>.....] - ETA: 0s - loss: 0.4444 - accuracy: 0.8385\n",
      "Epoch 57: saving model to model/keypoint_classifier\\keypoint_classifier.hdf5\n",
      "67/67 [==============================] - 0s 1ms/step - loss: 0.4437 - accuracy: 0.8392 - val_loss: 0.1917 - val_accuracy: 0.9518\n",
      "Epoch 58/1000\n",
      "55/67 [=======================>......] - ETA: 0s - loss: 0.4360 - accuracy: 0.8452\n",
      "Epoch 58: saving model to model/keypoint_classifier\\keypoint_classifier.hdf5\n",
      "67/67 [==============================] - 0s 2ms/step - loss: 0.4329 - accuracy: 0.8464 - val_loss: 0.1961 - val_accuracy: 0.9535\n",
      "Epoch 59/1000\n",
      "44/67 [==================>...........] - ETA: 0s - loss: 0.4351 - accuracy: 0.8388\n",
      "Epoch 59: saving model to model/keypoint_classifier\\keypoint_classifier.hdf5\n",
      "67/67 [==============================] - 0s 2ms/step - loss: 0.4327 - accuracy: 0.8413 - val_loss: 0.1914 - val_accuracy: 0.9525\n",
      "Epoch 60/1000\n",
      "56/67 [========================>.....] - ETA: 0s - loss: 0.4213 - accuracy: 0.8471\n",
      "Epoch 60: saving model to model/keypoint_classifier\\keypoint_classifier.hdf5\n",
      "67/67 [==============================] - 0s 2ms/step - loss: 0.4145 - accuracy: 0.8492 - val_loss: 0.1813 - val_accuracy: 0.9542\n",
      "Epoch 61/1000\n",
      "54/67 [=======================>......] - ETA: 0s - loss: 0.4328 - accuracy: 0.8478\n",
      "Epoch 61: saving model to model/keypoint_classifier\\keypoint_classifier.hdf5\n",
      "67/67 [==============================] - 0s 2ms/step - loss: 0.4227 - accuracy: 0.8505 - val_loss: 0.1842 - val_accuracy: 0.9546\n",
      "Epoch 62/1000\n",
      "54/67 [=======================>......] - ETA: 0s - loss: 0.4220 - accuracy: 0.8458\n",
      "Epoch 62: saving model to model/keypoint_classifier\\keypoint_classifier.hdf5\n",
      "67/67 [==============================] - 0s 2ms/step - loss: 0.4233 - accuracy: 0.8455 - val_loss: 0.1804 - val_accuracy: 0.9535\n",
      "Epoch 63/1000\n",
      "56/67 [========================>.....] - ETA: 0s - loss: 0.4251 - accuracy: 0.8482\n",
      "Epoch 63: saving model to model/keypoint_classifier\\keypoint_classifier.hdf5\n",
      "67/67 [==============================] - 0s 2ms/step - loss: 0.4258 - accuracy: 0.8480 - val_loss: 0.1804 - val_accuracy: 0.9549\n",
      "Epoch 64/1000\n",
      "59/67 [=========================>....] - ETA: 0s - loss: 0.4161 - accuracy: 0.8496\n",
      "Epoch 64: saving model to model/keypoint_classifier\\keypoint_classifier.hdf5\n",
      "67/67 [==============================] - 0s 2ms/step - loss: 0.4167 - accuracy: 0.8493 - val_loss: 0.1832 - val_accuracy: 0.9504\n",
      "Epoch 65/1000\n",
      "61/67 [==========================>...] - ETA: 0s - loss: 0.4242 - accuracy: 0.8494\n",
      "Epoch 65: saving model to model/keypoint_classifier\\keypoint_classifier.hdf5\n",
      "67/67 [==============================] - 0s 1ms/step - loss: 0.4217 - accuracy: 0.8504 - val_loss: 0.1791 - val_accuracy: 0.9549\n",
      "Epoch 66/1000\n",
      "60/67 [=========================>....] - ETA: 0s - loss: 0.4218 - accuracy: 0.8504\n",
      "Epoch 66: saving model to model/keypoint_classifier\\keypoint_classifier.hdf5\n",
      "67/67 [==============================] - 0s 1ms/step - loss: 0.4182 - accuracy: 0.8519 - val_loss: 0.1839 - val_accuracy: 0.9493\n",
      "Epoch 67/1000\n",
      "39/67 [================>.............] - ETA: 0s - loss: 0.4291 - accuracy: 0.8498\n",
      "Epoch 67: saving model to model/keypoint_classifier\\keypoint_classifier.hdf5\n",
      "67/67 [==============================] - 0s 2ms/step - loss: 0.4166 - accuracy: 0.8515 - val_loss: 0.1775 - val_accuracy: 0.9556\n",
      "Epoch 68/1000\n",
      "56/67 [========================>.....] - ETA: 0s - loss: 0.4129 - accuracy: 0.8493\n",
      "Epoch 68: saving model to model/keypoint_classifier\\keypoint_classifier.hdf5\n",
      "67/67 [==============================] - 0s 2ms/step - loss: 0.4136 - accuracy: 0.8492 - val_loss: 0.1801 - val_accuracy: 0.9539\n",
      "Epoch 69/1000\n",
      "53/67 [======================>.......] - ETA: 0s - loss: 0.4238 - accuracy: 0.8476\n",
      "Epoch 69: saving model to model/keypoint_classifier\\keypoint_classifier.hdf5\n",
      "67/67 [==============================] - 0s 2ms/step - loss: 0.4240 - accuracy: 0.8474 - val_loss: 0.1808 - val_accuracy: 0.9514\n",
      "Epoch 70/1000\n",
      "56/67 [========================>.....] - ETA: 0s - loss: 0.4064 - accuracy: 0.8541\n",
      "Epoch 70: saving model to model/keypoint_classifier\\keypoint_classifier.hdf5\n",
      "67/67 [==============================] - 0s 1ms/step - loss: 0.4021 - accuracy: 0.8554 - val_loss: 0.1745 - val_accuracy: 0.9549\n",
      "Epoch 71/1000\n",
      "41/67 [=================>............] - ETA: 0s - loss: 0.4006 - accuracy: 0.8588\n",
      "Epoch 71: saving model to model/keypoint_classifier\\keypoint_classifier.hdf5\n",
      "67/67 [==============================] - 0s 2ms/step - loss: 0.4057 - accuracy: 0.8592 - val_loss: 0.1792 - val_accuracy: 0.9511\n",
      "Epoch 72/1000\n",
      "57/67 [========================>.....] - ETA: 0s - loss: 0.4120 - accuracy: 0.8507\n",
      "Epoch 72: saving model to model/keypoint_classifier\\keypoint_classifier.hdf5\n",
      "67/67 [==============================] - 0s 1ms/step - loss: 0.4095 - accuracy: 0.8528 - val_loss: 0.1739 - val_accuracy: 0.9525\n",
      "Epoch 73/1000\n",
      "51/67 [=====================>........] - ETA: 0s - loss: 0.4104 - accuracy: 0.8496\n",
      "Epoch 73: saving model to model/keypoint_classifier\\keypoint_classifier.hdf5\n",
      "67/67 [==============================] - 0s 1ms/step - loss: 0.4085 - accuracy: 0.8518 - val_loss: 0.1730 - val_accuracy: 0.9542\n",
      "Epoch 74/1000\n",
      "67/67 [==============================] - ETA: 0s - loss: 0.4050 - accuracy: 0.8555\n",
      "Epoch 74: saving model to model/keypoint_classifier\\keypoint_classifier.hdf5\n",
      "67/67 [==============================] - 0s 1ms/step - loss: 0.4050 - accuracy: 0.8555 - val_loss: 0.1760 - val_accuracy: 0.9500\n",
      "Epoch 75/1000\n",
      "44/67 [==================>...........] - ETA: 0s - loss: 0.4103 - accuracy: 0.8572\n",
      "Epoch 75: saving model to model/keypoint_classifier\\keypoint_classifier.hdf5\n",
      "67/67 [==============================] - 0s 2ms/step - loss: 0.4053 - accuracy: 0.8567 - val_loss: 0.1684 - val_accuracy: 0.9564\n",
      "Epoch 76/1000\n",
      "64/67 [===========================>..] - ETA: 0s - loss: 0.4082 - accuracy: 0.8561\n",
      "Epoch 76: saving model to model/keypoint_classifier\\keypoint_classifier.hdf5\n",
      "67/67 [==============================] - 0s 1ms/step - loss: 0.4117 - accuracy: 0.8560 - val_loss: 0.1741 - val_accuracy: 0.9525\n",
      "Epoch 77/1000\n",
      "53/67 [======================>.......] - ETA: 0s - loss: 0.4061 - accuracy: 0.8560\n",
      "Epoch 77: saving model to model/keypoint_classifier\\keypoint_classifier.hdf5\n",
      "67/67 [==============================] - 0s 1ms/step - loss: 0.4024 - accuracy: 0.8574 - val_loss: 0.1692 - val_accuracy: 0.9532\n",
      "Epoch 78/1000\n",
      "41/67 [=================>............] - ETA: 0s - loss: 0.4012 - accuracy: 0.8510\n",
      "Epoch 78: saving model to model/keypoint_classifier\\keypoint_classifier.hdf5\n",
      "67/67 [==============================] - 0s 2ms/step - loss: 0.4044 - accuracy: 0.8533 - val_loss: 0.1639 - val_accuracy: 0.9578\n",
      "Epoch 79/1000\n",
      "47/67 [====================>.........] - ETA: 0s - loss: 0.3953 - accuracy: 0.8600\n",
      "Epoch 79: saving model to model/keypoint_classifier\\keypoint_classifier.hdf5\n",
      "67/67 [==============================] - 0s 2ms/step - loss: 0.3992 - accuracy: 0.8555 - val_loss: 0.1751 - val_accuracy: 0.9493\n",
      "Epoch 80/1000\n",
      " 1/67 [..............................] - ETA: 1s - loss: 0.3159 - accuracy: 0.8906\n",
      "Epoch 80: saving model to model/keypoint_classifier\\keypoint_classifier.hdf5\n",
      "67/67 [==============================] - 0s 1ms/step - loss: 0.4018 - accuracy: 0.8580 - val_loss: 0.1723 - val_accuracy: 0.9514\n",
      "Epoch 81/1000\n",
      "52/67 [======================>.......] - ETA: 0s - loss: 0.3969 - accuracy: 0.8574\n",
      "Epoch 81: saving model to model/keypoint_classifier\\keypoint_classifier.hdf5\n",
      "67/67 [==============================] - 0s 2ms/step - loss: 0.3972 - accuracy: 0.8569 - val_loss: 0.1706 - val_accuracy: 0.9528\n",
      "Epoch 82/1000\n",
      "45/67 [===================>..........] - ETA: 0s - loss: 0.4049 - accuracy: 0.8583\n",
      "Epoch 82: saving model to model/keypoint_classifier\\keypoint_classifier.hdf5\n",
      "67/67 [==============================] - 0s 2ms/step - loss: 0.3978 - accuracy: 0.8604 - val_loss: 0.1699 - val_accuracy: 0.9497\n",
      "Epoch 83/1000\n",
      "58/67 [========================>.....] - ETA: 0s - loss: 0.3877 - accuracy: 0.8685\n",
      "Epoch 83: saving model to model/keypoint_classifier\\keypoint_classifier.hdf5\n",
      "67/67 [==============================] - 0s 2ms/step - loss: 0.3899 - accuracy: 0.8683 - val_loss: 0.1651 - val_accuracy: 0.9507\n",
      "Epoch 84/1000\n",
      "57/67 [========================>.....] - ETA: 0s - loss: 0.3975 - accuracy: 0.8605\n",
      "Epoch 84: saving model to model/keypoint_classifier\\keypoint_classifier.hdf5\n",
      "67/67 [==============================] - 0s 1ms/step - loss: 0.3991 - accuracy: 0.8610 - val_loss: 0.1727 - val_accuracy: 0.9454\n",
      "Epoch 85/1000\n",
      "26/67 [==========>...................] - ETA: 0s - loss: 0.3852 - accuracy: 0.8609\n",
      "Epoch 85: saving model to model/keypoint_classifier\\keypoint_classifier.hdf5\n",
      "67/67 [==============================] - 0s 2ms/step - loss: 0.3904 - accuracy: 0.8587 - val_loss: 0.1694 - val_accuracy: 0.9497\n",
      "Epoch 86/1000\n",
      "53/67 [======================>.......] - ETA: 0s - loss: 0.3890 - accuracy: 0.8691\n",
      "Epoch 86: saving model to model/keypoint_classifier\\keypoint_classifier.hdf5\n",
      "67/67 [==============================] - 0s 2ms/step - loss: 0.3875 - accuracy: 0.8678 - val_loss: 0.1740 - val_accuracy: 0.9472\n",
      "Epoch 87/1000\n",
      "55/67 [=======================>......] - ETA: 0s - loss: 0.3919 - accuracy: 0.8594\n",
      "Epoch 87: saving model to model/keypoint_classifier\\keypoint_classifier.hdf5\n",
      "67/67 [==============================] - 0s 2ms/step - loss: 0.3922 - accuracy: 0.8600 - val_loss: 0.1720 - val_accuracy: 0.9507\n",
      "Epoch 88/1000\n",
      "52/67 [======================>.......] - ETA: 0s - loss: 0.3869 - accuracy: 0.8628\n",
      "Epoch 88: saving model to model/keypoint_classifier\\keypoint_classifier.hdf5\n",
      "67/67 [==============================] - 0s 1ms/step - loss: 0.3871 - accuracy: 0.8623 - val_loss: 0.1716 - val_accuracy: 0.9493\n",
      "Epoch 89/1000\n",
      " 1/67 [..............................] - ETA: 0s - loss: 0.3213 - accuracy: 0.8672\n",
      "Epoch 89: saving model to model/keypoint_classifier\\keypoint_classifier.hdf5\n",
      "67/67 [==============================] - 0s 1ms/step - loss: 0.3886 - accuracy: 0.8630 - val_loss: 0.1786 - val_accuracy: 0.9454\n",
      "Epoch 90/1000\n",
      "61/67 [==========================>...] - ETA: 0s - loss: 0.3955 - accuracy: 0.8618\n",
      "Epoch 90: saving model to model/keypoint_classifier\\keypoint_classifier.hdf5\n",
      "67/67 [==============================] - 0s 1ms/step - loss: 0.3916 - accuracy: 0.8638 - val_loss: 0.1745 - val_accuracy: 0.9479\n",
      "Epoch 91/1000\n",
      "62/67 [==========================>...] - ETA: 0s - loss: 0.4022 - accuracy: 0.8567\n",
      "Epoch 91: saving model to model/keypoint_classifier\\keypoint_classifier.hdf5\n",
      "67/67 [==============================] - 0s 1ms/step - loss: 0.4005 - accuracy: 0.8586 - val_loss: 0.1762 - val_accuracy: 0.9461\n",
      "Epoch 92/1000\n",
      "61/67 [==========================>...] - ETA: 0s - loss: 0.3851 - accuracy: 0.8696\n",
      "Epoch 92: saving model to model/keypoint_classifier\\keypoint_classifier.hdf5\n",
      "67/67 [==============================] - 0s 1ms/step - loss: 0.3860 - accuracy: 0.8676 - val_loss: 0.1655 - val_accuracy: 0.9511\n",
      "Epoch 93/1000\n",
      "49/67 [====================>.........] - ETA: 0s - loss: 0.3791 - accuracy: 0.8650\n",
      "Epoch 93: saving model to model/keypoint_classifier\\keypoint_classifier.hdf5\n",
      "67/67 [==============================] - 0s 2ms/step - loss: 0.3829 - accuracy: 0.8629 - val_loss: 0.1733 - val_accuracy: 0.9451\n",
      "Epoch 94/1000\n",
      "56/67 [========================>.....] - ETA: 0s - loss: 0.4015 - accuracy: 0.8578\n",
      "Epoch 94: saving model to model/keypoint_classifier\\keypoint_classifier.hdf5\n",
      "67/67 [==============================] - 0s 2ms/step - loss: 0.3970 - accuracy: 0.8602 - val_loss: 0.1644 - val_accuracy: 0.9504\n",
      "Epoch 95/1000\n",
      "56/67 [========================>.....] - ETA: 0s - loss: 0.3862 - accuracy: 0.8662\n",
      "Epoch 95: saving model to model/keypoint_classifier\\keypoint_classifier.hdf5\n",
      "67/67 [==============================] - 0s 2ms/step - loss: 0.3862 - accuracy: 0.8649 - val_loss: 0.1773 - val_accuracy: 0.9444\n",
      "Epoch 96/1000\n",
      "44/67 [==================>...........] - ETA: 0s - loss: 0.3812 - accuracy: 0.8665\n",
      "Epoch 96: saving model to model/keypoint_classifier\\keypoint_classifier.hdf5\n",
      "67/67 [==============================] - 0s 2ms/step - loss: 0.3772 - accuracy: 0.8684 - val_loss: 0.1632 - val_accuracy: 0.9514\n",
      "Epoch 97/1000\n",
      "38/67 [================>.............] - ETA: 0s - loss: 0.3949 - accuracy: 0.8608\n",
      "Epoch 97: saving model to model/keypoint_classifier\\keypoint_classifier.hdf5\n",
      "67/67 [==============================] - 0s 2ms/step - loss: 0.3944 - accuracy: 0.8608 - val_loss: 0.1751 - val_accuracy: 0.9479\n",
      "Epoch 98/1000\n",
      " 1/67 [..............................] - ETA: 0s - loss: 0.4208 - accuracy: 0.8359\n",
      "Epoch 98: saving model to model/keypoint_classifier\\keypoint_classifier.hdf5\n",
      "67/67 [==============================] - 0s 1ms/step - loss: 0.3751 - accuracy: 0.8674 - val_loss: 0.1638 - val_accuracy: 0.9504\n",
      "Epoch 99/1000\n",
      "52/67 [======================>.......] - ETA: 0s - loss: 0.3857 - accuracy: 0.8648\n",
      "Epoch 99: saving model to model/keypoint_classifier\\keypoint_classifier.hdf5\n",
      "67/67 [==============================] - 0s 1ms/step - loss: 0.3889 - accuracy: 0.8654 - val_loss: 0.1740 - val_accuracy: 0.9500\n",
      "Epoch 100/1000\n",
      "65/67 [============================>.] - ETA: 0s - loss: 0.3814 - accuracy: 0.8643\n",
      "Epoch 100: saving model to model/keypoint_classifier\\keypoint_classifier.hdf5\n",
      "67/67 [==============================] - 0s 1ms/step - loss: 0.3802 - accuracy: 0.8651 - val_loss: 0.1752 - val_accuracy: 0.9472\n",
      "Epoch 101/1000\n",
      "50/67 [=====================>........] - ETA: 0s - loss: 0.3724 - accuracy: 0.8669\n",
      "Epoch 101: saving model to model/keypoint_classifier\\keypoint_classifier.hdf5\n",
      "67/67 [==============================] - 0s 2ms/step - loss: 0.3786 - accuracy: 0.8638 - val_loss: 0.1645 - val_accuracy: 0.9521\n",
      "Epoch 102/1000\n",
      "58/67 [========================>.....] - ETA: 0s - loss: 0.3794 - accuracy: 0.8610\n",
      "Epoch 102: saving model to model/keypoint_classifier\\keypoint_classifier.hdf5\n",
      "67/67 [==============================] - 0s 2ms/step - loss: 0.3801 - accuracy: 0.8610 - val_loss: 0.1700 - val_accuracy: 0.9490\n",
      "Epoch 103/1000\n",
      "56/67 [========================>.....] - ETA: 0s - loss: 0.3759 - accuracy: 0.8675\n",
      "Epoch 103: saving model to model/keypoint_classifier\\keypoint_classifier.hdf5\n",
      "67/67 [==============================] - 0s 1ms/step - loss: 0.3728 - accuracy: 0.8673 - val_loss: 0.1576 - val_accuracy: 0.9511\n",
      "Epoch 104/1000\n",
      "60/67 [=========================>....] - ETA: 0s - loss: 0.3784 - accuracy: 0.8654\n",
      "Epoch 104: saving model to model/keypoint_classifier\\keypoint_classifier.hdf5\n",
      "67/67 [==============================] - 0s 1ms/step - loss: 0.3782 - accuracy: 0.8661 - val_loss: 0.1645 - val_accuracy: 0.9500\n",
      "Epoch 105/1000\n",
      " 1/67 [..............................] - ETA: 1s - loss: 0.3310 - accuracy: 0.8672\n",
      "Epoch 105: saving model to model/keypoint_classifier\\keypoint_classifier.hdf5\n",
      "67/67 [==============================] - 0s 1ms/step - loss: 0.3630 - accuracy: 0.8705 - val_loss: 0.1704 - val_accuracy: 0.9493\n",
      "Epoch 106/1000\n",
      "46/67 [===================>..........] - ETA: 0s - loss: 0.3809 - accuracy: 0.8657\n",
      "Epoch 106: saving model to model/keypoint_classifier\\keypoint_classifier.hdf5\n",
      "67/67 [==============================] - 0s 2ms/step - loss: 0.3794 - accuracy: 0.8658 - val_loss: 0.1733 - val_accuracy: 0.9486\n",
      "Epoch 107/1000\n",
      "50/67 [=====================>........] - ETA: 0s - loss: 0.3756 - accuracy: 0.8669\n",
      "Epoch 107: saving model to model/keypoint_classifier\\keypoint_classifier.hdf5\n",
      "67/67 [==============================] - 0s 1ms/step - loss: 0.3817 - accuracy: 0.8654 - val_loss: 0.1760 - val_accuracy: 0.9412\n",
      "Epoch 108/1000\n",
      "58/67 [========================>.....] - ETA: 0s - loss: 0.3680 - accuracy: 0.8692\n",
      "Epoch 108: saving model to model/keypoint_classifier\\keypoint_classifier.hdf5\n",
      "67/67 [==============================] - 0s 1ms/step - loss: 0.3693 - accuracy: 0.8682 - val_loss: 0.1712 - val_accuracy: 0.9461\n",
      "Epoch 109/1000\n",
      "60/67 [=========================>....] - ETA: 0s - loss: 0.3604 - accuracy: 0.8773\n",
      "Epoch 109: saving model to model/keypoint_classifier\\keypoint_classifier.hdf5\n",
      "67/67 [==============================] - 0s 1ms/step - loss: 0.3599 - accuracy: 0.8782 - val_loss: 0.1617 - val_accuracy: 0.9518\n",
      "Epoch 110/1000\n",
      "60/67 [=========================>....] - ETA: 0s - loss: 0.3645 - accuracy: 0.8738\n",
      "Epoch 110: saving model to model/keypoint_classifier\\keypoint_classifier.hdf5\n",
      "67/67 [==============================] - 0s 1ms/step - loss: 0.3684 - accuracy: 0.8723 - val_loss: 0.1663 - val_accuracy: 0.9500\n",
      "Epoch 111/1000\n",
      "59/67 [=========================>....] - ETA: 0s - loss: 0.3686 - accuracy: 0.8697\n",
      "Epoch 111: saving model to model/keypoint_classifier\\keypoint_classifier.hdf5\n",
      "67/67 [==============================] - 0s 1ms/step - loss: 0.3662 - accuracy: 0.8709 - val_loss: 0.1748 - val_accuracy: 0.9440\n",
      "Epoch 112/1000\n",
      "56/67 [========================>.....] - ETA: 0s - loss: 0.3801 - accuracy: 0.8640\n",
      "Epoch 112: saving model to model/keypoint_classifier\\keypoint_classifier.hdf5\n",
      "67/67 [==============================] - 0s 2ms/step - loss: 0.3798 - accuracy: 0.8640 - val_loss: 0.1771 - val_accuracy: 0.9504\n",
      "Epoch 113/1000\n",
      "65/67 [============================>.] - ETA: 0s - loss: 0.3667 - accuracy: 0.8710\n",
      "Epoch 113: saving model to model/keypoint_classifier\\keypoint_classifier.hdf5\n",
      "67/67 [==============================] - 0s 1ms/step - loss: 0.3640 - accuracy: 0.8719 - val_loss: 0.1751 - val_accuracy: 0.9476\n",
      "Epoch 114/1000\n",
      " 1/67 [..............................] - ETA: 1s - loss: 0.3643 - accuracy: 0.8672\n",
      "Epoch 114: saving model to model/keypoint_classifier\\keypoint_classifier.hdf5\n",
      "67/67 [==============================] - 0s 1ms/step - loss: 0.3572 - accuracy: 0.8754 - val_loss: 0.1785 - val_accuracy: 0.9433\n",
      "Epoch 115/1000\n",
      "50/67 [=====================>........] - ETA: 0s - loss: 0.3597 - accuracy: 0.8741\n",
      "Epoch 115: saving model to model/keypoint_classifier\\keypoint_classifier.hdf5\n",
      "67/67 [==============================] - 0s 2ms/step - loss: 0.3635 - accuracy: 0.8718 - val_loss: 0.1658 - val_accuracy: 0.9483\n",
      "Epoch 116/1000\n",
      "66/67 [============================>.] - ETA: 0s - loss: 0.3779 - accuracy: 0.8666\n",
      "Epoch 116: saving model to model/keypoint_classifier\\keypoint_classifier.hdf5\n",
      "67/67 [==============================] - 0s 2ms/step - loss: 0.3761 - accuracy: 0.8675 - val_loss: 0.1692 - val_accuracy: 0.9490\n",
      "Epoch 117/1000\n",
      "49/67 [====================>.........] - ETA: 0s - loss: 0.3748 - accuracy: 0.8681\n",
      "Epoch 117: saving model to model/keypoint_classifier\\keypoint_classifier.hdf5\n",
      "67/67 [==============================] - 0s 2ms/step - loss: 0.3751 - accuracy: 0.8688 - val_loss: 0.1688 - val_accuracy: 0.9514\n",
      "Epoch 118/1000\n",
      "48/67 [====================>.........] - ETA: 0s - loss: 0.3628 - accuracy: 0.8750\n",
      "Epoch 118: saving model to model/keypoint_classifier\\keypoint_classifier.hdf5\n",
      "67/67 [==============================] - 0s 1ms/step - loss: 0.3659 - accuracy: 0.8729 - val_loss: 0.1582 - val_accuracy: 0.9490\n",
      "Epoch 119/1000\n",
      " 1/67 [..............................] - ETA: 1s - loss: 0.3210 - accuracy: 0.9062\n",
      "Epoch 119: saving model to model/keypoint_classifier\\keypoint_classifier.hdf5\n",
      "67/67 [==============================] - 0s 1ms/step - loss: 0.3682 - accuracy: 0.8712 - val_loss: 0.1785 - val_accuracy: 0.9426\n",
      "Epoch 120/1000\n",
      "47/67 [====================>.........] - ETA: 0s - loss: 0.3613 - accuracy: 0.8797\n",
      "Epoch 120: saving model to model/keypoint_classifier\\keypoint_classifier.hdf5\n",
      "67/67 [==============================] - 0s 2ms/step - loss: 0.3668 - accuracy: 0.8770 - val_loss: 0.1636 - val_accuracy: 0.9490\n",
      "Epoch 121/1000\n",
      " 1/67 [..............................] - ETA: 1s - loss: 0.4041 - accuracy: 0.8594\n",
      "Epoch 121: saving model to model/keypoint_classifier\\keypoint_classifier.hdf5\n",
      "67/67 [==============================] - 0s 1ms/step - loss: 0.3601 - accuracy: 0.8746 - val_loss: 0.1771 - val_accuracy: 0.9444\n",
      "Epoch 122/1000\n",
      "51/67 [=====================>........] - ETA: 0s - loss: 0.3581 - accuracy: 0.8752\n",
      "Epoch 122: saving model to model/keypoint_classifier\\keypoint_classifier.hdf5\n",
      "67/67 [==============================] - 0s 2ms/step - loss: 0.3613 - accuracy: 0.8734 - val_loss: 0.1651 - val_accuracy: 0.9500\n",
      "Epoch 123/1000\n",
      "53/67 [======================>.......] - ETA: 0s - loss: 0.3667 - accuracy: 0.8706\n",
      "Epoch 123: saving model to model/keypoint_classifier\\keypoint_classifier.hdf5\n",
      "67/67 [==============================] - 0s 2ms/step - loss: 0.3644 - accuracy: 0.8719 - val_loss: 0.1690 - val_accuracy: 0.9490\n",
      "Epoch 123: early stopping\n"
     ]
    },
    {
     "data": {
      "text/plain": "<keras.callbacks.History at 0x18913687c10>"
     },
     "execution_count": 11,
     "metadata": {},
     "output_type": "execute_result"
    }
   ],
   "source": [
    "model.fit(\n",
    "    X_train,\n",
    "    y_train,\n",
    "    epochs=1000,\n",
    "    batch_size=128,\n",
    "    validation_data=(X_test, y_test),\n",
    "    callbacks=[cp_callback, es_callback]\n",
    ")"
   ]
  },
  {
   "cell_type": "code",
   "execution_count": 12,
   "metadata": {
    "pycharm": {
     "name": "#%%\n"
    }
   },
   "outputs": [
    {
     "name": "stdout",
     "output_type": "stream",
     "text": [
      "23/23 [==============================] - 0s 710us/step - loss: 0.1690 - accuracy: 0.9490\n"
     ]
    }
   ],
   "source": [
    "# Model evaluation\n",
    "val_loss, val_acc = model.evaluate(X_test, y_test, batch_size=128)"
   ]
  },
  {
   "cell_type": "code",
   "execution_count": 13,
   "metadata": {
    "pycharm": {
     "name": "#%%\n"
    }
   },
   "outputs": [],
   "source": [
    "# Loading the saved model\n",
    "model = tf.keras.models.load_model(model_save_path)"
   ]
  },
  {
   "cell_type": "code",
   "execution_count": 14,
   "metadata": {
    "pycharm": {
     "name": "#%%\n"
    }
   },
   "outputs": [
    {
     "name": "stdout",
     "output_type": "stream",
     "text": [
      "1/1 [==============================] - 0s 47ms/step\n",
      "[6.8588543e-01 1.7317934e-01 1.4093521e-01 8.9718632e-12 1.2190667e-23\n",
      " 5.9026345e-14 6.9533247e-16]\n",
      "0\n"
     ]
    }
   ],
   "source": [
    "# Model prediction - Inference test\n",
    "predict_result = model.predict(np.array([X_test[0]]))\n",
    "print(np.squeeze(predict_result))\n",
    "print(np.argmax(np.squeeze(predict_result)))"
   ]
  },
  {
   "cell_type": "markdown",
   "metadata": {
    "pycharm": {
     "name": "#%% md\n"
    }
   },
   "source": [
    "# mixed row"
   ]
  },
  {
   "cell_type": "code",
   "execution_count": 15,
   "metadata": {
    "pycharm": {
     "name": "#%%\n"
    }
   },
   "outputs": [
    {
     "name": "stdout",
     "output_type": "stream",
     "text": [
      "89/89 [==============================] - 0s 548us/step\n"
     ]
    },
    {
     "data": {
      "text/plain": "<Figure size 504x432 with 2 Axes>",
      "image/png": "[encoded data removed]"
     },
     "metadata": {
      "needs_background": "light"
     },
     "output_type": "display_data"
    },
    {
     "name": "stdout",
     "output_type": "stream",
     "text": [
      "Classification Report\n",
      "              precision    recall  f1-score   support\n",
      "\n",
      "           0       0.97      0.95      0.96       393\n",
      "           1       1.00      0.71      0.83       394\n",
      "           2       0.77      0.97      0.86       350\n",
      "           3       0.99      1.00      0.99       440\n",
      "           4       0.98      1.00      0.99       442\n",
      "           5       0.99      1.00      0.99       479\n",
      "           6       0.98      1.00      0.99       343\n",
      "\n",
      "    accuracy                           0.95      2841\n",
      "   macro avg       0.95      0.95      0.94      2841\n",
      "weighted avg       0.96      0.95      0.95      2841\n",
      "\n"
     ]
    }
   ],
   "source": [
    "import pandas as pd\n",
    "import seaborn as sns\n",
    "import matplotlib.pyplot as plt\n",
    "from sklearn.metrics import confusion_matrix, classification_report\n",
    "\n",
    "def print_confusion_matrix(y_true, y_pred, report=True):\n",
    "    labels = sorted(list(set(y_true)))\n",
    "    cmx_data = confusion_matrix(y_true, y_pred, labels=labels)\n",
    "    \n",
    "    df_cmx = pd.DataFrame(cmx_data, index=labels, columns=labels)\n",
    " \n",
    "    fig, ax = plt.subplots(figsize=(7, 6))\n",
    "    sns.heatmap(df_cmx, annot=True, fmt='g' ,square=False)\n",
    "    ax.set_ylim(len(set(y_true)), 0)\n",
    "    plt.show()\n",
    "    \n",
    "    if report:\n",
    "        print('Classification Report')\n",
    "        print(classification_report(y_test, y_pred))\n",
    "\n",
    "Y_pred = model.predict(X_test)\n",
    "y_pred = np.argmax(Y_pred, axis=1)\n",
    "\n",
    "print_confusion_matrix(y_test, y_pred)"
   ]
  },
  {
   "cell_type": "markdown",
   "metadata": {
    "pycharm": {
     "name": "#%% md\n"
    }
   },
   "source": [
    "# Convert to model for Tensorflow-Lite"
   ]
  },
  {
   "cell_type": "code",
   "execution_count": 16,
   "metadata": {
    "pycharm": {
     "name": "#%%\n"
    }
   },
   "outputs": [],
   "source": [
    "# Save as a model dedicated to inference\n",
    "model.save(model_save_path, include_optimizer=False)"
   ]
  },
  {
   "cell_type": "code",
   "execution_count": 17,
   "metadata": {
    "pycharm": {
     "name": "#%%\n"
    }
   },
   "outputs": [
    {
     "name": "stdout",
     "output_type": "stream",
     "text": [
      "INFO:tensorflow:Assets written to: C:\\Users\\admin\\AppData\\Local\\Temp\\tmp_huj1pxh\\assets\n"
     ]
    },
    {
     "data": {
      "text/plain": "6620"
     },
     "execution_count": 17,
     "metadata": {},
     "output_type": "execute_result"
    }
   ],
   "source": [
    "# Transforming the model (quantization)\n",
    "tflite_save_path = 'model/keypoint_classifier/keypoint_classifier.tflite'\n",
    "\n",
    "converter = tf.lite.TFLiteConverter.from_keras_model(model)\n",
    "converter.optimizations = [tf.lite.Optimize.DEFAULT]\n",
    "tflite_quantized_model = converter.convert()\n",
    "\n",
    "open(tflite_save_path, 'wb').write(tflite_quantized_model)"
   ]
  },
  {
   "cell_type": "markdown",
   "metadata": {
    "pycharm": {
     "name": "#%% md\n"
    }
   },
   "source": [
    "# Inference test"
   ]
  },
  {
   "cell_type": "code",
   "execution_count": 18,
   "metadata": {
    "pycharm": {
     "name": "#%%\n"
    }
   },
   "outputs": [],
   "source": [
    "interpreter = tf.lite.Interpreter(model_path=tflite_save_path)\n",
    "interpreter.allocate_tensors()"
   ]
  },
  {
   "cell_type": "code",
   "execution_count": 19,
   "metadata": {
    "pycharm": {
     "name": "#%%\n"
    }
   },
   "outputs": [],
   "source": [
    "# Get I / O tensor\n",
    "input_details = interpreter.get_input_details()\n",
    "output_details = interpreter.get_output_details()"
   ]
  },
  {
   "cell_type": "code",
   "execution_count": 20,
   "metadata": {
    "pycharm": {
     "name": "#%%\n"
    }
   },
   "outputs": [],
   "source": [
    "interpreter.set_tensor(input_details[0]['index'], np.array([X_test[0]]))"
   ]
  },
  {
   "cell_type": "code",
   "execution_count": 21,
   "metadata": {
    "scrolled": true,
    "pycharm": {
     "name": "#%%\n"
    }
   },
   "outputs": [
    {
     "name": "stdout",
     "output_type": "stream",
     "text": [
      "CPU times: total: 0 ns\n",
      "Wall time: 0 ns\n"
     ]
    }
   ],
   "source": [
    "%%time\n",
    "# Inference implementation\n",
    "interpreter.invoke()\n",
    "tflite_results = interpreter.get_tensor(output_details[0]['index'])"
   ]
  },
  {
   "cell_type": "code",
   "execution_count": 22,
   "metadata": {
    "pycharm": {
     "name": "#%%\n"
    }
   },
   "outputs": [
    {
     "name": "stdout",
     "output_type": "stream",
     "text": [
      "[6.8588555e-01 1.7317921e-01 1.4093529e-01 8.9718641e-12 1.2190623e-23\n",
      " 5.9026243e-14 6.9532993e-16]\n",
      "0\n"
     ]
    }
   ],
   "source": [
    "print(np.squeeze(tflite_results))\n",
    "print(np.argmax(np.squeeze(tflite_results)))"
   ]
  }
 ],
 "metadata": {
  "kernelspec": {
   "display_name": "Python 3 (ipykernel)",
   "language": "python",
   "name": "python3"
  },
  "language_info": {
   "codemirror_mode": {
    "name": "ipython",
    "version": 3
   },
   "file_extension": ".py",
   "mimetype": "text/x-python",
   "name": "python",
   "nbconvert_exporter": "python",
   "pygments_lexer": "ipython3",
   "version": "3.10.4"
  }
 },
 "nbformat": 4,
 "nbformat_minor": 4
}