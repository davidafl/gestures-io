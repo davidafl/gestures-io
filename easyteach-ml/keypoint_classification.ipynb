{
 "cells": [
  {
   "cell_type": "code",
   "execution_count": 265,
   "metadata": {
    "pycharm": {
     "name": "#%%\n"
    }
   },
   "outputs": [],
   "source": [
    "import csv\n",
    "\n",
    "import numpy as np\n",
    "import tensorflow as tf\n",
    "from sklearn.model_selection import train_test_split\n",
    "\n",
    "RANDOM_SEED = 42"
   ]
  },
  {
   "cell_type": "markdown",
   "metadata": {
    "pycharm": {
     "name": "#%% md\n"
    }
   },
   "source": [
    "# Specify each path"
   ]
  },
  {
   "cell_type": "code",
   "execution_count": 266,
   "metadata": {
    "pycharm": {
     "name": "#%%\n"
    }
   },
   "outputs": [],
   "source": [
    "dataset = 'model/keypoint_classifier/keypoint.csv'\n",
    "model_save_path = 'model/keypoint_classifier/keypoint_classifier.hdf5'"
   ]
  },
  {
   "cell_type": "markdown",
   "metadata": {
    "pycharm": {
     "name": "#%% md\n"
    }
   },
   "source": [
    "# Number of classes"
   ]
  },
  {
   "cell_type": "code",
   "execution_count": 267,
   "metadata": {
    "pycharm": {
     "name": "#%%\n"
    }
   },
   "outputs": [],
   "source": [
    "NUM_CLASSES = 6"
   ]
  },
  {
   "cell_type": "markdown",
   "metadata": {
    "pycharm": {
     "name": "#%% md\n"
    }
   },
   "source": [
    "# Reading training data"
   ]
  },
  {
   "cell_type": "code",
   "execution_count": 268,
   "metadata": {
    "pycharm": {
     "name": "#%%\n"
    }
   },
   "outputs": [],
   "source": [
    "X_dataset = np.loadtxt(dataset, delimiter=',', dtype='float32', usecols=list(range(1, (21 * 2) + 1)))"
   ]
  },
  {
   "cell_type": "code",
   "execution_count": 269,
   "metadata": {
    "pycharm": {
     "name": "#%%\n"
    }
   },
   "outputs": [],
   "source": [
    "y_dataset = np.loadtxt(dataset, delimiter=',', dtype='int32', usecols=(0))"
   ]
  },
  {
   "cell_type": "code",
   "execution_count": 270,
   "metadata": {
    "pycharm": {
     "name": "#%%\n"
    }
   },
   "outputs": [],
   "source": [
    "X_train, X_test, y_train, y_test = train_test_split(X_dataset, y_dataset, train_size=0.75, random_state=RANDOM_SEED)"
   ]
  },
  {
   "cell_type": "markdown",
   "metadata": {
    "pycharm": {
     "name": "#%% md\n"
    }
   },
   "source": [
    "# Model building"
   ]
  },
  {
   "cell_type": "code",
   "execution_count": 271,
   "metadata": {
    "pycharm": {
     "name": "#%%\n"
    }
   },
   "outputs": [],
   "source": [
    "model = tf.keras.models.Sequential([\n",
    "    tf.keras.layers.Input((21 * 2, )),\n",
    "    tf.keras.layers.Dropout(0.2),\n",
    "    tf.keras.layers.Dense(20, activation='relu'),\n",
    "    tf.keras.layers.Dropout(0.4),\n",
    "    tf.keras.layers.Dense(10, activation='relu'),\n",
    "    tf.keras.layers.Dense(NUM_CLASSES, activation='softmax')\n",
    "])"
   ]
  },
  {
   "cell_type": "code",
   "execution_count": 272,
   "metadata": {
    "pycharm": {
     "name": "#%%\n"
    }
   },
   "outputs": [
    {
     "name": "stdout",
     "output_type": "stream",
     "text": [
      "Model: \"sequential_12\"\n",
      "_________________________________________________________________\n",
      " Layer (type)                Output Shape              Param #   \n",
      "=================================================================\n",
      " dropout_24 (Dropout)        (None, 42)                0         \n",
      "                                                                 \n",
      " dense_36 (Dense)            (None, 20)                860       \n",
      "                                                                 \n",
      " dropout_25 (Dropout)        (None, 20)                0         \n",
      "                                                                 \n",
      " dense_37 (Dense)            (None, 10)                210       \n",
      "                                                                 \n",
      " dense_38 (Dense)            (None, 6)                 66        \n",
      "                                                                 \n",
      "=================================================================\n",
      "Total params: 1,136\n",
      "Trainable params: 1,136\n",
      "Non-trainable params: 0\n",
      "_________________________________________________________________\n"
     ]
    }
   ],
   "source": [
    "model.summary()  # tf.keras.utils.plot_model(model, show_shapes=True)"
   ]
  },
  {
   "cell_type": "code",
   "execution_count": 273,
   "metadata": {
    "pycharm": {
     "name": "#%%\n"
    }
   },
   "outputs": [],
   "source": [
    "# Model checkpoint callback\n",
    "cp_callback = tf.keras.callbacks.ModelCheckpoint(\n",
    "    model_save_path, verbose=1, save_weights_only=False)\n",
    "# Early stopping callback\n",
    "es_callback = tf.keras.callbacks.EarlyStopping(patience=20, verbose=1)"
   ]
  },
  {
   "cell_type": "code",
   "execution_count": 274,
   "metadata": {
    "pycharm": {
     "name": "#%%\n"
    }
   },
   "outputs": [],
   "source": [
    "# Model compilation\n",
    "model.compile(\n",
    "    optimizer='adam',\n",
    "    loss='sparse_categorical_crossentropy',\n",
    "    metrics=['accuracy']\n",
    ")"
   ]
  },
  {
   "cell_type": "markdown",
   "metadata": {
    "pycharm": {
     "name": "#%% md\n"
    }
   },
   "source": [
    "# モデル訓練"
   ]
  },
  {
   "cell_type": "code",
   "execution_count": 275,
   "metadata": {
    "scrolled": true,
    "pycharm": {
     "name": "#%%\n"
    }
   },
   "outputs": [
    {
     "name": "stdout",
     "output_type": "stream",
     "text": [
      "Epoch 1/1000\n",
      " 1/10 [==>...........................] - ETA: 1s - loss: 1.9029 - accuracy: 0.1328\n",
      "Epoch 1: saving model to model/keypoint_classifier\\keypoint_classifier.hdf5\n",
      "10/10 [==============================] - 0s 14ms/step - loss: 1.8622 - accuracy: 0.1522 - val_loss: 1.7894 - val_accuracy: 0.1753\n",
      "Epoch 2/1000\n",
      " 1/10 [==>...........................] - ETA: 0s - loss: 1.7987 - accuracy: 0.1797\n",
      "Epoch 2: saving model to model/keypoint_classifier\\keypoint_classifier.hdf5\n",
      "10/10 [==============================] - 0s 4ms/step - loss: 1.7949 - accuracy: 0.1651 - val_loss: 1.7313 - val_accuracy: 0.2345\n",
      "Epoch 3/1000\n",
      " 1/10 [==>...........................] - ETA: 0s - loss: 1.7560 - accuracy: 0.1641\n",
      "Epoch 3: saving model to model/keypoint_classifier\\keypoint_classifier.hdf5\n",
      "10/10 [==============================] - 0s 5ms/step - loss: 1.7352 - accuracy: 0.2124 - val_loss: 1.6792 - val_accuracy: 0.4098\n",
      "Epoch 4/1000\n",
      " 1/10 [==>...........................] - ETA: 0s - loss: 1.7053 - accuracy: 0.2109\n",
      "Epoch 4: saving model to model/keypoint_classifier\\keypoint_classifier.hdf5\n",
      "10/10 [==============================] - 0s 4ms/step - loss: 1.6783 - accuracy: 0.2932 - val_loss: 1.6232 - val_accuracy: 0.5593\n",
      "Epoch 5/1000\n",
      " 1/10 [==>...........................] - ETA: 0s - loss: 1.6615 - accuracy: 0.3359\n",
      "Epoch 5: saving model to model/keypoint_classifier\\keypoint_classifier.hdf5\n",
      "10/10 [==============================] - 0s 3ms/step - loss: 1.6393 - accuracy: 0.3310 - val_loss: 1.5630 - val_accuracy: 0.5619\n",
      "Epoch 6/1000\n",
      " 1/10 [==>...........................] - ETA: 0s - loss: 1.5916 - accuracy: 0.3828\n",
      "Epoch 6: saving model to model/keypoint_classifier\\keypoint_classifier.hdf5\n",
      "10/10 [==============================] - 0s 4ms/step - loss: 1.5797 - accuracy: 0.3998 - val_loss: 1.5032 - val_accuracy: 0.5722\n",
      "Epoch 7/1000\n",
      " 1/10 [==>...........................] - ETA: 0s - loss: 1.5198 - accuracy: 0.4688\n",
      "Epoch 7: saving model to model/keypoint_classifier\\keypoint_classifier.hdf5\n",
      "10/10 [==============================] - 0s 5ms/step - loss: 1.5268 - accuracy: 0.4213 - val_loss: 1.4383 - val_accuracy: 0.6598\n",
      "Epoch 8/1000\n",
      " 1/10 [==>...........................] - ETA: 0s - loss: 1.4718 - accuracy: 0.4375\n",
      "Epoch 8: saving model to model/keypoint_classifier\\keypoint_classifier.hdf5\n",
      "10/10 [==============================] - 0s 4ms/step - loss: 1.4676 - accuracy: 0.4222 - val_loss: 1.3647 - val_accuracy: 0.6804\n",
      "Epoch 9/1000\n",
      " 1/10 [==>...........................] - ETA: 0s - loss: 1.4276 - accuracy: 0.4766\n",
      "Epoch 9: saving model to model/keypoint_classifier\\keypoint_classifier.hdf5\n",
      "10/10 [==============================] - 0s 6ms/step - loss: 1.4107 - accuracy: 0.4497 - val_loss: 1.2907 - val_accuracy: 0.6830\n",
      "Epoch 10/1000\n",
      " 1/10 [==>...........................] - ETA: 0s - loss: 1.4100 - accuracy: 0.4609\n",
      "Epoch 10: saving model to model/keypoint_classifier\\keypoint_classifier.hdf5\n",
      "10/10 [==============================] - 0s 5ms/step - loss: 1.3559 - accuracy: 0.4996 - val_loss: 1.2114 - val_accuracy: 0.6778\n",
      "Epoch 11/1000\n",
      " 1/10 [==>...........................] - ETA: 0s - loss: 1.3831 - accuracy: 0.4609\n",
      "Epoch 11: saving model to model/keypoint_classifier\\keypoint_classifier.hdf5\n",
      "10/10 [==============================] - 0s 5ms/step - loss: 1.2839 - accuracy: 0.5021 - val_loss: 1.1340 - val_accuracy: 0.6624\n",
      "Epoch 12/1000\n",
      " 1/10 [==>...........................] - ETA: 0s - loss: 1.2783 - accuracy: 0.5312\n",
      "Epoch 12: saving model to model/keypoint_classifier\\keypoint_classifier.hdf5\n",
      "10/10 [==============================] - 0s 6ms/step - loss: 1.2306 - accuracy: 0.5219 - val_loss: 1.0633 - val_accuracy: 0.6031\n",
      "Epoch 13/1000\n",
      " 1/10 [==>...........................] - ETA: 0s - loss: 1.1330 - accuracy: 0.6016\n",
      "Epoch 13: saving model to model/keypoint_classifier\\keypoint_classifier.hdf5\n",
      "10/10 [==============================] - 0s 3ms/step - loss: 1.1591 - accuracy: 0.5400 - val_loss: 0.9925 - val_accuracy: 0.6134\n",
      "Epoch 14/1000\n",
      " 1/10 [==>...........................] - ETA: 0s - loss: 1.1262 - accuracy: 0.5312\n",
      "Epoch 14: saving model to model/keypoint_classifier\\keypoint_classifier.hdf5\n",
      "10/10 [==============================] - 0s 5ms/step - loss: 1.0928 - accuracy: 0.5684 - val_loss: 0.9243 - val_accuracy: 0.6495\n",
      "Epoch 15/1000\n",
      " 1/10 [==>...........................] - ETA: 0s - loss: 1.0407 - accuracy: 0.6172\n",
      "Epoch 15: saving model to model/keypoint_classifier\\keypoint_classifier.hdf5\n",
      "10/10 [==============================] - 0s 4ms/step - loss: 1.0444 - accuracy: 0.5942 - val_loss: 0.8642 - val_accuracy: 0.7423\n",
      "Epoch 16/1000\n",
      " 1/10 [==>...........................] - ETA: 0s - loss: 1.0552 - accuracy: 0.6172\n",
      "Epoch 16: saving model to model/keypoint_classifier\\keypoint_classifier.hdf5\n",
      "10/10 [==============================] - 0s 4ms/step - loss: 0.9958 - accuracy: 0.6277 - val_loss: 0.8159 - val_accuracy: 0.7088\n",
      "Epoch 17/1000\n",
      " 1/10 [==>...........................] - ETA: 0s - loss: 0.9209 - accuracy: 0.6562\n",
      "Epoch 17: saving model to model/keypoint_classifier\\keypoint_classifier.hdf5\n",
      "10/10 [==============================] - 0s 4ms/step - loss: 0.9471 - accuracy: 0.6595 - val_loss: 0.7745 - val_accuracy: 0.7165\n",
      "Epoch 18/1000\n",
      " 1/10 [==>...........................] - ETA: 0s - loss: 0.9817 - accuracy: 0.6406\n",
      "Epoch 18: saving model to model/keypoint_classifier\\keypoint_classifier.hdf5\n",
      "10/10 [==============================] - 0s 4ms/step - loss: 0.9189 - accuracy: 0.6552 - val_loss: 0.7458 - val_accuracy: 0.7191\n",
      "Epoch 19/1000\n",
      " 1/10 [==>...........................] - ETA: 0s - loss: 0.8528 - accuracy: 0.6328\n",
      "Epoch 19: saving model to model/keypoint_classifier\\keypoint_classifier.hdf5\n",
      "10/10 [==============================] - 0s 5ms/step - loss: 0.9000 - accuracy: 0.6475 - val_loss: 0.7228 - val_accuracy: 0.7500\n",
      "Epoch 20/1000\n",
      " 1/10 [==>...........................] - ETA: 0s - loss: 0.7783 - accuracy: 0.7578\n",
      "Epoch 20: saving model to model/keypoint_classifier\\keypoint_classifier.hdf5\n",
      "10/10 [==============================] - 0s 5ms/step - loss: 0.8538 - accuracy: 0.6733 - val_loss: 0.7009 - val_accuracy: 0.7552\n",
      "Epoch 21/1000\n",
      " 1/10 [==>...........................] - ETA: 0s - loss: 0.8714 - accuracy: 0.6406\n",
      "Epoch 21: saving model to model/keypoint_classifier\\keypoint_classifier.hdf5\n",
      "10/10 [==============================] - 0s 4ms/step - loss: 0.8505 - accuracy: 0.6741 - val_loss: 0.6813 - val_accuracy: 0.7732\n",
      "Epoch 22/1000\n",
      " 1/10 [==>...........................] - ETA: 0s - loss: 0.8097 - accuracy: 0.6953\n",
      "Epoch 22: saving model to model/keypoint_classifier\\keypoint_classifier.hdf5\n",
      "10/10 [==============================] - 0s 4ms/step - loss: 0.8183 - accuracy: 0.6905 - val_loss: 0.6649 - val_accuracy: 0.7784\n",
      "Epoch 23/1000\n",
      " 1/10 [==>...........................] - ETA: 0s - loss: 0.7719 - accuracy: 0.7266\n",
      "Epoch 23: saving model to model/keypoint_classifier\\keypoint_classifier.hdf5\n",
      "10/10 [==============================] - 0s 4ms/step - loss: 0.8207 - accuracy: 0.6750 - val_loss: 0.6530 - val_accuracy: 0.8015\n",
      "Epoch 24/1000\n",
      " 1/10 [==>...........................] - ETA: 0s - loss: 0.8807 - accuracy: 0.6406\n",
      "Epoch 24: saving model to model/keypoint_classifier\\keypoint_classifier.hdf5\n",
      "10/10 [==============================] - 0s 5ms/step - loss: 0.8017 - accuracy: 0.7016 - val_loss: 0.6425 - val_accuracy: 0.8144\n",
      "Epoch 25/1000\n",
      " 1/10 [==>...........................] - ETA: 0s - loss: 0.8138 - accuracy: 0.7422\n",
      "Epoch 25: saving model to model/keypoint_classifier\\keypoint_classifier.hdf5\n",
      "10/10 [==============================] - 0s 4ms/step - loss: 0.7710 - accuracy: 0.7120 - val_loss: 0.6219 - val_accuracy: 0.8041\n",
      "Epoch 26/1000\n",
      " 1/10 [==>...........................] - ETA: 0s - loss: 0.7523 - accuracy: 0.6953\n",
      "Epoch 26: saving model to model/keypoint_classifier\\keypoint_classifier.hdf5\n",
      "10/10 [==============================] - 0s 4ms/step - loss: 0.7541 - accuracy: 0.7051 - val_loss: 0.6031 - val_accuracy: 0.7990\n",
      "Epoch 27/1000\n",
      " 1/10 [==>...........................] - ETA: 0s - loss: 0.7117 - accuracy: 0.7031\n",
      "Epoch 27: saving model to model/keypoint_classifier\\keypoint_classifier.hdf5\n",
      "10/10 [==============================] - 0s 4ms/step - loss: 0.7440 - accuracy: 0.7068 - val_loss: 0.5920 - val_accuracy: 0.8015\n",
      "Epoch 28/1000\n",
      " 1/10 [==>...........................] - ETA: 0s - loss: 0.6274 - accuracy: 0.7578\n",
      "Epoch 28: saving model to model/keypoint_classifier\\keypoint_classifier.hdf5\n",
      "10/10 [==============================] - 0s 6ms/step - loss: 0.7330 - accuracy: 0.7231 - val_loss: 0.5822 - val_accuracy: 0.8144\n",
      "Epoch 29/1000\n",
      " 1/10 [==>...........................] - ETA: 0s - loss: 0.6205 - accuracy: 0.8047\n",
      "Epoch 29: saving model to model/keypoint_classifier\\keypoint_classifier.hdf5\n",
      "10/10 [==============================] - 0s 4ms/step - loss: 0.7245 - accuracy: 0.7188 - val_loss: 0.5666 - val_accuracy: 0.8144\n",
      "Epoch 30/1000\n",
      " 1/10 [==>...........................] - ETA: 0s - loss: 0.6616 - accuracy: 0.7734\n",
      "Epoch 30: saving model to model/keypoint_classifier\\keypoint_classifier.hdf5\n",
      "10/10 [==============================] - 0s 4ms/step - loss: 0.7131 - accuracy: 0.7326 - val_loss: 0.5520 - val_accuracy: 0.8144\n",
      "Epoch 31/1000\n",
      " 1/10 [==>...........................] - ETA: 0s - loss: 0.5944 - accuracy: 0.7734\n",
      "Epoch 31: saving model to model/keypoint_classifier\\keypoint_classifier.hdf5\n",
      "10/10 [==============================] - 0s 4ms/step - loss: 0.6831 - accuracy: 0.7369 - val_loss: 0.5351 - val_accuracy: 0.8196\n",
      "Epoch 32/1000\n",
      " 1/10 [==>...........................] - ETA: 0s - loss: 0.6906 - accuracy: 0.7344\n",
      "Epoch 32: saving model to model/keypoint_classifier\\keypoint_classifier.hdf5\n",
      "10/10 [==============================] - 0s 5ms/step - loss: 0.6898 - accuracy: 0.7223 - val_loss: 0.5256 - val_accuracy: 0.8144\n",
      "Epoch 33/1000\n",
      " 1/10 [==>...........................] - ETA: 0s - loss: 0.6063 - accuracy: 0.7891\n",
      "Epoch 33: saving model to model/keypoint_classifier\\keypoint_classifier.hdf5\n",
      "10/10 [==============================] - 0s 5ms/step - loss: 0.6524 - accuracy: 0.7429 - val_loss: 0.5146 - val_accuracy: 0.8170\n",
      "Epoch 34/1000\n",
      " 1/10 [==>...........................] - ETA: 0s - loss: 0.6818 - accuracy: 0.7031\n",
      "Epoch 34: saving model to model/keypoint_classifier\\keypoint_classifier.hdf5\n",
      "10/10 [==============================] - 0s 4ms/step - loss: 0.6777 - accuracy: 0.7343 - val_loss: 0.5056 - val_accuracy: 0.8144\n",
      "Epoch 35/1000\n",
      " 1/10 [==>...........................] - ETA: 0s - loss: 0.6578 - accuracy: 0.7812\n",
      "Epoch 35: saving model to model/keypoint_classifier\\keypoint_classifier.hdf5\n",
      "10/10 [==============================] - 0s 5ms/step - loss: 0.6330 - accuracy: 0.7653 - val_loss: 0.4961 - val_accuracy: 0.8196\n",
      "Epoch 36/1000\n",
      " 1/10 [==>...........................] - ETA: 0s - loss: 0.5810 - accuracy: 0.7812\n",
      "Epoch 36: saving model to model/keypoint_classifier\\keypoint_classifier.hdf5\n",
      "10/10 [==============================] - 0s 3ms/step - loss: 0.6290 - accuracy: 0.7618 - val_loss: 0.4835 - val_accuracy: 0.8247\n",
      "Epoch 37/1000\n",
      " 1/10 [==>...........................] - ETA: 0s - loss: 0.7391 - accuracy: 0.6719\n",
      "Epoch 37: saving model to model/keypoint_classifier\\keypoint_classifier.hdf5\n",
      "10/10 [==============================] - 0s 5ms/step - loss: 0.6663 - accuracy: 0.7352 - val_loss: 0.4755 - val_accuracy: 0.8247\n",
      "Epoch 38/1000\n",
      " 1/10 [==>...........................] - ETA: 0s - loss: 0.6279 - accuracy: 0.7734\n",
      "Epoch 38: saving model to model/keypoint_classifier\\keypoint_classifier.hdf5\n",
      "10/10 [==============================] - 0s 5ms/step - loss: 0.6241 - accuracy: 0.7558 - val_loss: 0.4696 - val_accuracy: 0.8170\n",
      "Epoch 39/1000\n",
      " 1/10 [==>...........................] - ETA: 0s - loss: 0.6528 - accuracy: 0.7578\n",
      "Epoch 39: saving model to model/keypoint_classifier\\keypoint_classifier.hdf5\n",
      "10/10 [==============================] - 0s 5ms/step - loss: 0.6375 - accuracy: 0.7549 - val_loss: 0.4645 - val_accuracy: 0.8196\n",
      "Epoch 40/1000\n",
      " 1/10 [==>...........................] - ETA: 0s - loss: 0.5690 - accuracy: 0.7812\n",
      "Epoch 40: saving model to model/keypoint_classifier\\keypoint_classifier.hdf5\n",
      "10/10 [==============================] - 0s 5ms/step - loss: 0.6145 - accuracy: 0.7592 - val_loss: 0.4545 - val_accuracy: 0.8247\n",
      "Epoch 41/1000\n",
      " 1/10 [==>...........................] - ETA: 0s - loss: 0.6612 - accuracy: 0.7422\n",
      "Epoch 41: saving model to model/keypoint_classifier\\keypoint_classifier.hdf5\n",
      "10/10 [==============================] - 0s 5ms/step - loss: 0.6128 - accuracy: 0.7782 - val_loss: 0.4470 - val_accuracy: 0.8196\n",
      "Epoch 42/1000\n",
      " 1/10 [==>...........................] - ETA: 0s - loss: 0.6350 - accuracy: 0.7812\n",
      "Epoch 42: saving model to model/keypoint_classifier\\keypoint_classifier.hdf5\n",
      "10/10 [==============================] - 0s 5ms/step - loss: 0.6325 - accuracy: 0.7541 - val_loss: 0.4379 - val_accuracy: 0.8299\n",
      "Epoch 43/1000\n",
      " 1/10 [==>...........................] - ETA: 0s - loss: 0.4818 - accuracy: 0.8359\n",
      "Epoch 43: saving model to model/keypoint_classifier\\keypoint_classifier.hdf5\n",
      "10/10 [==============================] - 0s 5ms/step - loss: 0.5983 - accuracy: 0.7807 - val_loss: 0.4304 - val_accuracy: 0.8299\n",
      "Epoch 44/1000\n",
      " 1/10 [==>...........................] - ETA: 0s - loss: 0.6232 - accuracy: 0.7422\n",
      "Epoch 44: saving model to model/keypoint_classifier\\keypoint_classifier.hdf5\n",
      "10/10 [==============================] - 0s 3ms/step - loss: 0.5842 - accuracy: 0.7816 - val_loss: 0.4212 - val_accuracy: 0.8325\n",
      "Epoch 45/1000\n",
      " 1/10 [==>...........................] - ETA: 0s - loss: 0.6648 - accuracy: 0.7578\n",
      "Epoch 45: saving model to model/keypoint_classifier\\keypoint_classifier.hdf5\n",
      "10/10 [==============================] - 0s 5ms/step - loss: 0.5973 - accuracy: 0.7704 - val_loss: 0.4135 - val_accuracy: 0.8299\n",
      "Epoch 46/1000\n",
      " 1/10 [==>...........................] - ETA: 0s - loss: 0.6159 - accuracy: 0.7500\n",
      "Epoch 46: saving model to model/keypoint_classifier\\keypoint_classifier.hdf5\n",
      "10/10 [==============================] - 0s 5ms/step - loss: 0.5769 - accuracy: 0.7859 - val_loss: 0.4112 - val_accuracy: 0.8351\n",
      "Epoch 47/1000\n",
      " 1/10 [==>...........................] - ETA: 0s - loss: 0.6186 - accuracy: 0.7812\n",
      "Epoch 47: saving model to model/keypoint_classifier\\keypoint_classifier.hdf5\n",
      "10/10 [==============================] - 0s 4ms/step - loss: 0.5600 - accuracy: 0.7825 - val_loss: 0.3961 - val_accuracy: 0.8376\n",
      "Epoch 48/1000\n",
      " 1/10 [==>...........................] - ETA: 0s - loss: 0.5874 - accuracy: 0.7891\n",
      "Epoch 48: saving model to model/keypoint_classifier\\keypoint_classifier.hdf5\n",
      "10/10 [==============================] - 0s 3ms/step - loss: 0.5767 - accuracy: 0.7704 - val_loss: 0.3876 - val_accuracy: 0.8325\n",
      "Epoch 49/1000\n",
      " 1/10 [==>...........................] - ETA: 0s - loss: 0.5129 - accuracy: 0.8047\n",
      "Epoch 49: saving model to model/keypoint_classifier\\keypoint_classifier.hdf5\n",
      "10/10 [==============================] - 0s 3ms/step - loss: 0.5600 - accuracy: 0.7807 - val_loss: 0.3860 - val_accuracy: 0.8402\n",
      "Epoch 50/1000\n",
      " 1/10 [==>...........................] - ETA: 0s - loss: 0.4902 - accuracy: 0.8281\n",
      "Epoch 50: saving model to model/keypoint_classifier\\keypoint_classifier.hdf5\n",
      "10/10 [==============================] - 0s 3ms/step - loss: 0.5428 - accuracy: 0.7945 - val_loss: 0.3783 - val_accuracy: 0.8454\n",
      "Epoch 51/1000\n",
      " 1/10 [==>...........................] - ETA: 0s - loss: 0.4616 - accuracy: 0.8672\n",
      "Epoch 51: saving model to model/keypoint_classifier\\keypoint_classifier.hdf5\n",
      "10/10 [==============================] - 0s 4ms/step - loss: 0.5291 - accuracy: 0.7979 - val_loss: 0.3656 - val_accuracy: 0.8789\n",
      "Epoch 52/1000\n",
      " 1/10 [==>...........................] - ETA: 0s - loss: 0.5488 - accuracy: 0.7812\n",
      "Epoch 52: saving model to model/keypoint_classifier\\keypoint_classifier.hdf5\n",
      "10/10 [==============================] - 0s 5ms/step - loss: 0.5374 - accuracy: 0.7876 - val_loss: 0.3542 - val_accuracy: 0.8918\n",
      "Epoch 53/1000\n",
      " 1/10 [==>...........................] - ETA: 0s - loss: 0.5619 - accuracy: 0.7812\n",
      "Epoch 53: saving model to model/keypoint_classifier\\keypoint_classifier.hdf5\n",
      "10/10 [==============================] - 0s 5ms/step - loss: 0.5244 - accuracy: 0.8057 - val_loss: 0.3494 - val_accuracy: 0.8969\n",
      "Epoch 54/1000\n",
      " 1/10 [==>...........................] - ETA: 0s - loss: 0.4260 - accuracy: 0.8438\n",
      "Epoch 54: saving model to model/keypoint_classifier\\keypoint_classifier.hdf5\n",
      "10/10 [==============================] - 0s 5ms/step - loss: 0.5188 - accuracy: 0.8143 - val_loss: 0.3472 - val_accuracy: 0.8866\n",
      "Epoch 55/1000\n",
      " 1/10 [==>...........................] - ETA: 0s - loss: 0.4817 - accuracy: 0.8125\n",
      "Epoch 55: saving model to model/keypoint_classifier\\keypoint_classifier.hdf5\n",
      "10/10 [==============================] - 0s 6ms/step - loss: 0.5172 - accuracy: 0.8074 - val_loss: 0.3419 - val_accuracy: 0.8943\n",
      "Epoch 56/1000\n",
      " 1/10 [==>...........................] - ETA: 0s - loss: 0.5649 - accuracy: 0.7656\n",
      "Epoch 56: saving model to model/keypoint_classifier\\keypoint_classifier.hdf5\n",
      "10/10 [==============================] - 0s 5ms/step - loss: 0.5336 - accuracy: 0.7954 - val_loss: 0.3379 - val_accuracy: 0.8814\n",
      "Epoch 57/1000\n",
      " 1/10 [==>...........................] - ETA: 0s - loss: 0.4947 - accuracy: 0.7891\n",
      "Epoch 57: saving model to model/keypoint_classifier\\keypoint_classifier.hdf5\n",
      "10/10 [==============================] - 0s 5ms/step - loss: 0.5110 - accuracy: 0.8048 - val_loss: 0.3255 - val_accuracy: 0.9098\n",
      "Epoch 58/1000\n",
      " 1/10 [==>...........................] - ETA: 0s - loss: 0.6284 - accuracy: 0.7656\n",
      "Epoch 58: saving model to model/keypoint_classifier\\keypoint_classifier.hdf5\n",
      "10/10 [==============================] - 0s 5ms/step - loss: 0.5208 - accuracy: 0.8014 - val_loss: 0.3159 - val_accuracy: 0.9253\n",
      "Epoch 59/1000\n",
      " 1/10 [==>...........................] - ETA: 0s - loss: 0.4799 - accuracy: 0.7969\n",
      "Epoch 59: saving model to model/keypoint_classifier\\keypoint_classifier.hdf5\n",
      "10/10 [==============================] - 0s 5ms/step - loss: 0.5083 - accuracy: 0.8057 - val_loss: 0.3117 - val_accuracy: 0.9149\n",
      "Epoch 60/1000\n",
      " 1/10 [==>...........................] - ETA: 0s - loss: 0.5624 - accuracy: 0.7969\n",
      "Epoch 60: saving model to model/keypoint_classifier\\keypoint_classifier.hdf5\n",
      "10/10 [==============================] - 0s 5ms/step - loss: 0.4944 - accuracy: 0.8220 - val_loss: 0.3096 - val_accuracy: 0.9149\n",
      "Epoch 61/1000\n",
      " 1/10 [==>...........................] - ETA: 0s - loss: 0.6489 - accuracy: 0.7578\n",
      "Epoch 61: saving model to model/keypoint_classifier\\keypoint_classifier.hdf5\n",
      "10/10 [==============================] - 0s 4ms/step - loss: 0.5019 - accuracy: 0.8108 - val_loss: 0.3067 - val_accuracy: 0.9072\n",
      "Epoch 62/1000\n",
      " 1/10 [==>...........................] - ETA: 0s - loss: 0.4710 - accuracy: 0.8516\n",
      "Epoch 62: saving model to model/keypoint_classifier\\keypoint_classifier.hdf5\n",
      "10/10 [==============================] - 0s 4ms/step - loss: 0.4802 - accuracy: 0.8263 - val_loss: 0.3044 - val_accuracy: 0.9046\n",
      "Epoch 63/1000\n",
      " 1/10 [==>...........................] - ETA: 0s - loss: 0.4697 - accuracy: 0.8750\n",
      "Epoch 63: saving model to model/keypoint_classifier\\keypoint_classifier.hdf5\n",
      "10/10 [==============================] - 0s 4ms/step - loss: 0.4665 - accuracy: 0.8280 - val_loss: 0.2961 - val_accuracy: 0.9227\n",
      "Epoch 64/1000\n",
      " 1/10 [==>...........................] - ETA: 0s - loss: 0.4101 - accuracy: 0.8672\n",
      "Epoch 64: saving model to model/keypoint_classifier\\keypoint_classifier.hdf5\n",
      "10/10 [==============================] - 0s 3ms/step - loss: 0.4680 - accuracy: 0.8255 - val_loss: 0.2892 - val_accuracy: 0.9149\n",
      "Epoch 65/1000\n",
      " 1/10 [==>...........................] - ETA: 0s - loss: 0.4699 - accuracy: 0.8359\n",
      "Epoch 65: saving model to model/keypoint_classifier\\keypoint_classifier.hdf5\n",
      "10/10 [==============================] - 0s 3ms/step - loss: 0.4787 - accuracy: 0.8212 - val_loss: 0.2850 - val_accuracy: 0.9149\n",
      "Epoch 66/1000\n",
      " 1/10 [==>...........................] - ETA: 0s - loss: 0.5153 - accuracy: 0.7891\n",
      "Epoch 66: saving model to model/keypoint_classifier\\keypoint_classifier.hdf5\n",
      "10/10 [==============================] - 0s 5ms/step - loss: 0.4606 - accuracy: 0.8237 - val_loss: 0.2804 - val_accuracy: 0.9304\n",
      "Epoch 67/1000\n",
      " 1/10 [==>...........................] - ETA: 0s - loss: 0.5061 - accuracy: 0.8203\n",
      "Epoch 67: saving model to model/keypoint_classifier\\keypoint_classifier.hdf5\n",
      "10/10 [==============================] - 0s 5ms/step - loss: 0.4636 - accuracy: 0.8358 - val_loss: 0.2748 - val_accuracy: 0.9381\n",
      "Epoch 68/1000\n",
      " 1/10 [==>...........................] - ETA: 0s - loss: 0.4557 - accuracy: 0.8047\n",
      "Epoch 68: saving model to model/keypoint_classifier\\keypoint_classifier.hdf5\n",
      "10/10 [==============================] - 0s 4ms/step - loss: 0.4624 - accuracy: 0.8186 - val_loss: 0.2697 - val_accuracy: 0.9381\n",
      "Epoch 69/1000\n",
      " 1/10 [==>...........................] - ETA: 0s - loss: 0.5558 - accuracy: 0.8359\n",
      "Epoch 69: saving model to model/keypoint_classifier\\keypoint_classifier.hdf5\n",
      "10/10 [==============================] - 0s 5ms/step - loss: 0.4681 - accuracy: 0.8315 - val_loss: 0.2686 - val_accuracy: 0.9304\n",
      "Epoch 70/1000\n",
      " 1/10 [==>...........................] - ETA: 0s - loss: 0.4670 - accuracy: 0.7812\n",
      "Epoch 70: saving model to model/keypoint_classifier\\keypoint_classifier.hdf5\n",
      "10/10 [==============================] - 0s 3ms/step - loss: 0.4706 - accuracy: 0.8203 - val_loss: 0.2679 - val_accuracy: 0.9278\n",
      "Epoch 71/1000\n",
      " 1/10 [==>...........................] - ETA: 0s - loss: 0.4543 - accuracy: 0.8750\n",
      "Epoch 71: saving model to model/keypoint_classifier\\keypoint_classifier.hdf5\n",
      "10/10 [==============================] - 0s 5ms/step - loss: 0.4596 - accuracy: 0.8349 - val_loss: 0.2630 - val_accuracy: 0.9356\n",
      "Epoch 72/1000\n",
      " 1/10 [==>...........................] - ETA: 0s - loss: 0.4868 - accuracy: 0.7969\n",
      "Epoch 72: saving model to model/keypoint_classifier\\keypoint_classifier.hdf5\n",
      "10/10 [==============================] - 0s 4ms/step - loss: 0.4624 - accuracy: 0.8272 - val_loss: 0.2550 - val_accuracy: 0.9381\n",
      "Epoch 73/1000\n",
      " 1/10 [==>...........................] - ETA: 0s - loss: 0.4354 - accuracy: 0.8281\n",
      "Epoch 73: saving model to model/keypoint_classifier\\keypoint_classifier.hdf5\n",
      "10/10 [==============================] - 0s 5ms/step - loss: 0.4647 - accuracy: 0.8255 - val_loss: 0.2500 - val_accuracy: 0.9639\n",
      "Epoch 74/1000\n",
      " 1/10 [==>...........................] - ETA: 0s - loss: 0.4513 - accuracy: 0.8359\n",
      "Epoch 74: saving model to model/keypoint_classifier\\keypoint_classifier.hdf5\n",
      "10/10 [==============================] - 0s 4ms/step - loss: 0.4154 - accuracy: 0.8375 - val_loss: 0.2447 - val_accuracy: 0.9510\n",
      "Epoch 75/1000\n",
      " 1/10 [==>...........................] - ETA: 0s - loss: 0.3780 - accuracy: 0.8516\n",
      "Epoch 75: saving model to model/keypoint_classifier\\keypoint_classifier.hdf5\n",
      "10/10 [==============================] - 0s 3ms/step - loss: 0.4155 - accuracy: 0.8504 - val_loss: 0.2427 - val_accuracy: 0.9433\n",
      "Epoch 76/1000\n",
      " 1/10 [==>...........................] - ETA: 0s - loss: 0.3653 - accuracy: 0.8516\n",
      "Epoch 76: saving model to model/keypoint_classifier\\keypoint_classifier.hdf5\n",
      "10/10 [==============================] - 0s 4ms/step - loss: 0.4266 - accuracy: 0.8349 - val_loss: 0.2430 - val_accuracy: 0.9330\n",
      "Epoch 77/1000\n",
      " 1/10 [==>...........................] - ETA: 0s - loss: 0.3968 - accuracy: 0.8438\n",
      "Epoch 77: saving model to model/keypoint_classifier\\keypoint_classifier.hdf5\n",
      "10/10 [==============================] - 0s 5ms/step - loss: 0.4132 - accuracy: 0.8469 - val_loss: 0.2379 - val_accuracy: 0.9356\n",
      "Epoch 78/1000\n",
      " 1/10 [==>...........................] - ETA: 0s - loss: 0.4927 - accuracy: 0.8047\n",
      "Epoch 78: saving model to model/keypoint_classifier\\keypoint_classifier.hdf5\n",
      "10/10 [==============================] - 0s 5ms/step - loss: 0.4031 - accuracy: 0.8530 - val_loss: 0.2304 - val_accuracy: 0.9407\n",
      "Epoch 79/1000\n",
      " 1/10 [==>...........................] - ETA: 0s - loss: 0.4429 - accuracy: 0.9062\n",
      "Epoch 79: saving model to model/keypoint_classifier\\keypoint_classifier.hdf5\n",
      "10/10 [==============================] - 0s 3ms/step - loss: 0.4155 - accuracy: 0.8633 - val_loss: 0.2262 - val_accuracy: 0.9639\n",
      "Epoch 80/1000\n",
      " 1/10 [==>...........................] - ETA: 0s - loss: 0.4039 - accuracy: 0.8594\n",
      "Epoch 80: saving model to model/keypoint_classifier\\keypoint_classifier.hdf5\n",
      "10/10 [==============================] - 0s 4ms/step - loss: 0.4251 - accuracy: 0.8435 - val_loss: 0.2321 - val_accuracy: 0.9639\n",
      "Epoch 81/1000\n",
      " 1/10 [==>...........................] - ETA: 0s - loss: 0.4141 - accuracy: 0.8750\n",
      "Epoch 81: saving model to model/keypoint_classifier\\keypoint_classifier.hdf5\n",
      "10/10 [==============================] - 0s 3ms/step - loss: 0.4335 - accuracy: 0.8469 - val_loss: 0.2269 - val_accuracy: 0.9665\n",
      "Epoch 82/1000\n",
      " 1/10 [==>...........................] - ETA: 0s - loss: 0.4121 - accuracy: 0.8438\n",
      "Epoch 82: saving model to model/keypoint_classifier\\keypoint_classifier.hdf5\n",
      "10/10 [==============================] - 0s 4ms/step - loss: 0.3940 - accuracy: 0.8581 - val_loss: 0.2196 - val_accuracy: 0.9691\n",
      "Epoch 83/1000\n",
      " 1/10 [==>...........................] - ETA: 0s - loss: 0.3008 - accuracy: 0.8828\n",
      "Epoch 83: saving model to model/keypoint_classifier\\keypoint_classifier.hdf5\n",
      "10/10 [==============================] - 0s 5ms/step - loss: 0.4304 - accuracy: 0.8444 - val_loss: 0.2161 - val_accuracy: 0.9665\n",
      "Epoch 84/1000\n",
      " 1/10 [==>...........................] - ETA: 0s - loss: 0.4584 - accuracy: 0.8203\n",
      "Epoch 84: saving model to model/keypoint_classifier\\keypoint_classifier.hdf5\n",
      "10/10 [==============================] - 0s 5ms/step - loss: 0.3944 - accuracy: 0.8641 - val_loss: 0.2172 - val_accuracy: 0.9433\n",
      "Epoch 85/1000\n",
      " 1/10 [==>...........................] - ETA: 0s - loss: 0.4642 - accuracy: 0.8281\n",
      "Epoch 85: saving model to model/keypoint_classifier\\keypoint_classifier.hdf5\n",
      "10/10 [==============================] - 0s 4ms/step - loss: 0.4146 - accuracy: 0.8478 - val_loss: 0.2152 - val_accuracy: 0.9459\n",
      "Epoch 86/1000\n",
      " 1/10 [==>...........................] - ETA: 0s - loss: 0.3613 - accuracy: 0.8594\n",
      "Epoch 86: saving model to model/keypoint_classifier\\keypoint_classifier.hdf5\n",
      "10/10 [==============================] - 0s 4ms/step - loss: 0.3766 - accuracy: 0.8573 - val_loss: 0.2066 - val_accuracy: 0.9768\n",
      "Epoch 87/1000\n",
      " 1/10 [==>...........................] - ETA: 0s - loss: 0.3997 - accuracy: 0.8594\n",
      "Epoch 87: saving model to model/keypoint_classifier\\keypoint_classifier.hdf5\n",
      "10/10 [==============================] - 0s 4ms/step - loss: 0.3912 - accuracy: 0.8590 - val_loss: 0.2042 - val_accuracy: 0.9794\n",
      "Epoch 88/1000\n",
      " 1/10 [==>...........................] - ETA: 0s - loss: 0.3835 - accuracy: 0.8906\n",
      "Epoch 88: saving model to model/keypoint_classifier\\keypoint_classifier.hdf5\n",
      "10/10 [==============================] - 0s 5ms/step - loss: 0.3888 - accuracy: 0.8521 - val_loss: 0.2026 - val_accuracy: 0.9794\n",
      "Epoch 89/1000\n",
      " 1/10 [==>...........................] - ETA: 0s - loss: 0.3474 - accuracy: 0.9141\n",
      "Epoch 89: saving model to model/keypoint_classifier\\keypoint_classifier.hdf5\n",
      "10/10 [==============================] - 0s 4ms/step - loss: 0.3776 - accuracy: 0.8710 - val_loss: 0.2009 - val_accuracy: 0.9716\n",
      "Epoch 90/1000\n",
      " 1/10 [==>...........................] - ETA: 0s - loss: 0.4013 - accuracy: 0.8672\n",
      "Epoch 90: saving model to model/keypoint_classifier\\keypoint_classifier.hdf5\n",
      "10/10 [==============================] - 0s 5ms/step - loss: 0.4046 - accuracy: 0.8495 - val_loss: 0.2023 - val_accuracy: 0.9665\n",
      "Epoch 91/1000\n",
      " 1/10 [==>...........................] - ETA: 0s - loss: 0.3669 - accuracy: 0.8828\n",
      "Epoch 91: saving model to model/keypoint_classifier\\keypoint_classifier.hdf5\n",
      "10/10 [==============================] - 0s 3ms/step - loss: 0.4123 - accuracy: 0.8435 - val_loss: 0.1997 - val_accuracy: 0.9794\n",
      "Epoch 92/1000\n",
      " 1/10 [==>...........................] - ETA: 0s - loss: 0.4015 - accuracy: 0.8672\n",
      "Epoch 92: saving model to model/keypoint_classifier\\keypoint_classifier.hdf5\n",
      "10/10 [==============================] - 0s 4ms/step - loss: 0.3632 - accuracy: 0.8650 - val_loss: 0.1987 - val_accuracy: 0.9820\n",
      "Epoch 93/1000\n",
      " 1/10 [==>...........................] - ETA: 0s - loss: 0.4013 - accuracy: 0.8438\n",
      "Epoch 93: saving model to model/keypoint_classifier\\keypoint_classifier.hdf5\n",
      "10/10 [==============================] - 0s 5ms/step - loss: 0.4084 - accuracy: 0.8512 - val_loss: 0.1992 - val_accuracy: 0.9742\n",
      "Epoch 94/1000\n",
      " 1/10 [==>...........................] - ETA: 0s - loss: 0.4089 - accuracy: 0.8359\n",
      "Epoch 94: saving model to model/keypoint_classifier\\keypoint_classifier.hdf5\n",
      "10/10 [==============================] - 0s 4ms/step - loss: 0.3993 - accuracy: 0.8435 - val_loss: 0.1970 - val_accuracy: 0.9742\n",
      "Epoch 95/1000\n",
      " 1/10 [==>...........................] - ETA: 0s - loss: 0.4281 - accuracy: 0.8281\n",
      "Epoch 95: saving model to model/keypoint_classifier\\keypoint_classifier.hdf5\n",
      "10/10 [==============================] - 0s 4ms/step - loss: 0.3595 - accuracy: 0.8702 - val_loss: 0.1903 - val_accuracy: 0.9742\n",
      "Epoch 96/1000\n",
      " 1/10 [==>...........................] - ETA: 0s - loss: 0.3140 - accuracy: 0.8672\n",
      "Epoch 96: saving model to model/keypoint_classifier\\keypoint_classifier.hdf5\n",
      "10/10 [==============================] - 0s 4ms/step - loss: 0.3442 - accuracy: 0.8865 - val_loss: 0.1845 - val_accuracy: 0.9742\n",
      "Epoch 97/1000\n",
      " 1/10 [==>...........................] - ETA: 0s - loss: 0.3961 - accuracy: 0.8594\n",
      "Epoch 97: saving model to model/keypoint_classifier\\keypoint_classifier.hdf5\n",
      "10/10 [==============================] - 0s 5ms/step - loss: 0.3885 - accuracy: 0.8504 - val_loss: 0.1793 - val_accuracy: 0.9794\n",
      "Epoch 98/1000\n",
      " 1/10 [==>...........................] - ETA: 0s - loss: 0.3448 - accuracy: 0.8984\n",
      "Epoch 98: saving model to model/keypoint_classifier\\keypoint_classifier.hdf5\n",
      "10/10 [==============================] - 0s 4ms/step - loss: 0.3978 - accuracy: 0.8719 - val_loss: 0.1780 - val_accuracy: 0.9794\n",
      "Epoch 99/1000\n",
      " 1/10 [==>...........................] - ETA: 0s - loss: 0.3973 - accuracy: 0.8438\n",
      "Epoch 99: saving model to model/keypoint_classifier\\keypoint_classifier.hdf5\n",
      "10/10 [==============================] - 0s 4ms/step - loss: 0.3777 - accuracy: 0.8624 - val_loss: 0.1749 - val_accuracy: 0.9768\n",
      "Epoch 100/1000\n",
      " 1/10 [==>...........................] - ETA: 0s - loss: 0.3917 - accuracy: 0.8672\n",
      "Epoch 100: saving model to model/keypoint_classifier\\keypoint_classifier.hdf5\n",
      "10/10 [==============================] - 0s 5ms/step - loss: 0.3552 - accuracy: 0.8710 - val_loss: 0.1742 - val_accuracy: 0.9742\n",
      "Epoch 101/1000\n",
      " 1/10 [==>...........................] - ETA: 0s - loss: 0.3719 - accuracy: 0.8828\n",
      "Epoch 101: saving model to model/keypoint_classifier\\keypoint_classifier.hdf5\n",
      "10/10 [==============================] - 0s 3ms/step - loss: 0.3763 - accuracy: 0.8573 - val_loss: 0.1762 - val_accuracy: 0.9691\n",
      "Epoch 102/1000\n",
      " 1/10 [==>...........................] - ETA: 0s - loss: 0.4046 - accuracy: 0.8203\n",
      "Epoch 102: saving model to model/keypoint_classifier\\keypoint_classifier.hdf5\n",
      "10/10 [==============================] - 0s 5ms/step - loss: 0.3705 - accuracy: 0.8598 - val_loss: 0.1683 - val_accuracy: 0.9820\n",
      "Epoch 103/1000\n",
      " 1/10 [==>...........................] - ETA: 0s - loss: 0.3972 - accuracy: 0.8672\n",
      "Epoch 103: saving model to model/keypoint_classifier\\keypoint_classifier.hdf5\n",
      "10/10 [==============================] - 0s 4ms/step - loss: 0.3603 - accuracy: 0.8839 - val_loss: 0.1676 - val_accuracy: 0.9820\n",
      "Epoch 104/1000\n",
      " 1/10 [==>...........................] - ETA: 0s - loss: 0.2275 - accuracy: 0.9219\n",
      "Epoch 104: saving model to model/keypoint_classifier\\keypoint_classifier.hdf5\n",
      "10/10 [==============================] - 0s 5ms/step - loss: 0.3447 - accuracy: 0.8856 - val_loss: 0.1664 - val_accuracy: 0.9820\n",
      "Epoch 105/1000\n",
      " 1/10 [==>...........................] - ETA: 0s - loss: 0.3106 - accuracy: 0.9141\n",
      "Epoch 105: saving model to model/keypoint_classifier\\keypoint_classifier.hdf5\n",
      "10/10 [==============================] - 0s 3ms/step - loss: 0.3438 - accuracy: 0.8788 - val_loss: 0.1623 - val_accuracy: 0.9820\n",
      "Epoch 106/1000\n",
      " 1/10 [==>...........................] - ETA: 0s - loss: 0.3433 - accuracy: 0.8906\n",
      "Epoch 106: saving model to model/keypoint_classifier\\keypoint_classifier.hdf5\n",
      "10/10 [==============================] - 0s 4ms/step - loss: 0.3563 - accuracy: 0.8667 - val_loss: 0.1626 - val_accuracy: 0.9768\n",
      "Epoch 107/1000\n",
      " 1/10 [==>...........................] - ETA: 0s - loss: 0.4138 - accuracy: 0.8281\n",
      "Epoch 107: saving model to model/keypoint_classifier\\keypoint_classifier.hdf5\n",
      "10/10 [==============================] - 0s 4ms/step - loss: 0.3441 - accuracy: 0.8719 - val_loss: 0.1604 - val_accuracy: 0.9768\n",
      "Epoch 108/1000\n",
      " 1/10 [==>...........................] - ETA: 0s - loss: 0.4054 - accuracy: 0.8672\n",
      "Epoch 108: saving model to model/keypoint_classifier\\keypoint_classifier.hdf5\n",
      "10/10 [==============================] - 0s 5ms/step - loss: 0.3574 - accuracy: 0.8710 - val_loss: 0.1607 - val_accuracy: 0.9768\n",
      "Epoch 109/1000\n",
      " 1/10 [==>...........................] - ETA: 0s - loss: 0.3361 - accuracy: 0.8750\n",
      "Epoch 109: saving model to model/keypoint_classifier\\keypoint_classifier.hdf5\n",
      "10/10 [==============================] - 0s 6ms/step - loss: 0.3346 - accuracy: 0.8770 - val_loss: 0.1613 - val_accuracy: 0.9768\n",
      "Epoch 110/1000\n",
      " 1/10 [==>...........................] - ETA: 0s - loss: 0.3713 - accuracy: 0.8906\n",
      "Epoch 110: saving model to model/keypoint_classifier\\keypoint_classifier.hdf5\n",
      "10/10 [==============================] - 0s 4ms/step - loss: 0.3559 - accuracy: 0.8874 - val_loss: 0.1593 - val_accuracy: 0.9820\n",
      "Epoch 111/1000\n",
      " 1/10 [==>...........................] - ETA: 0s - loss: 0.3585 - accuracy: 0.8750\n",
      "Epoch 111: saving model to model/keypoint_classifier\\keypoint_classifier.hdf5\n",
      "10/10 [==============================] - 0s 4ms/step - loss: 0.3574 - accuracy: 0.8667 - val_loss: 0.1608 - val_accuracy: 0.9820\n",
      "Epoch 112/1000\n",
      " 1/10 [==>...........................] - ETA: 0s - loss: 0.2732 - accuracy: 0.9141\n",
      "Epoch 112: saving model to model/keypoint_classifier\\keypoint_classifier.hdf5\n",
      "10/10 [==============================] - 0s 4ms/step - loss: 0.3543 - accuracy: 0.8779 - val_loss: 0.1586 - val_accuracy: 0.9820\n",
      "Epoch 113/1000\n",
      " 1/10 [==>...........................] - ETA: 0s - loss: 0.2967 - accuracy: 0.8906\n",
      "Epoch 113: saving model to model/keypoint_classifier\\keypoint_classifier.hdf5\n",
      "10/10 [==============================] - 0s 5ms/step - loss: 0.3363 - accuracy: 0.8805 - val_loss: 0.1531 - val_accuracy: 0.9820\n",
      "Epoch 114/1000\n",
      " 1/10 [==>...........................] - ETA: 0s - loss: 0.3354 - accuracy: 0.8828\n",
      "Epoch 114: saving model to model/keypoint_classifier\\keypoint_classifier.hdf5\n",
      "10/10 [==============================] - 0s 4ms/step - loss: 0.3348 - accuracy: 0.8822 - val_loss: 0.1469 - val_accuracy: 0.9820\n",
      "Epoch 115/1000\n",
      " 1/10 [==>...........................] - ETA: 0s - loss: 0.4104 - accuracy: 0.8438\n",
      "Epoch 115: saving model to model/keypoint_classifier\\keypoint_classifier.hdf5\n",
      "10/10 [==============================] - 0s 4ms/step - loss: 0.3642 - accuracy: 0.8745 - val_loss: 0.1492 - val_accuracy: 0.9820\n",
      "Epoch 116/1000\n",
      " 1/10 [==>...........................] - ETA: 0s - loss: 0.2999 - accuracy: 0.8984\n",
      "Epoch 116: saving model to model/keypoint_classifier\\keypoint_classifier.hdf5\n",
      "10/10 [==============================] - 0s 4ms/step - loss: 0.3600 - accuracy: 0.8693 - val_loss: 0.1551 - val_accuracy: 0.9768\n",
      "Epoch 117/1000\n",
      " 1/10 [==>...........................] - ETA: 0s - loss: 0.2920 - accuracy: 0.8906\n",
      "Epoch 117: saving model to model/keypoint_classifier\\keypoint_classifier.hdf5\n",
      "10/10 [==============================] - 0s 4ms/step - loss: 0.3328 - accuracy: 0.8779 - val_loss: 0.1548 - val_accuracy: 0.9768\n",
      "Epoch 118/1000\n",
      " 1/10 [==>...........................] - ETA: 0s - loss: 0.4186 - accuracy: 0.8594\n",
      "Epoch 118: saving model to model/keypoint_classifier\\keypoint_classifier.hdf5\n",
      "10/10 [==============================] - 0s 6ms/step - loss: 0.3273 - accuracy: 0.8891 - val_loss: 0.1561 - val_accuracy: 0.9768\n",
      "Epoch 119/1000\n",
      " 1/10 [==>...........................] - ETA: 0s - loss: 0.3439 - accuracy: 0.8594\n",
      "Epoch 119: saving model to model/keypoint_classifier\\keypoint_classifier.hdf5\n",
      "10/10 [==============================] - 0s 5ms/step - loss: 0.3090 - accuracy: 0.8899 - val_loss: 0.1535 - val_accuracy: 0.9742\n",
      "Epoch 120/1000\n",
      " 1/10 [==>...........................] - ETA: 0s - loss: 0.3020 - accuracy: 0.8906\n",
      "Epoch 120: saving model to model/keypoint_classifier\\keypoint_classifier.hdf5\n",
      "10/10 [==============================] - 0s 5ms/step - loss: 0.3374 - accuracy: 0.8822 - val_loss: 0.1492 - val_accuracy: 0.9768\n",
      "Epoch 121/1000\n",
      " 1/10 [==>...........................] - ETA: 0s - loss: 0.2999 - accuracy: 0.9062\n",
      "Epoch 121: saving model to model/keypoint_classifier\\keypoint_classifier.hdf5\n",
      "10/10 [==============================] - 0s 4ms/step - loss: 0.3321 - accuracy: 0.8762 - val_loss: 0.1490 - val_accuracy: 0.9820\n",
      "Epoch 122/1000\n",
      " 1/10 [==>...........................] - ETA: 0s - loss: 0.2754 - accuracy: 0.9219\n",
      "Epoch 122: saving model to model/keypoint_classifier\\keypoint_classifier.hdf5\n",
      "10/10 [==============================] - 0s 6ms/step - loss: 0.3117 - accuracy: 0.8942 - val_loss: 0.1509 - val_accuracy: 0.9794\n",
      "Epoch 123/1000\n",
      " 1/10 [==>...........................] - ETA: 0s - loss: 0.4387 - accuracy: 0.8516\n",
      "Epoch 123: saving model to model/keypoint_classifier\\keypoint_classifier.hdf5\n",
      "10/10 [==============================] - 0s 4ms/step - loss: 0.3381 - accuracy: 0.8745 - val_loss: 0.1465 - val_accuracy: 0.9820\n",
      "Epoch 124/1000\n",
      " 1/10 [==>...........................] - ETA: 0s - loss: 0.3251 - accuracy: 0.8906\n",
      "Epoch 124: saving model to model/keypoint_classifier\\keypoint_classifier.hdf5\n",
      "10/10 [==============================] - 0s 6ms/step - loss: 0.3190 - accuracy: 0.8925 - val_loss: 0.1415 - val_accuracy: 0.9820\n",
      "Epoch 125/1000\n",
      " 1/10 [==>...........................] - ETA: 0s - loss: 0.3712 - accuracy: 0.8594\n",
      "Epoch 125: saving model to model/keypoint_classifier\\keypoint_classifier.hdf5\n",
      "10/10 [==============================] - 0s 4ms/step - loss: 0.3212 - accuracy: 0.8856 - val_loss: 0.1440 - val_accuracy: 0.9794\n",
      "Epoch 126/1000\n",
      " 1/10 [==>...........................] - ETA: 0s - loss: 0.3889 - accuracy: 0.8359\n",
      "Epoch 126: saving model to model/keypoint_classifier\\keypoint_classifier.hdf5\n",
      "10/10 [==============================] - 0s 5ms/step - loss: 0.3066 - accuracy: 0.8882 - val_loss: 0.1442 - val_accuracy: 0.9794\n",
      "Epoch 127/1000\n",
      " 1/10 [==>...........................] - ETA: 0s - loss: 0.2962 - accuracy: 0.8906\n",
      "Epoch 127: saving model to model/keypoint_classifier\\keypoint_classifier.hdf5\n",
      "10/10 [==============================] - 0s 4ms/step - loss: 0.3171 - accuracy: 0.8805 - val_loss: 0.1474 - val_accuracy: 0.9794\n",
      "Epoch 128/1000\n",
      " 1/10 [==>...........................] - ETA: 0s - loss: 0.3246 - accuracy: 0.8984\n",
      "Epoch 128: saving model to model/keypoint_classifier\\keypoint_classifier.hdf5\n",
      "10/10 [==============================] - 0s 4ms/step - loss: 0.3133 - accuracy: 0.8865 - val_loss: 0.1423 - val_accuracy: 0.9794\n",
      "Epoch 129/1000\n",
      " 1/10 [==>...........................] - ETA: 0s - loss: 0.4525 - accuracy: 0.8359\n",
      "Epoch 129: saving model to model/keypoint_classifier\\keypoint_classifier.hdf5\n",
      "10/10 [==============================] - 0s 5ms/step - loss: 0.3512 - accuracy: 0.8745 - val_loss: 0.1407 - val_accuracy: 0.9794\n",
      "Epoch 130/1000\n",
      " 1/10 [==>...........................] - ETA: 0s - loss: 0.3348 - accuracy: 0.8594\n",
      "Epoch 130: saving model to model/keypoint_classifier\\keypoint_classifier.hdf5\n",
      "10/10 [==============================] - 0s 6ms/step - loss: 0.2960 - accuracy: 0.8805 - val_loss: 0.1404 - val_accuracy: 0.9742\n",
      "Epoch 131/1000\n",
      " 1/10 [==>...........................] - ETA: 0s - loss: 0.3193 - accuracy: 0.8906\n",
      "Epoch 131: saving model to model/keypoint_classifier\\keypoint_classifier.hdf5\n",
      "10/10 [==============================] - 0s 4ms/step - loss: 0.3247 - accuracy: 0.8951 - val_loss: 0.1339 - val_accuracy: 0.9794\n",
      "Epoch 132/1000\n",
      " 1/10 [==>...........................] - ETA: 0s - loss: 0.2966 - accuracy: 0.8984\n",
      "Epoch 132: saving model to model/keypoint_classifier\\keypoint_classifier.hdf5\n",
      "10/10 [==============================] - 0s 6ms/step - loss: 0.3041 - accuracy: 0.8951 - val_loss: 0.1288 - val_accuracy: 0.9820\n",
      "Epoch 133/1000\n",
      " 1/10 [==>...........................] - ETA: 0s - loss: 0.3253 - accuracy: 0.8828\n",
      "Epoch 133: saving model to model/keypoint_classifier\\keypoint_classifier.hdf5\n",
      "10/10 [==============================] - 0s 4ms/step - loss: 0.3321 - accuracy: 0.8856 - val_loss: 0.1274 - val_accuracy: 0.9820\n",
      "Epoch 134/1000\n",
      " 1/10 [==>...........................] - ETA: 0s - loss: 0.3037 - accuracy: 0.9062\n",
      "Epoch 134: saving model to model/keypoint_classifier\\keypoint_classifier.hdf5\n",
      "10/10 [==============================] - 0s 5ms/step - loss: 0.2915 - accuracy: 0.9071 - val_loss: 0.1288 - val_accuracy: 0.9820\n",
      "Epoch 135/1000\n",
      " 1/10 [==>...........................] - ETA: 0s - loss: 0.3076 - accuracy: 0.8828\n",
      "Epoch 135: saving model to model/keypoint_classifier\\keypoint_classifier.hdf5\n",
      "10/10 [==============================] - 0s 4ms/step - loss: 0.3265 - accuracy: 0.8917 - val_loss: 0.1273 - val_accuracy: 0.9794\n",
      "Epoch 136/1000\n",
      " 1/10 [==>...........................] - ETA: 0s - loss: 0.3302 - accuracy: 0.8906\n",
      "Epoch 136: saving model to model/keypoint_classifier\\keypoint_classifier.hdf5\n",
      "10/10 [==============================] - 0s 3ms/step - loss: 0.3280 - accuracy: 0.8839 - val_loss: 0.1290 - val_accuracy: 0.9820\n",
      "Epoch 137/1000\n",
      " 1/10 [==>...........................] - ETA: 0s - loss: 0.2310 - accuracy: 0.9219\n",
      "Epoch 137: saving model to model/keypoint_classifier\\keypoint_classifier.hdf5\n",
      "10/10 [==============================] - 0s 4ms/step - loss: 0.2968 - accuracy: 0.8899 - val_loss: 0.1386 - val_accuracy: 0.9768\n",
      "Epoch 138/1000\n",
      " 1/10 [==>...........................] - ETA: 0s - loss: 0.3983 - accuracy: 0.8672\n",
      "Epoch 138: saving model to model/keypoint_classifier\\keypoint_classifier.hdf5\n",
      "10/10 [==============================] - 0s 4ms/step - loss: 0.3273 - accuracy: 0.8831 - val_loss: 0.1357 - val_accuracy: 0.9768\n",
      "Epoch 139/1000\n",
      " 1/10 [==>...........................] - ETA: 0s - loss: 0.3382 - accuracy: 0.8984\n",
      "Epoch 139: saving model to model/keypoint_classifier\\keypoint_classifier.hdf5\n",
      "10/10 [==============================] - 0s 5ms/step - loss: 0.3059 - accuracy: 0.8977 - val_loss: 0.1310 - val_accuracy: 0.9820\n",
      "Epoch 140/1000\n",
      " 1/10 [==>...........................] - ETA: 0s - loss: 0.4060 - accuracy: 0.8281\n",
      "Epoch 140: saving model to model/keypoint_classifier\\keypoint_classifier.hdf5\n",
      "10/10 [==============================] - 0s 5ms/step - loss: 0.3057 - accuracy: 0.8831 - val_loss: 0.1273 - val_accuracy: 0.9820\n",
      "Epoch 141/1000\n",
      " 1/10 [==>...........................] - ETA: 0s - loss: 0.2832 - accuracy: 0.9062\n",
      "Epoch 141: saving model to model/keypoint_classifier\\keypoint_classifier.hdf5\n",
      "10/10 [==============================] - 0s 5ms/step - loss: 0.3031 - accuracy: 0.8813 - val_loss: 0.1252 - val_accuracy: 0.9820\n",
      "Epoch 142/1000\n",
      " 1/10 [==>...........................] - ETA: 0s - loss: 0.3270 - accuracy: 0.8750\n",
      "Epoch 142: saving model to model/keypoint_classifier\\keypoint_classifier.hdf5\n",
      "10/10 [==============================] - 0s 5ms/step - loss: 0.3279 - accuracy: 0.8693 - val_loss: 0.1252 - val_accuracy: 0.9820\n",
      "Epoch 143/1000\n",
      " 1/10 [==>...........................] - ETA: 0s - loss: 0.2385 - accuracy: 0.9297\n",
      "Epoch 143: saving model to model/keypoint_classifier\\keypoint_classifier.hdf5\n",
      "10/10 [==============================] - 0s 3ms/step - loss: 0.3047 - accuracy: 0.8968 - val_loss: 0.1277 - val_accuracy: 0.9794\n",
      "Epoch 144/1000\n",
      " 1/10 [==>...........................] - ETA: 0s - loss: 0.2470 - accuracy: 0.9219\n",
      "Epoch 144: saving model to model/keypoint_classifier\\keypoint_classifier.hdf5\n",
      "10/10 [==============================] - 0s 5ms/step - loss: 0.3061 - accuracy: 0.8908 - val_loss: 0.1257 - val_accuracy: 0.9794\n",
      "Epoch 145/1000\n",
      " 1/10 [==>...........................] - ETA: 0s - loss: 0.2262 - accuracy: 0.9062\n",
      "Epoch 145: saving model to model/keypoint_classifier\\keypoint_classifier.hdf5\n",
      "10/10 [==============================] - 0s 5ms/step - loss: 0.3232 - accuracy: 0.8805 - val_loss: 0.1265 - val_accuracy: 0.9820\n",
      "Epoch 146/1000\n",
      " 1/10 [==>...........................] - ETA: 0s - loss: 0.3357 - accuracy: 0.9062\n",
      "Epoch 146: saving model to model/keypoint_classifier\\keypoint_classifier.hdf5\n",
      "10/10 [==============================] - 0s 5ms/step - loss: 0.3327 - accuracy: 0.8839 - val_loss: 0.1313 - val_accuracy: 0.9768\n",
      "Epoch 147/1000\n",
      " 1/10 [==>...........................] - ETA: 0s - loss: 0.3208 - accuracy: 0.8984\n",
      "Epoch 147: saving model to model/keypoint_classifier\\keypoint_classifier.hdf5\n",
      "10/10 [==============================] - 0s 5ms/step - loss: 0.3038 - accuracy: 0.8994 - val_loss: 0.1323 - val_accuracy: 0.9742\n",
      "Epoch 148/1000\n",
      " 1/10 [==>...........................] - ETA: 0s - loss: 0.2752 - accuracy: 0.8906\n",
      "Epoch 148: saving model to model/keypoint_classifier\\keypoint_classifier.hdf5\n",
      "10/10 [==============================] - 0s 5ms/step - loss: 0.2886 - accuracy: 0.8865 - val_loss: 0.1307 - val_accuracy: 0.9794\n",
      "Epoch 149/1000\n",
      " 1/10 [==>...........................] - ETA: 0s - loss: 0.2998 - accuracy: 0.8750\n",
      "Epoch 149: saving model to model/keypoint_classifier\\keypoint_classifier.hdf5\n",
      "10/10 [==============================] - 0s 5ms/step - loss: 0.2888 - accuracy: 0.8925 - val_loss: 0.1238 - val_accuracy: 0.9820\n",
      "Epoch 150/1000\n",
      " 1/10 [==>...........................] - ETA: 0s - loss: 0.3556 - accuracy: 0.8594\n",
      "Epoch 150: saving model to model/keypoint_classifier\\keypoint_classifier.hdf5\n",
      "10/10 [==============================] - 0s 3ms/step - loss: 0.3043 - accuracy: 0.8908 - val_loss: 0.1245 - val_accuracy: 0.9820\n",
      "Epoch 151/1000\n",
      " 1/10 [==>...........................] - ETA: 0s - loss: 0.2834 - accuracy: 0.8984\n",
      "Epoch 151: saving model to model/keypoint_classifier\\keypoint_classifier.hdf5\n",
      "10/10 [==============================] - 0s 5ms/step - loss: 0.2922 - accuracy: 0.9020 - val_loss: 0.1311 - val_accuracy: 0.9820\n",
      "Epoch 152/1000\n",
      " 1/10 [==>...........................] - ETA: 0s - loss: 0.2829 - accuracy: 0.9219\n",
      "Epoch 152: saving model to model/keypoint_classifier\\keypoint_classifier.hdf5\n",
      "10/10 [==============================] - 0s 5ms/step - loss: 0.2896 - accuracy: 0.8960 - val_loss: 0.1287 - val_accuracy: 0.9820\n",
      "Epoch 153/1000\n",
      " 1/10 [==>...........................] - ETA: 0s - loss: 0.2858 - accuracy: 0.8516\n",
      "Epoch 153: saving model to model/keypoint_classifier\\keypoint_classifier.hdf5\n",
      "10/10 [==============================] - 0s 5ms/step - loss: 0.2746 - accuracy: 0.8977 - val_loss: 0.1225 - val_accuracy: 0.9820\n",
      "Epoch 154/1000\n",
      " 1/10 [==>...........................] - ETA: 0s - loss: 0.2929 - accuracy: 0.8984\n",
      "Epoch 154: saving model to model/keypoint_classifier\\keypoint_classifier.hdf5\n",
      "10/10 [==============================] - 0s 5ms/step - loss: 0.2648 - accuracy: 0.9132 - val_loss: 0.1221 - val_accuracy: 0.9820\n",
      "Epoch 155/1000\n",
      " 1/10 [==>...........................] - ETA: 0s - loss: 0.3092 - accuracy: 0.8828\n",
      "Epoch 155: saving model to model/keypoint_classifier\\keypoint_classifier.hdf5\n",
      "10/10 [==============================] - 0s 5ms/step - loss: 0.3047 - accuracy: 0.8822 - val_loss: 0.1192 - val_accuracy: 0.9845\n",
      "Epoch 156/1000\n",
      " 1/10 [==>...........................] - ETA: 0s - loss: 0.2980 - accuracy: 0.9062\n",
      "Epoch 156: saving model to model/keypoint_classifier\\keypoint_classifier.hdf5\n",
      "10/10 [==============================] - 0s 6ms/step - loss: 0.2799 - accuracy: 0.9028 - val_loss: 0.1156 - val_accuracy: 0.9845\n",
      "Epoch 157/1000\n",
      " 1/10 [==>...........................] - ETA: 0s - loss: 0.3092 - accuracy: 0.8984\n",
      "Epoch 157: saving model to model/keypoint_classifier\\keypoint_classifier.hdf5\n",
      "10/10 [==============================] - 0s 5ms/step - loss: 0.3041 - accuracy: 0.8942 - val_loss: 0.1143 - val_accuracy: 0.9820\n",
      "Epoch 158/1000\n",
      " 1/10 [==>...........................] - ETA: 0s - loss: 0.3650 - accuracy: 0.8672\n",
      "Epoch 158: saving model to model/keypoint_classifier\\keypoint_classifier.hdf5\n",
      "10/10 [==============================] - 0s 5ms/step - loss: 0.2853 - accuracy: 0.8951 - val_loss: 0.1149 - val_accuracy: 0.9820\n",
      "Epoch 159/1000\n",
      " 1/10 [==>...........................] - ETA: 0s - loss: 0.3177 - accuracy: 0.8516\n",
      "Epoch 159: saving model to model/keypoint_classifier\\keypoint_classifier.hdf5\n",
      "10/10 [==============================] - 0s 4ms/step - loss: 0.3194 - accuracy: 0.8839 - val_loss: 0.1156 - val_accuracy: 0.9845\n",
      "Epoch 160/1000\n",
      " 1/10 [==>...........................] - ETA: 0s - loss: 0.2845 - accuracy: 0.9062\n",
      "Epoch 160: saving model to model/keypoint_classifier\\keypoint_classifier.hdf5\n",
      "10/10 [==============================] - 0s 3ms/step - loss: 0.2924 - accuracy: 0.8917 - val_loss: 0.1141 - val_accuracy: 0.9871\n",
      "Epoch 161/1000\n",
      " 1/10 [==>...........................] - ETA: 0s - loss: 0.2847 - accuracy: 0.8906\n",
      "Epoch 161: saving model to model/keypoint_classifier\\keypoint_classifier.hdf5\n",
      "10/10 [==============================] - 0s 5ms/step - loss: 0.3013 - accuracy: 0.8822 - val_loss: 0.1155 - val_accuracy: 0.9871\n",
      "Epoch 162/1000\n",
      " 1/10 [==>...........................] - ETA: 0s - loss: 0.2917 - accuracy: 0.9062\n",
      "Epoch 162: saving model to model/keypoint_classifier\\keypoint_classifier.hdf5\n",
      "10/10 [==============================] - 0s 4ms/step - loss: 0.2960 - accuracy: 0.9011 - val_loss: 0.1239 - val_accuracy: 0.9845\n",
      "Epoch 163/1000\n",
      " 1/10 [==>...........................] - ETA: 0s - loss: 0.2897 - accuracy: 0.8750\n",
      "Epoch 163: saving model to model/keypoint_classifier\\keypoint_classifier.hdf5\n",
      "10/10 [==============================] - 0s 4ms/step - loss: 0.2702 - accuracy: 0.9020 - val_loss: 0.1240 - val_accuracy: 0.9845\n",
      "Epoch 164/1000\n",
      " 1/10 [==>...........................] - ETA: 0s - loss: 0.2843 - accuracy: 0.8828\n",
      "Epoch 164: saving model to model/keypoint_classifier\\keypoint_classifier.hdf5\n",
      "10/10 [==============================] - 0s 5ms/step - loss: 0.2819 - accuracy: 0.9037 - val_loss: 0.1289 - val_accuracy: 0.9794\n",
      "Epoch 165/1000\n",
      " 1/10 [==>...........................] - ETA: 0s - loss: 0.2240 - accuracy: 0.9453\n",
      "Epoch 165: saving model to model/keypoint_classifier\\keypoint_classifier.hdf5\n",
      "10/10 [==============================] - 0s 6ms/step - loss: 0.3183 - accuracy: 0.8796 - val_loss: 0.1235 - val_accuracy: 0.9820\n",
      "Epoch 166/1000\n",
      " 1/10 [==>...........................] - ETA: 0s - loss: 0.3563 - accuracy: 0.8516\n",
      "Epoch 166: saving model to model/keypoint_classifier\\keypoint_classifier.hdf5\n",
      "10/10 [==============================] - 0s 3ms/step - loss: 0.2857 - accuracy: 0.8934 - val_loss: 0.1201 - val_accuracy: 0.9820\n",
      "Epoch 167/1000\n",
      " 1/10 [==>...........................] - ETA: 0s - loss: 0.3469 - accuracy: 0.8672\n",
      "Epoch 167: saving model to model/keypoint_classifier\\keypoint_classifier.hdf5\n",
      "10/10 [==============================] - 0s 4ms/step - loss: 0.3011 - accuracy: 0.8985 - val_loss: 0.1178 - val_accuracy: 0.9845\n",
      "Epoch 168/1000\n",
      " 1/10 [==>...........................] - ETA: 0s - loss: 0.2713 - accuracy: 0.9062\n",
      "Epoch 168: saving model to model/keypoint_classifier\\keypoint_classifier.hdf5\n",
      "10/10 [==============================] - 0s 5ms/step - loss: 0.2964 - accuracy: 0.8917 - val_loss: 0.1177 - val_accuracy: 0.9845\n",
      "Epoch 169/1000\n",
      " 1/10 [==>...........................] - ETA: 0s - loss: 0.2311 - accuracy: 0.9141\n",
      "Epoch 169: saving model to model/keypoint_classifier\\keypoint_classifier.hdf5\n",
      "10/10 [==============================] - 0s 5ms/step - loss: 0.2741 - accuracy: 0.9132 - val_loss: 0.1196 - val_accuracy: 0.9871\n",
      "Epoch 170/1000\n",
      " 1/10 [==>...........................] - ETA: 0s - loss: 0.2511 - accuracy: 0.8984\n",
      "Epoch 170: saving model to model/keypoint_classifier\\keypoint_classifier.hdf5\n",
      "10/10 [==============================] - 0s 4ms/step - loss: 0.2800 - accuracy: 0.9089 - val_loss: 0.1236 - val_accuracy: 0.9845\n",
      "Epoch 171/1000\n",
      " 1/10 [==>...........................] - ETA: 0s - loss: 0.3253 - accuracy: 0.8828\n",
      "Epoch 171: saving model to model/keypoint_classifier\\keypoint_classifier.hdf5\n",
      "10/10 [==============================] - 0s 5ms/step - loss: 0.2661 - accuracy: 0.9003 - val_loss: 0.1221 - val_accuracy: 0.9871\n",
      "Epoch 172/1000\n",
      " 1/10 [==>...........................] - ETA: 0s - loss: 0.2470 - accuracy: 0.9062\n",
      "Epoch 172: saving model to model/keypoint_classifier\\keypoint_classifier.hdf5\n",
      "10/10 [==============================] - 0s 4ms/step - loss: 0.2787 - accuracy: 0.8994 - val_loss: 0.1131 - val_accuracy: 0.9820\n",
      "Epoch 173/1000\n",
      " 1/10 [==>...........................] - ETA: 0s - loss: 0.3111 - accuracy: 0.9062\n",
      "Epoch 173: saving model to model/keypoint_classifier\\keypoint_classifier.hdf5\n",
      "10/10 [==============================] - 0s 5ms/step - loss: 0.2889 - accuracy: 0.9011 - val_loss: 0.1099 - val_accuracy: 0.9845\n",
      "Epoch 174/1000\n",
      " 1/10 [==>...........................] - ETA: 0s - loss: 0.4008 - accuracy: 0.8906\n",
      "Epoch 174: saving model to model/keypoint_classifier\\keypoint_classifier.hdf5\n",
      "10/10 [==============================] - 0s 6ms/step - loss: 0.2847 - accuracy: 0.8968 - val_loss: 0.1106 - val_accuracy: 0.9845\n",
      "Epoch 175/1000\n",
      " 1/10 [==>...........................] - ETA: 0s - loss: 0.2496 - accuracy: 0.9297\n",
      "Epoch 175: saving model to model/keypoint_classifier\\keypoint_classifier.hdf5\n",
      "10/10 [==============================] - 0s 6ms/step - loss: 0.2617 - accuracy: 0.9063 - val_loss: 0.1073 - val_accuracy: 0.9820\n",
      "Epoch 176/1000\n",
      " 1/10 [==>...........................] - ETA: 0s - loss: 0.2809 - accuracy: 0.8906\n",
      "Epoch 176: saving model to model/keypoint_classifier\\keypoint_classifier.hdf5\n",
      "10/10 [==============================] - 0s 5ms/step - loss: 0.2683 - accuracy: 0.9011 - val_loss: 0.1080 - val_accuracy: 0.9820\n",
      "Epoch 177/1000\n",
      " 1/10 [==>...........................] - ETA: 0s - loss: 0.2372 - accuracy: 0.8984\n",
      "Epoch 177: saving model to model/keypoint_classifier\\keypoint_classifier.hdf5\n",
      "10/10 [==============================] - 0s 5ms/step - loss: 0.2980 - accuracy: 0.8865 - val_loss: 0.1135 - val_accuracy: 0.9820\n",
      "Epoch 178/1000\n",
      " 1/10 [==>...........................] - ETA: 0s - loss: 0.2437 - accuracy: 0.9219\n",
      "Epoch 178: saving model to model/keypoint_classifier\\keypoint_classifier.hdf5\n",
      "10/10 [==============================] - 0s 3ms/step - loss: 0.2588 - accuracy: 0.9132 - val_loss: 0.1105 - val_accuracy: 0.9820\n",
      "Epoch 179/1000\n",
      " 1/10 [==>...........................] - ETA: 0s - loss: 0.2903 - accuracy: 0.8906\n",
      "Epoch 179: saving model to model/keypoint_classifier\\keypoint_classifier.hdf5\n",
      "10/10 [==============================] - 0s 5ms/step - loss: 0.2749 - accuracy: 0.9011 - val_loss: 0.1073 - val_accuracy: 0.9845\n",
      "Epoch 180/1000\n",
      " 1/10 [==>...........................] - ETA: 0s - loss: 0.2505 - accuracy: 0.9141\n",
      "Epoch 180: saving model to model/keypoint_classifier\\keypoint_classifier.hdf5\n",
      "10/10 [==============================] - 0s 4ms/step - loss: 0.2810 - accuracy: 0.9028 - val_loss: 0.1068 - val_accuracy: 0.9845\n",
      "Epoch 181/1000\n",
      " 1/10 [==>...........................] - ETA: 0s - loss: 0.2281 - accuracy: 0.9297\n",
      "Epoch 181: saving model to model/keypoint_classifier\\keypoint_classifier.hdf5\n",
      "10/10 [==============================] - 0s 5ms/step - loss: 0.2678 - accuracy: 0.9123 - val_loss: 0.1104 - val_accuracy: 0.9871\n",
      "Epoch 182/1000\n",
      " 1/10 [==>...........................] - ETA: 0s - loss: 0.2084 - accuracy: 0.9375\n",
      "Epoch 182: saving model to model/keypoint_classifier\\keypoint_classifier.hdf5\n",
      "10/10 [==============================] - 0s 5ms/step - loss: 0.2549 - accuracy: 0.9166 - val_loss: 0.1102 - val_accuracy: 0.9871\n",
      "Epoch 183/1000\n",
      " 1/10 [==>...........................] - ETA: 0s - loss: 0.2515 - accuracy: 0.9141\n",
      "Epoch 183: saving model to model/keypoint_classifier\\keypoint_classifier.hdf5\n",
      "10/10 [==============================] - 0s 3ms/step - loss: 0.2779 - accuracy: 0.9037 - val_loss: 0.1119 - val_accuracy: 0.9871\n",
      "Epoch 184/1000\n",
      " 1/10 [==>...........................] - ETA: 0s - loss: 0.3692 - accuracy: 0.8828\n",
      "Epoch 184: saving model to model/keypoint_classifier\\keypoint_classifier.hdf5\n",
      "10/10 [==============================] - 0s 5ms/step - loss: 0.3041 - accuracy: 0.8848 - val_loss: 0.1122 - val_accuracy: 0.9845\n",
      "Epoch 185/1000\n",
      " 1/10 [==>...........................] - ETA: 0s - loss: 0.3019 - accuracy: 0.8750\n",
      "Epoch 185: saving model to model/keypoint_classifier\\keypoint_classifier.hdf5\n",
      "10/10 [==============================] - 0s 5ms/step - loss: 0.2839 - accuracy: 0.8942 - val_loss: 0.1092 - val_accuracy: 0.9820\n",
      "Epoch 186/1000\n",
      " 1/10 [==>...........................] - ETA: 0s - loss: 0.1920 - accuracy: 0.9453\n",
      "Epoch 186: saving model to model/keypoint_classifier\\keypoint_classifier.hdf5\n",
      "10/10 [==============================] - 0s 5ms/step - loss: 0.2441 - accuracy: 0.9166 - val_loss: 0.1053 - val_accuracy: 0.9820\n",
      "Epoch 187/1000\n",
      " 1/10 [==>...........................] - ETA: 0s - loss: 0.2651 - accuracy: 0.9062\n",
      "Epoch 187: saving model to model/keypoint_classifier\\keypoint_classifier.hdf5\n",
      "10/10 [==============================] - 0s 5ms/step - loss: 0.2745 - accuracy: 0.8985 - val_loss: 0.1050 - val_accuracy: 0.9820\n",
      "Epoch 188/1000\n",
      " 1/10 [==>...........................] - ETA: 0s - loss: 0.2255 - accuracy: 0.9219\n",
      "Epoch 188: saving model to model/keypoint_classifier\\keypoint_classifier.hdf5\n",
      "10/10 [==============================] - 0s 7ms/step - loss: 0.2667 - accuracy: 0.9063 - val_loss: 0.1027 - val_accuracy: 0.9820\n",
      "Epoch 189/1000\n",
      " 1/10 [==>...........................] - ETA: 0s - loss: 0.3635 - accuracy: 0.8750\n",
      "Epoch 189: saving model to model/keypoint_classifier\\keypoint_classifier.hdf5\n",
      "10/10 [==============================] - 0s 3ms/step - loss: 0.2614 - accuracy: 0.9063 - val_loss: 0.1053 - val_accuracy: 0.9845\n",
      "Epoch 190/1000\n",
      " 1/10 [==>...........................] - ETA: 0s - loss: 0.3002 - accuracy: 0.8984\n",
      "Epoch 190: saving model to model/keypoint_classifier\\keypoint_classifier.hdf5\n",
      "10/10 [==============================] - 0s 5ms/step - loss: 0.2647 - accuracy: 0.9046 - val_loss: 0.1092 - val_accuracy: 0.9820\n",
      "Epoch 191/1000\n",
      " 1/10 [==>...........................] - ETA: 0s - loss: 0.2515 - accuracy: 0.8828\n",
      "Epoch 191: saving model to model/keypoint_classifier\\keypoint_classifier.hdf5\n",
      "10/10 [==============================] - 0s 4ms/step - loss: 0.2652 - accuracy: 0.8865 - val_loss: 0.1059 - val_accuracy: 0.9845\n",
      "Epoch 192/1000\n",
      " 1/10 [==>...........................] - ETA: 0s - loss: 0.2742 - accuracy: 0.8906\n",
      "Epoch 192: saving model to model/keypoint_classifier\\keypoint_classifier.hdf5\n",
      "10/10 [==============================] - 0s 4ms/step - loss: 0.2601 - accuracy: 0.9020 - val_loss: 0.1043 - val_accuracy: 0.9845\n",
      "Epoch 193/1000\n",
      " 1/10 [==>...........................] - ETA: 0s - loss: 0.1875 - accuracy: 0.9453\n",
      "Epoch 193: saving model to model/keypoint_classifier\\keypoint_classifier.hdf5\n",
      "10/10 [==============================] - 0s 5ms/step - loss: 0.2525 - accuracy: 0.9132 - val_loss: 0.1013 - val_accuracy: 0.9845\n",
      "Epoch 194/1000\n",
      " 1/10 [==>...........................] - ETA: 0s - loss: 0.2010 - accuracy: 0.9453\n",
      "Epoch 194: saving model to model/keypoint_classifier\\keypoint_classifier.hdf5\n",
      "10/10 [==============================] - 0s 6ms/step - loss: 0.2588 - accuracy: 0.9071 - val_loss: 0.1025 - val_accuracy: 0.9871\n",
      "Epoch 195/1000\n",
      " 1/10 [==>...........................] - ETA: 0s - loss: 0.3209 - accuracy: 0.8750\n",
      "Epoch 195: saving model to model/keypoint_classifier\\keypoint_classifier.hdf5\n",
      "10/10 [==============================] - 0s 5ms/step - loss: 0.2591 - accuracy: 0.9071 - val_loss: 0.1044 - val_accuracy: 0.9871\n",
      "Epoch 196/1000\n",
      " 1/10 [==>...........................] - ETA: 0s - loss: 0.2716 - accuracy: 0.8984\n",
      "Epoch 196: saving model to model/keypoint_classifier\\keypoint_classifier.hdf5\n",
      "10/10 [==============================] - 0s 5ms/step - loss: 0.2615 - accuracy: 0.9071 - val_loss: 0.0996 - val_accuracy: 0.9871\n",
      "Epoch 197/1000\n",
      " 1/10 [==>...........................] - ETA: 0s - loss: 0.2213 - accuracy: 0.9297\n",
      "Epoch 197: saving model to model/keypoint_classifier\\keypoint_classifier.hdf5\n",
      "10/10 [==============================] - 0s 4ms/step - loss: 0.2634 - accuracy: 0.9020 - val_loss: 0.0980 - val_accuracy: 0.9845\n",
      "Epoch 198/1000\n",
      " 1/10 [==>...........................] - ETA: 0s - loss: 0.3141 - accuracy: 0.8828\n",
      "Epoch 198: saving model to model/keypoint_classifier\\keypoint_classifier.hdf5\n",
      "10/10 [==============================] - 0s 6ms/step - loss: 0.2429 - accuracy: 0.9166 - val_loss: 0.0968 - val_accuracy: 0.9845\n",
      "Epoch 199/1000\n",
      " 1/10 [==>...........................] - ETA: 0s - loss: 0.3616 - accuracy: 0.8750\n",
      "Epoch 199: saving model to model/keypoint_classifier\\keypoint_classifier.hdf5\n",
      "10/10 [==============================] - 0s 6ms/step - loss: 0.2814 - accuracy: 0.8925 - val_loss: 0.0957 - val_accuracy: 0.9871\n",
      "Epoch 200/1000\n",
      " 1/10 [==>...........................] - ETA: 0s - loss: 0.2600 - accuracy: 0.9219\n",
      "Epoch 200: saving model to model/keypoint_classifier\\keypoint_classifier.hdf5\n",
      "10/10 [==============================] - 0s 5ms/step - loss: 0.2709 - accuracy: 0.9114 - val_loss: 0.0932 - val_accuracy: 0.9871\n",
      "Epoch 201/1000\n",
      " 1/10 [==>...........................] - ETA: 0s - loss: 0.2743 - accuracy: 0.8984\n",
      "Epoch 201: saving model to model/keypoint_classifier\\keypoint_classifier.hdf5\n",
      "10/10 [==============================] - 0s 4ms/step - loss: 0.2566 - accuracy: 0.9003 - val_loss: 0.0952 - val_accuracy: 0.9871\n",
      "Epoch 202/1000\n",
      " 1/10 [==>...........................] - ETA: 0s - loss: 0.3184 - accuracy: 0.8984\n",
      "Epoch 202: saving model to model/keypoint_classifier\\keypoint_classifier.hdf5\n",
      "10/10 [==============================] - 0s 3ms/step - loss: 0.2691 - accuracy: 0.9063 - val_loss: 0.1007 - val_accuracy: 0.9845\n",
      "Epoch 203/1000\n",
      " 1/10 [==>...........................] - ETA: 0s - loss: 0.3582 - accuracy: 0.8750\n",
      "Epoch 203: saving model to model/keypoint_classifier\\keypoint_classifier.hdf5\n",
      "10/10 [==============================] - 0s 5ms/step - loss: 0.2800 - accuracy: 0.8934 - val_loss: 0.0980 - val_accuracy: 0.9871\n",
      "Epoch 204/1000\n",
      " 1/10 [==>...........................] - ETA: 0s - loss: 0.3356 - accuracy: 0.8672\n",
      "Epoch 204: saving model to model/keypoint_classifier\\keypoint_classifier.hdf5\n",
      "10/10 [==============================] - 0s 4ms/step - loss: 0.2615 - accuracy: 0.9140 - val_loss: 0.0972 - val_accuracy: 0.9871\n",
      "Epoch 205/1000\n",
      " 1/10 [==>...........................] - ETA: 0s - loss: 0.1814 - accuracy: 0.9531\n",
      "Epoch 205: saving model to model/keypoint_classifier\\keypoint_classifier.hdf5\n",
      "10/10 [==============================] - 0s 3ms/step - loss: 0.2400 - accuracy: 0.9226 - val_loss: 0.1017 - val_accuracy: 0.9845\n",
      "Epoch 206/1000\n",
      " 1/10 [==>...........................] - ETA: 0s - loss: 0.2401 - accuracy: 0.9219\n",
      "Epoch 206: saving model to model/keypoint_classifier\\keypoint_classifier.hdf5\n",
      "10/10 [==============================] - 0s 4ms/step - loss: 0.2502 - accuracy: 0.9132 - val_loss: 0.1026 - val_accuracy: 0.9820\n",
      "Epoch 207/1000\n",
      " 1/10 [==>...........................] - ETA: 0s - loss: 0.2270 - accuracy: 0.9141\n",
      "Epoch 207: saving model to model/keypoint_classifier\\keypoint_classifier.hdf5\n",
      "10/10 [==============================] - 0s 4ms/step - loss: 0.2315 - accuracy: 0.9226 - val_loss: 0.0994 - val_accuracy: 0.9845\n",
      "Epoch 208/1000\n",
      " 1/10 [==>...........................] - ETA: 0s - loss: 0.3664 - accuracy: 0.8438\n",
      "Epoch 208: saving model to model/keypoint_classifier\\keypoint_classifier.hdf5\n",
      "10/10 [==============================] - 0s 4ms/step - loss: 0.2720 - accuracy: 0.8925 - val_loss: 0.0997 - val_accuracy: 0.9871\n",
      "Epoch 209/1000\n",
      " 1/10 [==>...........................] - ETA: 0s - loss: 0.2415 - accuracy: 0.9219\n",
      "Epoch 209: saving model to model/keypoint_classifier\\keypoint_classifier.hdf5\n",
      "10/10 [==============================] - 0s 4ms/step - loss: 0.2933 - accuracy: 0.8960 - val_loss: 0.1049 - val_accuracy: 0.9871\n",
      "Epoch 210/1000\n",
      " 1/10 [==>...........................] - ETA: 0s - loss: 0.3810 - accuracy: 0.8828\n",
      "Epoch 210: saving model to model/keypoint_classifier\\keypoint_classifier.hdf5\n",
      "10/10 [==============================] - 0s 4ms/step - loss: 0.2611 - accuracy: 0.9106 - val_loss: 0.1051 - val_accuracy: 0.9871\n",
      "Epoch 211/1000\n",
      " 1/10 [==>...........................] - ETA: 0s - loss: 0.2654 - accuracy: 0.8984\n",
      "Epoch 211: saving model to model/keypoint_classifier\\keypoint_classifier.hdf5\n",
      "10/10 [==============================] - 0s 5ms/step - loss: 0.2920 - accuracy: 0.8960 - val_loss: 0.1008 - val_accuracy: 0.9845\n",
      "Epoch 212/1000\n",
      " 1/10 [==>...........................] - ETA: 0s - loss: 0.3003 - accuracy: 0.9219\n",
      "Epoch 212: saving model to model/keypoint_classifier\\keypoint_classifier.hdf5\n",
      "10/10 [==============================] - 0s 6ms/step - loss: 0.2784 - accuracy: 0.8994 - val_loss: 0.0986 - val_accuracy: 0.9845\n",
      "Epoch 213/1000\n",
      " 1/10 [==>...........................] - ETA: 0s - loss: 0.2428 - accuracy: 0.9375\n",
      "Epoch 213: saving model to model/keypoint_classifier\\keypoint_classifier.hdf5\n",
      "10/10 [==============================] - 0s 4ms/step - loss: 0.2574 - accuracy: 0.9089 - val_loss: 0.0969 - val_accuracy: 0.9845\n",
      "Epoch 214/1000\n",
      " 1/10 [==>...........................] - ETA: 0s - loss: 0.2231 - accuracy: 0.9297\n",
      "Epoch 214: saving model to model/keypoint_classifier\\keypoint_classifier.hdf5\n",
      "10/10 [==============================] - 0s 3ms/step - loss: 0.2788 - accuracy: 0.9037 - val_loss: 0.0999 - val_accuracy: 0.9845\n",
      "Epoch 215/1000\n",
      " 1/10 [==>...........................] - ETA: 0s - loss: 0.2657 - accuracy: 0.8984\n",
      "Epoch 215: saving model to model/keypoint_classifier\\keypoint_classifier.hdf5\n",
      "10/10 [==============================] - 0s 5ms/step - loss: 0.2527 - accuracy: 0.9132 - val_loss: 0.1037 - val_accuracy: 0.9820\n",
      "Epoch 216/1000\n",
      " 1/10 [==>...........................] - ETA: 0s - loss: 0.2037 - accuracy: 0.9219\n",
      "Epoch 216: saving model to model/keypoint_classifier\\keypoint_classifier.hdf5\n",
      "10/10 [==============================] - 0s 5ms/step - loss: 0.2512 - accuracy: 0.9071 - val_loss: 0.1048 - val_accuracy: 0.9820\n",
      "Epoch 217/1000\n",
      " 1/10 [==>...........................] - ETA: 0s - loss: 0.1960 - accuracy: 0.9219\n",
      "Epoch 217: saving model to model/keypoint_classifier\\keypoint_classifier.hdf5\n",
      "10/10 [==============================] - 0s 4ms/step - loss: 0.2452 - accuracy: 0.9218 - val_loss: 0.1018 - val_accuracy: 0.9845\n",
      "Epoch 218/1000\n",
      " 1/10 [==>...........................] - ETA: 0s - loss: 0.2615 - accuracy: 0.9141\n",
      "Epoch 218: saving model to model/keypoint_classifier\\keypoint_classifier.hdf5\n",
      "10/10 [==============================] - 0s 5ms/step - loss: 0.2423 - accuracy: 0.9080 - val_loss: 0.1034 - val_accuracy: 0.9871\n",
      "Epoch 219/1000\n",
      " 1/10 [==>...........................] - ETA: 0s - loss: 0.3064 - accuracy: 0.8828\n",
      "Epoch 219: saving model to model/keypoint_classifier\\keypoint_classifier.hdf5\n",
      "10/10 [==============================] - 0s 5ms/step - loss: 0.2845 - accuracy: 0.8925 - val_loss: 0.1005 - val_accuracy: 0.9871\n",
      "Epoch 220/1000\n",
      " 1/10 [==>...........................] - ETA: 0s - loss: 0.2113 - accuracy: 0.9219\n",
      "Epoch 220: saving model to model/keypoint_classifier\\keypoint_classifier.hdf5\n",
      "10/10 [==============================] - 0s 5ms/step - loss: 0.2647 - accuracy: 0.9106 - val_loss: 0.1006 - val_accuracy: 0.9871\n",
      "Epoch 220: early stopping\n"
     ]
    },
    {
     "data": {
      "text/plain": "<keras.callbacks.History at 0x2c01aa2e740>"
     },
     "execution_count": 275,
     "metadata": {},
     "output_type": "execute_result"
    }
   ],
   "source": [
    "model.fit(\n",
    "    X_train,\n",
    "    y_train,\n",
    "    epochs=1000,\n",
    "    batch_size=128,\n",
    "    validation_data=(X_test, y_test),\n",
    "    callbacks=[cp_callback, es_callback]\n",
    ")"
   ]
  },
  {
   "cell_type": "code",
   "execution_count": 276,
   "metadata": {
    "pycharm": {
     "name": "#%%\n"
    }
   },
   "outputs": [
    {
     "name": "stdout",
     "output_type": "stream",
     "text": [
      "4/4 [==============================] - 0s 0s/step - loss: 0.1006 - accuracy: 0.9871\n"
     ]
    }
   ],
   "source": [
    "# Model evaluation\n",
    "val_loss, val_acc = model.evaluate(X_test, y_test, batch_size=128)"
   ]
  },
  {
   "cell_type": "code",
   "execution_count": 277,
   "metadata": {
    "pycharm": {
     "name": "#%%\n"
    }
   },
   "outputs": [],
   "source": [
    "# Loading the saved model\n",
    "model = tf.keras.models.load_model(model_save_path)"
   ]
  },
  {
   "cell_type": "code",
   "execution_count": 278,
   "metadata": {
    "pycharm": {
     "name": "#%%\n"
    }
   },
   "outputs": [
    {
     "name": "stdout",
     "output_type": "stream",
     "text": [
      "1/1 [==============================] - 0s 36ms/step\n",
      "[4.8957769e-05 9.9990785e-01 3.4372290e-05 6.0506595e-06 1.4066907e-10\n",
      " 2.7861329e-06]\n",
      "1\n"
     ]
    }
   ],
   "source": [
    "# Model prediction - Inference test\n",
    "predict_result = model.predict(np.array([X_test[0]]))\n",
    "print(np.squeeze(predict_result))\n",
    "print(np.argmax(np.squeeze(predict_result)))"
   ]
  },
  {
   "cell_type": "markdown",
   "metadata": {
    "pycharm": {
     "name": "#%% md\n"
    }
   },
   "source": [
    "# mixed row"
   ]
  },
  {
   "cell_type": "code",
   "execution_count": 279,
   "metadata": {
    "pycharm": {
     "name": "#%%\n"
    }
   },
   "outputs": [
    {
     "name": "stdout",
     "output_type": "stream",
     "text": [
      "13/13 [==============================] - 0s 769us/step\n"
     ]
    },
    {
     "data": {
      "text/plain": "<Figure size 504x432 with 2 Axes>",
      "image/png": "[encoded data removed]"
     },
     "metadata": {},
     "output_type": "display_data"
    },
    {
     "name": "stdout",
     "output_type": "stream",
     "text": [
      "Classification Report\n",
      "              precision    recall  f1-score   support\n",
      "\n",
      "           0       1.00      1.00      1.00        30\n",
      "           1       1.00      0.92      0.96        66\n",
      "           2       0.93      1.00      0.96        66\n",
      "           3       1.00      1.00      1.00        76\n",
      "           4       1.00      1.00      1.00        81\n",
      "           5       1.00      1.00      1.00        69\n",
      "\n",
      "    accuracy                           0.99       388\n",
      "   macro avg       0.99      0.99      0.99       388\n",
      "weighted avg       0.99      0.99      0.99       388\n",
      "\n"
     ]
    }
   ],
   "source": [
    "import pandas as pd\n",
    "import seaborn as sns\n",
    "import matplotlib.pyplot as plt\n",
    "from sklearn.metrics import confusion_matrix, classification_report\n",
    "\n",
    "def print_confusion_matrix(y_true, y_pred, report=True):\n",
    "    labels = sorted(list(set(y_true)))\n",
    "    cmx_data = confusion_matrix(y_true, y_pred, labels=labels)\n",
    "    \n",
    "    df_cmx = pd.DataFrame(cmx_data, index=labels, columns=labels)\n",
    " \n",
    "    fig, ax = plt.subplots(figsize=(7, 6))\n",
    "    sns.heatmap(df_cmx, annot=True, fmt='g' ,square=False)\n",
    "    ax.set_ylim(len(set(y_true)), 0)\n",
    "    plt.show()\n",
    "    \n",
    "    if report:\n",
    "        print('Classification Report')\n",
    "        print(classification_report(y_test, y_pred))\n",
    "\n",
    "Y_pred = model.predict(X_test)\n",
    "y_pred = np.argmax(Y_pred, axis=1)\n",
    "\n",
    "print_confusion_matrix(y_test, y_pred)"
   ]
  },
  {
   "cell_type": "markdown",
   "metadata": {
    "pycharm": {
     "name": "#%% md\n"
    }
   },
   "source": [
    "# Convert to model for Tensorflow-Lite"
   ]
  },
  {
   "cell_type": "code",
   "execution_count": 280,
   "metadata": {
    "pycharm": {
     "name": "#%%\n"
    }
   },
   "outputs": [],
   "source": [
    "# Save as a model dedicated to inference\n",
    "model.save(model_save_path, include_optimizer=False)"
   ]
  },
  {
   "cell_type": "code",
   "execution_count": 281,
   "metadata": {
    "pycharm": {
     "name": "#%%\n"
    }
   },
   "outputs": [
    {
     "name": "stdout",
     "output_type": "stream",
     "text": [
      "INFO:tensorflow:Assets written to: C:\\Users\\admin\\AppData\\Local\\Temp\\tmpa528s7v2\\assets\n"
     ]
    },
    {
     "name": "stderr",
     "output_type": "stream",
     "text": [
      "INFO:tensorflow:Assets written to: C:\\Users\\admin\\AppData\\Local\\Temp\\tmpa528s7v2\\assets\n"
     ]
    },
    {
     "data": {
      "text/plain": "6656"
     },
     "execution_count": 281,
     "metadata": {},
     "output_type": "execute_result"
    }
   ],
   "source": [
    "# Transforming the model (quantization)\n",
    "tflite_save_path = 'model/keypoint_classifier/keypoint_classifier.tflite'\n",
    "\n",
    "converter = tf.lite.TFLiteConverter.from_keras_model(model)\n",
    "converter.optimizations = [tf.lite.Optimize.DEFAULT]\n",
    "tflite_quantized_model = converter.convert()\n",
    "\n",
    "open(tflite_save_path, 'wb').write(tflite_quantized_model)"
   ]
  },
  {
   "cell_type": "markdown",
   "metadata": {
    "pycharm": {
     "name": "#%% md\n"
    }
   },
   "source": [
    "# Inference test"
   ]
  },
  {
   "cell_type": "code",
   "execution_count": 282,
   "metadata": {
    "pycharm": {
     "name": "#%%\n"
    }
   },
   "outputs": [],
   "source": [
    "interpreter = tf.lite.Interpreter(model_path=tflite_save_path)\n",
    "interpreter.allocate_tensors()"
   ]
  },
  {
   "cell_type": "code",
   "execution_count": 283,
   "metadata": {
    "pycharm": {
     "name": "#%%\n"
    }
   },
   "outputs": [],
   "source": [
    "# Get I / O tensor\n",
    "input_details = interpreter.get_input_details()\n",
    "output_details = interpreter.get_output_details()"
   ]
  },
  {
   "cell_type": "code",
   "execution_count": 284,
   "metadata": {
    "pycharm": {
     "name": "#%%\n"
    }
   },
   "outputs": [],
   "source": [
    "interpreter.set_tensor(input_details[0]['index'], np.array([X_test[0]]))"
   ]
  },
  {
   "cell_type": "code",
   "execution_count": 285,
   "metadata": {
    "scrolled": true,
    "pycharm": {
     "name": "#%%\n"
    }
   },
   "outputs": [
    {
     "name": "stdout",
     "output_type": "stream",
     "text": [
      "CPU times: total: 0 ns\n",
      "Wall time: 0 ns\n"
     ]
    }
   ],
   "source": [
    "%%time\n",
    "# Inference implementation\n",
    "interpreter.invoke()\n",
    "tflite_results = interpreter.get_tensor(output_details[0]['index'])"
   ]
  },
  {
   "cell_type": "code",
   "execution_count": 286,
   "metadata": {
    "pycharm": {
     "name": "#%%\n"
    }
   },
   "outputs": [
    {
     "name": "stdout",
     "output_type": "stream",
     "text": [
      "[4.8957809e-05 9.9990785e-01 3.4372319e-05 6.0506477e-06 1.4066934e-10\n",
      " 2.7861304e-06]\n",
      "1\n"
     ]
    }
   ],
   "source": [
    "print(np.squeeze(tflite_results))\n",
    "print(np.argmax(np.squeeze(tflite_results)))"
   ]
  }
 ],
 "metadata": {
  "kernelspec": {
   "display_name": "Python 3 (ipykernel)",
   "language": "python",
   "name": "python3"
  },
  "language_info": {
   "codemirror_mode": {
    "name": "ipython",
    "version": 3
   },
   "file_extension": ".py",
   "mimetype": "text/x-python",
   "name": "python",
   "nbconvert_exporter": "python",
   "pygments_lexer": "ipython3",
   "version": "3.10.4"
  }
 },
 "nbformat": 4,
 "nbformat_minor": 4
}