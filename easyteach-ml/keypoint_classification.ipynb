{
 "cells": [
  {
   "cell_type": "code",
   "execution_count": 188,
   "metadata": {
    "pycharm": {
     "name": "#%%\n"
    }
   },
   "outputs": [],
   "source": [
    "import csv\n",
    "\n",
    "import numpy as np\n",
    "import tensorflow as tf\n",
    "from sklearn.model_selection import train_test_split\n",
    "\n",
    "RANDOM_SEED = 42"
   ]
  },
  {
   "cell_type": "markdown",
   "metadata": {
    "pycharm": {
     "name": "#%% md\n"
    }
   },
   "source": [
    "# Specify each path"
   ]
  },
  {
   "cell_type": "code",
   "execution_count": 189,
   "metadata": {
    "pycharm": {
     "name": "#%%\n"
    }
   },
   "outputs": [],
   "source": [
    "dataset = 'model/keypoint_classifier/keypoint.csv'\n",
    "model_save_path = 'model/keypoint_classifier/keypoint_classifier.hdf5'"
   ]
  },
  {
   "cell_type": "markdown",
   "metadata": {
    "pycharm": {
     "name": "#%% md\n"
    }
   },
   "source": [
    "# Number of classes"
   ]
  },
  {
   "cell_type": "code",
   "execution_count": 190,
   "metadata": {
    "pycharm": {
     "name": "#%%\n"
    }
   },
   "outputs": [],
   "source": [
    "NUM_CLASSES = 6"
   ]
  },
  {
   "cell_type": "markdown",
   "metadata": {
    "pycharm": {
     "name": "#%% md\n"
    }
   },
   "source": [
    "# Reading training data"
   ]
  },
  {
   "cell_type": "code",
   "execution_count": 191,
   "metadata": {
    "pycharm": {
     "name": "#%%\n"
    }
   },
   "outputs": [],
   "source": [
    "X_dataset = np.loadtxt(dataset, delimiter=',', dtype='float32', usecols=list(range(1, (21 * 2) + 1)))"
   ]
  },
  {
   "cell_type": "code",
   "execution_count": 192,
   "metadata": {
    "pycharm": {
     "name": "#%%\n"
    }
   },
   "outputs": [],
   "source": [
    "y_dataset = np.loadtxt(dataset, delimiter=',', dtype='int32', usecols=(0))"
   ]
  },
  {
   "cell_type": "code",
   "execution_count": 193,
   "metadata": {
    "pycharm": {
     "name": "#%%\n"
    }
   },
   "outputs": [],
   "source": [
    "X_train, X_test, y_train, y_test = train_test_split(X_dataset, y_dataset, train_size=0.75, random_state=RANDOM_SEED)"
   ]
  },
  {
   "cell_type": "markdown",
   "metadata": {
    "pycharm": {
     "name": "#%% md\n"
    }
   },
   "source": [
    "# Model building"
   ]
  },
  {
   "cell_type": "code",
   "execution_count": 194,
   "metadata": {
    "pycharm": {
     "name": "#%%\n"
    }
   },
   "outputs": [],
   "source": [
    "model = tf.keras.models.Sequential([\n",
    "    tf.keras.layers.Input((21 * 2, )),\n",
    "    tf.keras.layers.Dropout(0.2),\n",
    "    tf.keras.layers.Dense(20, activation='relu'),\n",
    "    tf.keras.layers.Dropout(0.4),\n",
    "    tf.keras.layers.Dense(10, activation='relu'),\n",
    "    tf.keras.layers.Dense(NUM_CLASSES, activation='softmax')\n",
    "])"
   ]
  },
  {
   "cell_type": "code",
   "execution_count": 195,
   "metadata": {
    "pycharm": {
     "name": "#%%\n"
    }
   },
   "outputs": [
    {
     "name": "stdout",
     "output_type": "stream",
     "text": [
      "Model: \"sequential_10\"\n",
      "_________________________________________________________________\n",
      " Layer (type)                Output Shape              Param #   \n",
      "=================================================================\n",
      " dropout_20 (Dropout)        (None, 42)                0         \n",
      "                                                                 \n",
      " dense_30 (Dense)            (None, 20)                860       \n",
      "                                                                 \n",
      " dropout_21 (Dropout)        (None, 20)                0         \n",
      "                                                                 \n",
      " dense_31 (Dense)            (None, 10)                210       \n",
      "                                                                 \n",
      " dense_32 (Dense)            (None, 6)                 66        \n",
      "                                                                 \n",
      "=================================================================\n",
      "Total params: 1,136\n",
      "Trainable params: 1,136\n",
      "Non-trainable params: 0\n",
      "_________________________________________________________________\n"
     ]
    }
   ],
   "source": [
    "model.summary()  # tf.keras.utils.plot_model(model, show_shapes=True)"
   ]
  },
  {
   "cell_type": "code",
   "execution_count": 196,
   "metadata": {
    "pycharm": {
     "name": "#%%\n"
    }
   },
   "outputs": [],
   "source": [
    "# Model checkpoint callback\n",
    "cp_callback = tf.keras.callbacks.ModelCheckpoint(\n",
    "    model_save_path, verbose=1, save_weights_only=False)\n",
    "# Early stopping callback\n",
    "es_callback = tf.keras.callbacks.EarlyStopping(patience=20, verbose=1)"
   ]
  },
  {
   "cell_type": "code",
   "execution_count": 197,
   "metadata": {
    "pycharm": {
     "name": "#%%\n"
    }
   },
   "outputs": [],
   "source": [
    "# Model compilation\n",
    "model.compile(\n",
    "    optimizer='adam',\n",
    "    loss='sparse_categorical_crossentropy',\n",
    "    metrics=['accuracy']\n",
    ")"
   ]
  },
  {
   "cell_type": "markdown",
   "metadata": {
    "pycharm": {
     "name": "#%% md\n"
    }
   },
   "source": [
    "# モデル訓練"
   ]
  },
  {
   "cell_type": "code",
   "execution_count": 198,
   "metadata": {
    "scrolled": true,
    "pycharm": {
     "name": "#%%\n"
    }
   },
   "outputs": [
    {
     "name": "stdout",
     "output_type": "stream",
     "text": [
      "Epoch 1/1000\n",
      " 1/24 [>.............................] - ETA: 6s - loss: 1.7484 - accuracy: 0.3828\n",
      "Epoch 1: saving model to model/keypoint_classifier\\keypoint_classifier.hdf5\n",
      "24/24 [==============================] - 0s 8ms/step - loss: 1.7670 - accuracy: 0.3427 - val_loss: 1.5440 - val_accuracy: 0.4086\n",
      "Epoch 2/1000\n",
      " 1/24 [>.............................] - ETA: 0s - loss: 1.7253 - accuracy: 0.3047\n",
      "Epoch 2: saving model to model/keypoint_classifier\\keypoint_classifier.hdf5\n",
      "24/24 [==============================] - 0s 3ms/step - loss: 1.5611 - accuracy: 0.3678 - val_loss: 1.4084 - val_accuracy: 0.5713\n",
      "Epoch 3/1000\n",
      " 1/24 [>.............................] - ETA: 0s - loss: 1.4450 - accuracy: 0.4375\n",
      "Epoch 3: saving model to model/keypoint_classifier\\keypoint_classifier.hdf5\n",
      "24/24 [==============================] - 0s 3ms/step - loss: 1.4133 - accuracy: 0.4558 - val_loss: 1.2595 - val_accuracy: 0.6606\n",
      "Epoch 4/1000\n",
      " 1/24 [>.............................] - ETA: 0s - loss: 1.3737 - accuracy: 0.4688\n",
      "Epoch 4: saving model to model/keypoint_classifier\\keypoint_classifier.hdf5\n",
      "24/24 [==============================] - 0s 3ms/step - loss: 1.2924 - accuracy: 0.5117 - val_loss: 1.1343 - val_accuracy: 0.6426\n",
      "Epoch 5/1000\n",
      " 1/24 [>.............................] - ETA: 0s - loss: 1.3159 - accuracy: 0.4844\n",
      "Epoch 5: saving model to model/keypoint_classifier\\keypoint_classifier.hdf5\n",
      "24/24 [==============================] - 0s 3ms/step - loss: 1.2175 - accuracy: 0.5321 - val_loss: 1.0376 - val_accuracy: 0.6777\n",
      "Epoch 6/1000\n",
      " 1/24 [>.............................] - ETA: 0s - loss: 1.1535 - accuracy: 0.5312\n",
      "Epoch 6: saving model to model/keypoint_classifier\\keypoint_classifier.hdf5\n",
      "24/24 [==============================] - 0s 3ms/step - loss: 1.1389 - accuracy: 0.5445 - val_loss: 0.9591 - val_accuracy: 0.6948\n",
      "Epoch 7/1000\n",
      " 1/24 [>.............................] - ETA: 0s - loss: 1.0627 - accuracy: 0.5859\n",
      "Epoch 7: saving model to model/keypoint_classifier\\keypoint_classifier.hdf5\n",
      "24/24 [==============================] - 0s 3ms/step - loss: 1.0798 - accuracy: 0.5706 - val_loss: 0.8934 - val_accuracy: 0.7078\n",
      "Epoch 8/1000\n",
      " 1/24 [>.............................] - ETA: 0s - loss: 1.1948 - accuracy: 0.4922\n",
      "Epoch 8: saving model to model/keypoint_classifier\\keypoint_classifier.hdf5\n",
      "24/24 [==============================] - 0s 5ms/step - loss: 1.0293 - accuracy: 0.5810 - val_loss: 0.8334 - val_accuracy: 0.7309\n",
      "Epoch 9/1000\n",
      " 1/24 [>.............................] - ETA: 0s - loss: 1.0445 - accuracy: 0.5703\n",
      "Epoch 9: saving model to model/keypoint_classifier\\keypoint_classifier.hdf5\n",
      "24/24 [==============================] - 0s 3ms/step - loss: 0.9822 - accuracy: 0.5840 - val_loss: 0.7787 - val_accuracy: 0.7289\n",
      "Epoch 10/1000\n",
      " 1/24 [>.............................] - ETA: 0s - loss: 1.0311 - accuracy: 0.5781\n",
      "Epoch 10: saving model to model/keypoint_classifier\\keypoint_classifier.hdf5\n",
      "24/24 [==============================] - 0s 3ms/step - loss: 0.9432 - accuracy: 0.6124 - val_loss: 0.7260 - val_accuracy: 0.7380\n",
      "Epoch 11/1000\n",
      " 1/24 [>.............................] - ETA: 0s - loss: 1.0229 - accuracy: 0.5391\n",
      "Epoch 11: saving model to model/keypoint_classifier\\keypoint_classifier.hdf5\n",
      "24/24 [==============================] - 0s 3ms/step - loss: 0.9227 - accuracy: 0.6024 - val_loss: 0.6845 - val_accuracy: 0.7339\n",
      "Epoch 12/1000\n",
      " 1/24 [>.............................] - ETA: 0s - loss: 0.8200 - accuracy: 0.6562\n",
      "Epoch 12: saving model to model/keypoint_classifier\\keypoint_classifier.hdf5\n",
      "24/24 [==============================] - 0s 3ms/step - loss: 0.8637 - accuracy: 0.6252 - val_loss: 0.6434 - val_accuracy: 0.7962\n",
      "Epoch 13/1000\n",
      " 1/24 [>.............................] - ETA: 0s - loss: 0.9209 - accuracy: 0.5938\n",
      "Epoch 13: saving model to model/keypoint_classifier\\keypoint_classifier.hdf5\n",
      "24/24 [==============================] - 0s 3ms/step - loss: 0.8472 - accuracy: 0.6299 - val_loss: 0.6065 - val_accuracy: 0.7972\n",
      "Epoch 14/1000\n",
      " 1/24 [>.............................] - ETA: 0s - loss: 0.8033 - accuracy: 0.6641\n",
      "Epoch 14: saving model to model/keypoint_classifier\\keypoint_classifier.hdf5\n",
      "24/24 [==============================] - 0s 3ms/step - loss: 0.8107 - accuracy: 0.6529 - val_loss: 0.5852 - val_accuracy: 0.7982\n",
      "Epoch 15/1000\n",
      " 1/24 [>.............................] - ETA: 0s - loss: 0.8307 - accuracy: 0.6172\n",
      "Epoch 15: saving model to model/keypoint_classifier\\keypoint_classifier.hdf5\n",
      "24/24 [==============================] - 0s 3ms/step - loss: 0.7916 - accuracy: 0.6556 - val_loss: 0.5510 - val_accuracy: 0.8042\n",
      "Epoch 16/1000\n",
      " 1/24 [>.............................] - ETA: 0s - loss: 0.8377 - accuracy: 0.6172\n",
      "Epoch 16: saving model to model/keypoint_classifier\\keypoint_classifier.hdf5\n",
      "24/24 [==============================] - 0s 3ms/step - loss: 0.7785 - accuracy: 0.6566 - val_loss: 0.5284 - val_accuracy: 0.8112\n",
      "Epoch 17/1000\n",
      " 1/24 [>.............................] - ETA: 0s - loss: 0.8464 - accuracy: 0.6094\n",
      "Epoch 17: saving model to model/keypoint_classifier\\keypoint_classifier.hdf5\n",
      "24/24 [==============================] - 0s 3ms/step - loss: 0.7765 - accuracy: 0.6529 - val_loss: 0.5021 - val_accuracy: 0.8163\n",
      "Epoch 18/1000\n",
      " 1/24 [>.............................] - ETA: 0s - loss: 0.8555 - accuracy: 0.6250\n",
      "Epoch 18: saving model to model/keypoint_classifier\\keypoint_classifier.hdf5\n",
      "24/24 [==============================] - 0s 3ms/step - loss: 0.7530 - accuracy: 0.6673 - val_loss: 0.4904 - val_accuracy: 0.8253\n",
      "Epoch 19/1000\n",
      " 1/24 [>.............................] - ETA: 0s - loss: 0.7684 - accuracy: 0.7109\n",
      "Epoch 19: saving model to model/keypoint_classifier\\keypoint_classifier.hdf5\n",
      "24/24 [==============================] - 0s 3ms/step - loss: 0.7243 - accuracy: 0.6847 - val_loss: 0.4675 - val_accuracy: 0.8323\n",
      "Epoch 20/1000\n",
      " 1/24 [>.............................] - ETA: 0s - loss: 0.7046 - accuracy: 0.6875\n",
      "Epoch 20: saving model to model/keypoint_classifier\\keypoint_classifier.hdf5\n",
      "24/24 [==============================] - 0s 3ms/step - loss: 0.7323 - accuracy: 0.6737 - val_loss: 0.4545 - val_accuracy: 0.8484\n",
      "Epoch 21/1000\n",
      " 1/24 [>.............................] - ETA: 0s - loss: 0.6014 - accuracy: 0.7422\n",
      "Epoch 21: saving model to model/keypoint_classifier\\keypoint_classifier.hdf5\n",
      "24/24 [==============================] - 0s 3ms/step - loss: 0.7114 - accuracy: 0.6901 - val_loss: 0.4425 - val_accuracy: 0.8705\n",
      "Epoch 22/1000\n",
      " 1/24 [>.............................] - ETA: 0s - loss: 0.6944 - accuracy: 0.7031\n",
      "Epoch 22: saving model to model/keypoint_classifier\\keypoint_classifier.hdf5\n",
      "24/24 [==============================] - 0s 3ms/step - loss: 0.6872 - accuracy: 0.7021 - val_loss: 0.4284 - val_accuracy: 0.8735\n",
      "Epoch 23/1000\n",
      " 1/24 [>.............................] - ETA: 0s - loss: 0.8157 - accuracy: 0.6562\n",
      "Epoch 23: saving model to model/keypoint_classifier\\keypoint_classifier.hdf5\n",
      "24/24 [==============================] - 0s 3ms/step - loss: 0.6945 - accuracy: 0.6891 - val_loss: 0.4177 - val_accuracy: 0.9046\n",
      "Epoch 24/1000\n",
      " 1/24 [>.............................] - ETA: 0s - loss: 0.6592 - accuracy: 0.7266\n",
      "Epoch 24: saving model to model/keypoint_classifier\\keypoint_classifier.hdf5\n",
      "24/24 [==============================] - 0s 4ms/step - loss: 0.6776 - accuracy: 0.7078 - val_loss: 0.4098 - val_accuracy: 0.9056\n",
      "Epoch 25/1000\n",
      " 1/24 [>.............................] - ETA: 0s - loss: 0.7116 - accuracy: 0.6797\n",
      "Epoch 25: saving model to model/keypoint_classifier\\keypoint_classifier.hdf5\n",
      "24/24 [==============================] - 0s 3ms/step - loss: 0.6542 - accuracy: 0.7189 - val_loss: 0.3963 - val_accuracy: 0.9026\n",
      "Epoch 26/1000\n",
      " 1/24 [>.............................] - ETA: 0s - loss: 0.6149 - accuracy: 0.7266\n",
      "Epoch 26: saving model to model/keypoint_classifier\\keypoint_classifier.hdf5\n",
      "24/24 [==============================] - 0s 4ms/step - loss: 0.6533 - accuracy: 0.7182 - val_loss: 0.3832 - val_accuracy: 0.9106\n",
      "Epoch 27/1000\n",
      " 1/24 [>.............................] - ETA: 0s - loss: 0.5869 - accuracy: 0.7812\n",
      "Epoch 27: saving model to model/keypoint_classifier\\keypoint_classifier.hdf5\n",
      "24/24 [==============================] - 0s 3ms/step - loss: 0.6366 - accuracy: 0.7303 - val_loss: 0.3761 - val_accuracy: 0.9137\n",
      "Epoch 28/1000\n",
      " 1/24 [>.............................] - ETA: 0s - loss: 0.6106 - accuracy: 0.7578\n",
      "Epoch 28: saving model to model/keypoint_classifier\\keypoint_classifier.hdf5\n",
      "24/24 [==============================] - 0s 3ms/step - loss: 0.6304 - accuracy: 0.7339 - val_loss: 0.3648 - val_accuracy: 0.9197\n",
      "Epoch 29/1000\n",
      " 1/24 [>.............................] - ETA: 0s - loss: 0.5935 - accuracy: 0.7188\n",
      "Epoch 29: saving model to model/keypoint_classifier\\keypoint_classifier.hdf5\n",
      "24/24 [==============================] - 0s 3ms/step - loss: 0.6185 - accuracy: 0.7359 - val_loss: 0.3520 - val_accuracy: 0.9197\n",
      "Epoch 30/1000\n",
      " 1/24 [>.............................] - ETA: 0s - loss: 0.6507 - accuracy: 0.7188\n",
      "Epoch 30: saving model to model/keypoint_classifier\\keypoint_classifier.hdf5\n",
      "24/24 [==============================] - 0s 3ms/step - loss: 0.6046 - accuracy: 0.7510 - val_loss: 0.3430 - val_accuracy: 0.9187\n",
      "Epoch 31/1000\n",
      " 1/24 [>.............................] - ETA: 0s - loss: 0.6552 - accuracy: 0.6875\n",
      "Epoch 31: saving model to model/keypoint_classifier\\keypoint_classifier.hdf5\n",
      "24/24 [==============================] - 0s 3ms/step - loss: 0.6018 - accuracy: 0.7380 - val_loss: 0.3378 - val_accuracy: 0.9197\n",
      "Epoch 32/1000\n",
      " 1/24 [>.............................] - ETA: 0s - loss: 0.5004 - accuracy: 0.8047\n",
      "Epoch 32: saving model to model/keypoint_classifier\\keypoint_classifier.hdf5\n",
      "24/24 [==============================] - 0s 3ms/step - loss: 0.6114 - accuracy: 0.7523 - val_loss: 0.3291 - val_accuracy: 0.9227\n",
      "Epoch 33/1000\n",
      " 1/24 [>.............................] - ETA: 0s - loss: 0.6326 - accuracy: 0.7500\n",
      "Epoch 33: saving model to model/keypoint_classifier\\keypoint_classifier.hdf5\n",
      "24/24 [==============================] - 0s 3ms/step - loss: 0.5883 - accuracy: 0.7671 - val_loss: 0.3210 - val_accuracy: 0.9267\n",
      "Epoch 34/1000\n",
      " 1/24 [>.............................] - ETA: 0s - loss: 0.6650 - accuracy: 0.6719\n",
      "Epoch 34: saving model to model/keypoint_classifier\\keypoint_classifier.hdf5\n",
      "24/24 [==============================] - 0s 3ms/step - loss: 0.5909 - accuracy: 0.7450 - val_loss: 0.3123 - val_accuracy: 0.9327\n",
      "Epoch 35/1000\n",
      " 1/24 [>.............................] - ETA: 0s - loss: 0.5457 - accuracy: 0.7969\n",
      "Epoch 35: saving model to model/keypoint_classifier\\keypoint_classifier.hdf5\n",
      "24/24 [==============================] - 0s 3ms/step - loss: 0.5781 - accuracy: 0.7594 - val_loss: 0.3034 - val_accuracy: 0.9408\n",
      "Epoch 36/1000\n",
      " 1/24 [>.............................] - ETA: 0s - loss: 0.5406 - accuracy: 0.7656\n",
      "Epoch 36: saving model to model/keypoint_classifier\\keypoint_classifier.hdf5\n",
      "24/24 [==============================] - 0s 3ms/step - loss: 0.5735 - accuracy: 0.7600 - val_loss: 0.2949 - val_accuracy: 0.9478\n",
      "Epoch 37/1000\n",
      " 1/24 [>.............................] - ETA: 0s - loss: 0.4917 - accuracy: 0.8125\n",
      "Epoch 37: saving model to model/keypoint_classifier\\keypoint_classifier.hdf5\n",
      "24/24 [==============================] - 0s 3ms/step - loss: 0.5666 - accuracy: 0.7691 - val_loss: 0.2909 - val_accuracy: 0.9548\n",
      "Epoch 38/1000\n",
      " 1/24 [>.............................] - ETA: 0s - loss: 0.4247 - accuracy: 0.8281\n",
      "Epoch 38: saving model to model/keypoint_classifier\\keypoint_classifier.hdf5\n",
      "24/24 [==============================] - 0s 3ms/step - loss: 0.5490 - accuracy: 0.7748 - val_loss: 0.2809 - val_accuracy: 0.9588\n",
      "Epoch 39/1000\n",
      " 1/24 [>.............................] - ETA: 0s - loss: 0.6653 - accuracy: 0.7266\n",
      "Epoch 39: saving model to model/keypoint_classifier\\keypoint_classifier.hdf5\n",
      "24/24 [==============================] - 0s 3ms/step - loss: 0.5411 - accuracy: 0.7778 - val_loss: 0.2751 - val_accuracy: 0.9598\n",
      "Epoch 40/1000\n",
      " 1/24 [>.............................] - ETA: 0s - loss: 0.6648 - accuracy: 0.7266\n",
      "Epoch 40: saving model to model/keypoint_classifier\\keypoint_classifier.hdf5\n",
      "24/24 [==============================] - 0s 3ms/step - loss: 0.5528 - accuracy: 0.7855 - val_loss: 0.2681 - val_accuracy: 0.9598\n",
      "Epoch 41/1000\n",
      " 1/24 [>.............................] - ETA: 0s - loss: 0.5788 - accuracy: 0.7812\n",
      "Epoch 41: saving model to model/keypoint_classifier\\keypoint_classifier.hdf5\n",
      "24/24 [==============================] - 0s 3ms/step - loss: 0.5490 - accuracy: 0.7815 - val_loss: 0.2622 - val_accuracy: 0.9659\n",
      "Epoch 42/1000\n",
      " 1/24 [>.............................] - ETA: 0s - loss: 0.4993 - accuracy: 0.8125\n",
      "Epoch 42: saving model to model/keypoint_classifier\\keypoint_classifier.hdf5\n",
      "24/24 [==============================] - 0s 3ms/step - loss: 0.5303 - accuracy: 0.7915 - val_loss: 0.2570 - val_accuracy: 0.9618\n",
      "Epoch 43/1000\n",
      " 1/24 [>.............................] - ETA: 0s - loss: 0.4592 - accuracy: 0.8359\n",
      "Epoch 43: saving model to model/keypoint_classifier\\keypoint_classifier.hdf5\n",
      "24/24 [==============================] - 0s 3ms/step - loss: 0.5120 - accuracy: 0.8032 - val_loss: 0.2529 - val_accuracy: 0.9608\n",
      "Epoch 44/1000\n",
      " 1/24 [>.............................] - ETA: 0s - loss: 0.5170 - accuracy: 0.8516\n",
      "Epoch 44: saving model to model/keypoint_classifier\\keypoint_classifier.hdf5\n",
      "24/24 [==============================] - 0s 4ms/step - loss: 0.5030 - accuracy: 0.8046 - val_loss: 0.2440 - val_accuracy: 0.9659\n",
      "Epoch 45/1000\n",
      " 1/24 [>.............................] - ETA: 0s - loss: 0.6017 - accuracy: 0.7500\n",
      "Epoch 45: saving model to model/keypoint_classifier\\keypoint_classifier.hdf5\n",
      "24/24 [==============================] - 0s 3ms/step - loss: 0.5228 - accuracy: 0.7965 - val_loss: 0.2408 - val_accuracy: 0.9649\n",
      "Epoch 46/1000\n",
      " 1/24 [>.............................] - ETA: 0s - loss: 0.6049 - accuracy: 0.7266\n",
      "Epoch 46: saving model to model/keypoint_classifier\\keypoint_classifier.hdf5\n",
      "24/24 [==============================] - 0s 3ms/step - loss: 0.5218 - accuracy: 0.7908 - val_loss: 0.2394 - val_accuracy: 0.9659\n",
      "Epoch 47/1000\n",
      " 1/24 [>.............................] - ETA: 0s - loss: 0.5811 - accuracy: 0.7109\n",
      "Epoch 47: saving model to model/keypoint_classifier\\keypoint_classifier.hdf5\n",
      "24/24 [==============================] - 0s 3ms/step - loss: 0.5173 - accuracy: 0.7972 - val_loss: 0.2387 - val_accuracy: 0.9669\n",
      "Epoch 48/1000\n",
      " 1/24 [>.............................] - ETA: 0s - loss: 0.5514 - accuracy: 0.8125\n",
      "Epoch 48: saving model to model/keypoint_classifier\\keypoint_classifier.hdf5\n",
      "24/24 [==============================] - 0s 3ms/step - loss: 0.5217 - accuracy: 0.7982 - val_loss: 0.2350 - val_accuracy: 0.9639\n",
      "Epoch 49/1000\n",
      " 1/24 [>.............................] - ETA: 0s - loss: 0.4984 - accuracy: 0.7734\n",
      "Epoch 49: saving model to model/keypoint_classifier\\keypoint_classifier.hdf5\n",
      "24/24 [==============================] - 0s 3ms/step - loss: 0.5002 - accuracy: 0.8032 - val_loss: 0.2300 - val_accuracy: 0.9699\n",
      "Epoch 50/1000\n",
      " 1/24 [>.............................] - ETA: 0s - loss: 0.5296 - accuracy: 0.7969\n",
      "Epoch 50: saving model to model/keypoint_classifier\\keypoint_classifier.hdf5\n",
      "24/24 [==============================] - 0s 4ms/step - loss: 0.4864 - accuracy: 0.8082 - val_loss: 0.2244 - val_accuracy: 0.9669\n",
      "Epoch 51/1000\n",
      " 1/24 [>.............................] - ETA: 0s - loss: 0.5361 - accuracy: 0.8047\n",
      "Epoch 51: saving model to model/keypoint_classifier\\keypoint_classifier.hdf5\n",
      "24/24 [==============================] - 0s 4ms/step - loss: 0.4637 - accuracy: 0.8253 - val_loss: 0.2138 - val_accuracy: 0.9669\n",
      "Epoch 52/1000\n",
      " 1/24 [>.............................] - ETA: 0s - loss: 0.4430 - accuracy: 0.8125\n",
      "Epoch 52: saving model to model/keypoint_classifier\\keypoint_classifier.hdf5\n",
      "24/24 [==============================] - 0s 3ms/step - loss: 0.4758 - accuracy: 0.8183 - val_loss: 0.2106 - val_accuracy: 0.9659\n",
      "Epoch 53/1000\n",
      " 1/24 [>.............................] - ETA: 0s - loss: 0.4656 - accuracy: 0.8047\n",
      "Epoch 53: saving model to model/keypoint_classifier\\keypoint_classifier.hdf5\n",
      "24/24 [==============================] - 0s 3ms/step - loss: 0.4925 - accuracy: 0.7982 - val_loss: 0.2080 - val_accuracy: 0.9669\n",
      "Epoch 54/1000\n",
      " 1/24 [>.............................] - ETA: 0s - loss: 0.5179 - accuracy: 0.7891\n",
      "Epoch 54: saving model to model/keypoint_classifier\\keypoint_classifier.hdf5\n",
      "24/24 [==============================] - 0s 3ms/step - loss: 0.4876 - accuracy: 0.8066 - val_loss: 0.2067 - val_accuracy: 0.9709\n",
      "Epoch 55/1000\n",
      " 1/24 [>.............................] - ETA: 0s - loss: 0.4724 - accuracy: 0.8203\n",
      "Epoch 55: saving model to model/keypoint_classifier\\keypoint_classifier.hdf5\n",
      "24/24 [==============================] - 0s 3ms/step - loss: 0.4749 - accuracy: 0.8136 - val_loss: 0.2041 - val_accuracy: 0.9689\n",
      "Epoch 56/1000\n",
      " 1/24 [>.............................] - ETA: 0s - loss: 0.4911 - accuracy: 0.8047\n",
      "Epoch 56: saving model to model/keypoint_classifier\\keypoint_classifier.hdf5\n",
      "24/24 [==============================] - 0s 3ms/step - loss: 0.4672 - accuracy: 0.8240 - val_loss: 0.1995 - val_accuracy: 0.9659\n",
      "Epoch 57/1000\n",
      " 1/24 [>.............................] - ETA: 0s - loss: 0.5004 - accuracy: 0.7891\n",
      "Epoch 57: saving model to model/keypoint_classifier\\keypoint_classifier.hdf5\n",
      "24/24 [==============================] - 0s 3ms/step - loss: 0.4762 - accuracy: 0.8092 - val_loss: 0.1968 - val_accuracy: 0.9679\n",
      "Epoch 58/1000\n",
      " 1/24 [>.............................] - ETA: 0s - loss: 0.5657 - accuracy: 0.7188\n",
      "Epoch 58: saving model to model/keypoint_classifier\\keypoint_classifier.hdf5\n",
      "24/24 [==============================] - 0s 3ms/step - loss: 0.4685 - accuracy: 0.8163 - val_loss: 0.1912 - val_accuracy: 0.9709\n",
      "Epoch 59/1000\n",
      " 1/24 [>.............................] - ETA: 0s - loss: 0.4137 - accuracy: 0.8438\n",
      "Epoch 59: saving model to model/keypoint_classifier\\keypoint_classifier.hdf5\n",
      "24/24 [==============================] - 0s 3ms/step - loss: 0.4408 - accuracy: 0.8300 - val_loss: 0.1891 - val_accuracy: 0.9719\n",
      "Epoch 60/1000\n",
      " 1/24 [>.............................] - ETA: 0s - loss: 0.5881 - accuracy: 0.7500\n",
      "Epoch 60: saving model to model/keypoint_classifier\\keypoint_classifier.hdf5\n",
      "24/24 [==============================] - 0s 3ms/step - loss: 0.4644 - accuracy: 0.8173 - val_loss: 0.1848 - val_accuracy: 0.9689\n",
      "Epoch 61/1000\n",
      " 1/24 [>.............................] - ETA: 0s - loss: 0.4443 - accuracy: 0.8203\n",
      "Epoch 61: saving model to model/keypoint_classifier\\keypoint_classifier.hdf5\n",
      "24/24 [==============================] - 0s 3ms/step - loss: 0.4564 - accuracy: 0.8307 - val_loss: 0.1858 - val_accuracy: 0.9709\n",
      "Epoch 62/1000\n",
      " 1/24 [>.............................] - ETA: 0s - loss: 0.4957 - accuracy: 0.7891\n",
      "Epoch 62: saving model to model/keypoint_classifier\\keypoint_classifier.hdf5\n",
      "24/24 [==============================] - 0s 3ms/step - loss: 0.4668 - accuracy: 0.8133 - val_loss: 0.1831 - val_accuracy: 0.9709\n",
      "Epoch 63/1000\n",
      " 1/24 [>.............................] - ETA: 0s - loss: 0.4258 - accuracy: 0.8438\n",
      "Epoch 63: saving model to model/keypoint_classifier\\keypoint_classifier.hdf5\n",
      "24/24 [==============================] - 0s 3ms/step - loss: 0.4617 - accuracy: 0.8176 - val_loss: 0.1819 - val_accuracy: 0.9709\n",
      "Epoch 64/1000\n",
      " 1/24 [>.............................] - ETA: 0s - loss: 0.4919 - accuracy: 0.7891\n",
      "Epoch 64: saving model to model/keypoint_classifier\\keypoint_classifier.hdf5\n",
      "24/24 [==============================] - 0s 3ms/step - loss: 0.4587 - accuracy: 0.8230 - val_loss: 0.1823 - val_accuracy: 0.9689\n",
      "Epoch 65/1000\n",
      " 1/24 [>.............................] - ETA: 0s - loss: 0.3562 - accuracy: 0.8906\n",
      "Epoch 65: saving model to model/keypoint_classifier\\keypoint_classifier.hdf5\n",
      "24/24 [==============================] - 0s 4ms/step - loss: 0.4351 - accuracy: 0.8337 - val_loss: 0.1793 - val_accuracy: 0.9689\n",
      "Epoch 66/1000\n",
      " 1/24 [>.............................] - ETA: 0s - loss: 0.4316 - accuracy: 0.8438\n",
      "Epoch 66: saving model to model/keypoint_classifier\\keypoint_classifier.hdf5\n",
      "24/24 [==============================] - 0s 3ms/step - loss: 0.4507 - accuracy: 0.8243 - val_loss: 0.1761 - val_accuracy: 0.9699\n",
      "Epoch 67/1000\n",
      " 1/24 [>.............................] - ETA: 0s - loss: 0.5359 - accuracy: 0.7891\n",
      "Epoch 67: saving model to model/keypoint_classifier\\keypoint_classifier.hdf5\n",
      "24/24 [==============================] - 0s 3ms/step - loss: 0.4470 - accuracy: 0.8340 - val_loss: 0.1751 - val_accuracy: 0.9709\n",
      "Epoch 68/1000\n",
      " 1/24 [>.............................] - ETA: 0s - loss: 0.5601 - accuracy: 0.7969\n",
      "Epoch 68: saving model to model/keypoint_classifier\\keypoint_classifier.hdf5\n",
      "24/24 [==============================] - 0s 3ms/step - loss: 0.4543 - accuracy: 0.8243 - val_loss: 0.1756 - val_accuracy: 0.9679\n",
      "Epoch 69/1000\n",
      " 1/24 [>.............................] - ETA: 0s - loss: 0.4600 - accuracy: 0.7969\n",
      "Epoch 69: saving model to model/keypoint_classifier\\keypoint_classifier.hdf5\n",
      "24/24 [==============================] - 0s 3ms/step - loss: 0.4408 - accuracy: 0.8330 - val_loss: 0.1712 - val_accuracy: 0.9689\n",
      "Epoch 70/1000\n",
      " 1/24 [>.............................] - ETA: 0s - loss: 0.4605 - accuracy: 0.8281\n",
      "Epoch 70: saving model to model/keypoint_classifier\\keypoint_classifier.hdf5\n",
      "24/24 [==============================] - 0s 3ms/step - loss: 0.4578 - accuracy: 0.8213 - val_loss: 0.1709 - val_accuracy: 0.9709\n",
      "Epoch 71/1000\n",
      " 1/24 [>.............................] - ETA: 0s - loss: 0.3772 - accuracy: 0.8594\n",
      "Epoch 71: saving model to model/keypoint_classifier\\keypoint_classifier.hdf5\n",
      "24/24 [==============================] - 0s 3ms/step - loss: 0.4304 - accuracy: 0.8353 - val_loss: 0.1687 - val_accuracy: 0.9709\n",
      "Epoch 72/1000\n",
      " 1/24 [>.............................] - ETA: 0s - loss: 0.4113 - accuracy: 0.8750\n",
      "Epoch 72: saving model to model/keypoint_classifier\\keypoint_classifier.hdf5\n",
      "24/24 [==============================] - 0s 3ms/step - loss: 0.4408 - accuracy: 0.8384 - val_loss: 0.1668 - val_accuracy: 0.9719\n",
      "Epoch 73/1000\n",
      " 1/24 [>.............................] - ETA: 0s - loss: 0.4331 - accuracy: 0.8125\n",
      "Epoch 73: saving model to model/keypoint_classifier\\keypoint_classifier.hdf5\n",
      "24/24 [==============================] - 0s 4ms/step - loss: 0.4448 - accuracy: 0.8303 - val_loss: 0.1654 - val_accuracy: 0.9729\n",
      "Epoch 74/1000\n",
      " 1/24 [>.............................] - ETA: 0s - loss: 0.4632 - accuracy: 0.8125\n",
      "Epoch 74: saving model to model/keypoint_classifier\\keypoint_classifier.hdf5\n",
      "24/24 [==============================] - 0s 3ms/step - loss: 0.4250 - accuracy: 0.8350 - val_loss: 0.1622 - val_accuracy: 0.9709\n",
      "Epoch 75/1000\n",
      " 1/24 [>.............................] - ETA: 0s - loss: 0.4530 - accuracy: 0.8438\n",
      "Epoch 75: saving model to model/keypoint_classifier\\keypoint_classifier.hdf5\n",
      "24/24 [==============================] - 0s 3ms/step - loss: 0.4549 - accuracy: 0.8230 - val_loss: 0.1615 - val_accuracy: 0.9719\n",
      "Epoch 76/1000\n",
      " 1/24 [>.............................] - ETA: 0s - loss: 0.4585 - accuracy: 0.7969\n",
      "Epoch 76: saving model to model/keypoint_classifier\\keypoint_classifier.hdf5\n",
      "24/24 [==============================] - 0s 3ms/step - loss: 0.4387 - accuracy: 0.8226 - val_loss: 0.1616 - val_accuracy: 0.9749\n",
      "Epoch 77/1000\n",
      " 1/24 [>.............................] - ETA: 0s - loss: 0.4953 - accuracy: 0.7734\n",
      "Epoch 77: saving model to model/keypoint_classifier\\keypoint_classifier.hdf5\n",
      "24/24 [==============================] - 0s 3ms/step - loss: 0.4392 - accuracy: 0.8276 - val_loss: 0.1648 - val_accuracy: 0.9739\n",
      "Epoch 78/1000\n",
      " 1/24 [>.............................] - ETA: 0s - loss: 0.5235 - accuracy: 0.7812\n",
      "Epoch 78: saving model to model/keypoint_classifier\\keypoint_classifier.hdf5\n",
      "24/24 [==============================] - 0s 3ms/step - loss: 0.4458 - accuracy: 0.8300 - val_loss: 0.1647 - val_accuracy: 0.9749\n",
      "Epoch 79/1000\n",
      " 1/24 [>.............................] - ETA: 0s - loss: 0.4246 - accuracy: 0.8203\n",
      "Epoch 79: saving model to model/keypoint_classifier\\keypoint_classifier.hdf5\n",
      "24/24 [==============================] - 0s 3ms/step - loss: 0.4009 - accuracy: 0.8424 - val_loss: 0.1570 - val_accuracy: 0.9769\n",
      "Epoch 80/1000\n",
      " 1/24 [>.............................] - ETA: 0s - loss: 0.4451 - accuracy: 0.8125\n",
      "Epoch 80: saving model to model/keypoint_classifier\\keypoint_classifier.hdf5\n",
      "24/24 [==============================] - 0s 3ms/step - loss: 0.4378 - accuracy: 0.8317 - val_loss: 0.1596 - val_accuracy: 0.9759\n",
      "Epoch 81/1000\n",
      " 1/24 [>.............................] - ETA: 0s - loss: 0.4359 - accuracy: 0.8359\n",
      "Epoch 81: saving model to model/keypoint_classifier\\keypoint_classifier.hdf5\n",
      "24/24 [==============================] - 0s 3ms/step - loss: 0.4303 - accuracy: 0.8390 - val_loss: 0.1560 - val_accuracy: 0.9759\n",
      "Epoch 82/1000\n",
      " 1/24 [>.............................] - ETA: 0s - loss: 0.4546 - accuracy: 0.8047\n",
      "Epoch 82: saving model to model/keypoint_classifier\\keypoint_classifier.hdf5\n",
      "24/24 [==============================] - 0s 4ms/step - loss: 0.4262 - accuracy: 0.8384 - val_loss: 0.1574 - val_accuracy: 0.9779\n",
      "Epoch 83/1000\n",
      " 1/24 [>.............................] - ETA: 0s - loss: 0.4381 - accuracy: 0.8594\n",
      "Epoch 83: saving model to model/keypoint_classifier\\keypoint_classifier.hdf5\n",
      "24/24 [==============================] - 0s 3ms/step - loss: 0.3999 - accuracy: 0.8501 - val_loss: 0.1534 - val_accuracy: 0.9699\n",
      "Epoch 84/1000\n",
      " 1/24 [>.............................] - ETA: 0s - loss: 0.3181 - accuracy: 0.9219\n",
      "Epoch 84: saving model to model/keypoint_classifier\\keypoint_classifier.hdf5\n",
      "24/24 [==============================] - 0s 3ms/step - loss: 0.4218 - accuracy: 0.8417 - val_loss: 0.1519 - val_accuracy: 0.9719\n",
      "Epoch 85/1000\n",
      " 1/24 [>.............................] - ETA: 0s - loss: 0.4460 - accuracy: 0.8359\n",
      "Epoch 85: saving model to model/keypoint_classifier\\keypoint_classifier.hdf5\n",
      "24/24 [==============================] - 0s 3ms/step - loss: 0.4175 - accuracy: 0.8404 - val_loss: 0.1525 - val_accuracy: 0.9709\n",
      "Epoch 86/1000\n",
      " 1/24 [>.............................] - ETA: 0s - loss: 0.4023 - accuracy: 0.8672\n",
      "Epoch 86: saving model to model/keypoint_classifier\\keypoint_classifier.hdf5\n",
      "24/24 [==============================] - 0s 3ms/step - loss: 0.4136 - accuracy: 0.8437 - val_loss: 0.1503 - val_accuracy: 0.9749\n",
      "Epoch 87/1000\n",
      " 1/24 [>.............................] - ETA: 0s - loss: 0.3716 - accuracy: 0.8594\n",
      "Epoch 87: saving model to model/keypoint_classifier\\keypoint_classifier.hdf5\n",
      "24/24 [==============================] - 0s 4ms/step - loss: 0.4080 - accuracy: 0.8434 - val_loss: 0.1478 - val_accuracy: 0.9739\n",
      "Epoch 88/1000\n",
      " 1/24 [>.............................] - ETA: 0s - loss: 0.4140 - accuracy: 0.8281\n",
      "Epoch 88: saving model to model/keypoint_classifier\\keypoint_classifier.hdf5\n",
      "24/24 [==============================] - 0s 3ms/step - loss: 0.4052 - accuracy: 0.8444 - val_loss: 0.1448 - val_accuracy: 0.9739\n",
      "Epoch 89/1000\n",
      " 1/24 [>.............................] - ETA: 0s - loss: 0.3724 - accuracy: 0.8359\n",
      "Epoch 89: saving model to model/keypoint_classifier\\keypoint_classifier.hdf5\n",
      "24/24 [==============================] - 0s 3ms/step - loss: 0.4115 - accuracy: 0.8430 - val_loss: 0.1464 - val_accuracy: 0.9739\n",
      "Epoch 90/1000\n",
      " 1/24 [>.............................] - ETA: 0s - loss: 0.4945 - accuracy: 0.8125\n",
      "Epoch 90: saving model to model/keypoint_classifier\\keypoint_classifier.hdf5\n",
      "24/24 [==============================] - 0s 3ms/step - loss: 0.3959 - accuracy: 0.8491 - val_loss: 0.1440 - val_accuracy: 0.9749\n",
      "Epoch 91/1000\n",
      " 1/24 [>.............................] - ETA: 0s - loss: 0.3841 - accuracy: 0.8750\n",
      "Epoch 91: saving model to model/keypoint_classifier\\keypoint_classifier.hdf5\n",
      "24/24 [==============================] - 0s 3ms/step - loss: 0.4134 - accuracy: 0.8414 - val_loss: 0.1438 - val_accuracy: 0.9759\n",
      "Epoch 92/1000\n",
      " 1/24 [>.............................] - ETA: 0s - loss: 0.3430 - accuracy: 0.8516\n",
      "Epoch 92: saving model to model/keypoint_classifier\\keypoint_classifier.hdf5\n",
      "24/24 [==============================] - 0s 3ms/step - loss: 0.4101 - accuracy: 0.8467 - val_loss: 0.1455 - val_accuracy: 0.9759\n",
      "Epoch 93/1000\n",
      " 1/24 [>.............................] - ETA: 0s - loss: 0.3821 - accuracy: 0.8516\n",
      "Epoch 93: saving model to model/keypoint_classifier\\keypoint_classifier.hdf5\n",
      "24/24 [==============================] - 0s 3ms/step - loss: 0.4029 - accuracy: 0.8491 - val_loss: 0.1432 - val_accuracy: 0.9759\n",
      "Epoch 94/1000\n",
      " 1/24 [>.............................] - ETA: 0s - loss: 0.3382 - accuracy: 0.8516\n",
      "Epoch 94: saving model to model/keypoint_classifier\\keypoint_classifier.hdf5\n",
      "24/24 [==============================] - 0s 3ms/step - loss: 0.4109 - accuracy: 0.8440 - val_loss: 0.1415 - val_accuracy: 0.9749\n",
      "Epoch 95/1000\n",
      " 1/24 [>.............................] - ETA: 0s - loss: 0.3873 - accuracy: 0.8438\n",
      "Epoch 95: saving model to model/keypoint_classifier\\keypoint_classifier.hdf5\n",
      "24/24 [==============================] - 0s 3ms/step - loss: 0.4292 - accuracy: 0.8384 - val_loss: 0.1427 - val_accuracy: 0.9759\n",
      "Epoch 96/1000\n",
      " 1/24 [>.............................] - ETA: 0s - loss: 0.3717 - accuracy: 0.8750\n",
      "Epoch 96: saving model to model/keypoint_classifier\\keypoint_classifier.hdf5\n",
      "24/24 [==============================] - 0s 3ms/step - loss: 0.4045 - accuracy: 0.8427 - val_loss: 0.1417 - val_accuracy: 0.9729\n",
      "Epoch 97/1000\n",
      " 1/24 [>.............................] - ETA: 0s - loss: 0.3548 - accuracy: 0.8516\n",
      "Epoch 97: saving model to model/keypoint_classifier\\keypoint_classifier.hdf5\n",
      "24/24 [==============================] - 0s 3ms/step - loss: 0.3990 - accuracy: 0.8440 - val_loss: 0.1359 - val_accuracy: 0.9759\n",
      "Epoch 98/1000\n",
      " 1/24 [>.............................] - ETA: 0s - loss: 0.5059 - accuracy: 0.8203\n",
      "Epoch 98: saving model to model/keypoint_classifier\\keypoint_classifier.hdf5\n",
      "24/24 [==============================] - 0s 3ms/step - loss: 0.4159 - accuracy: 0.8370 - val_loss: 0.1374 - val_accuracy: 0.9739\n",
      "Epoch 99/1000\n",
      " 1/24 [>.............................] - ETA: 0s - loss: 0.3708 - accuracy: 0.8594\n",
      "Epoch 99: saving model to model/keypoint_classifier\\keypoint_classifier.hdf5\n",
      "24/24 [==============================] - 0s 4ms/step - loss: 0.3823 - accuracy: 0.8534 - val_loss: 0.1389 - val_accuracy: 0.9769\n",
      "Epoch 100/1000\n",
      " 1/24 [>.............................] - ETA: 0s - loss: 0.4343 - accuracy: 0.8594\n",
      "Epoch 100: saving model to model/keypoint_classifier\\keypoint_classifier.hdf5\n",
      "24/24 [==============================] - 0s 3ms/step - loss: 0.4139 - accuracy: 0.8440 - val_loss: 0.1395 - val_accuracy: 0.9769\n",
      "Epoch 101/1000\n",
      " 1/24 [>.............................] - ETA: 0s - loss: 0.4940 - accuracy: 0.7969\n",
      "Epoch 101: saving model to model/keypoint_classifier\\keypoint_classifier.hdf5\n",
      "24/24 [==============================] - 0s 3ms/step - loss: 0.3953 - accuracy: 0.8517 - val_loss: 0.1376 - val_accuracy: 0.9769\n",
      "Epoch 102/1000\n",
      " 1/24 [>.............................] - ETA: 0s - loss: 0.5186 - accuracy: 0.8203\n",
      "Epoch 102: saving model to model/keypoint_classifier\\keypoint_classifier.hdf5\n",
      "24/24 [==============================] - 0s 3ms/step - loss: 0.3805 - accuracy: 0.8481 - val_loss: 0.1338 - val_accuracy: 0.9779\n",
      "Epoch 103/1000\n",
      " 1/24 [>.............................] - ETA: 0s - loss: 0.3584 - accuracy: 0.8438\n",
      "Epoch 103: saving model to model/keypoint_classifier\\keypoint_classifier.hdf5\n",
      "24/24 [==============================] - 0s 3ms/step - loss: 0.3755 - accuracy: 0.8548 - val_loss: 0.1300 - val_accuracy: 0.9769\n",
      "Epoch 104/1000\n",
      " 1/24 [>.............................] - ETA: 0s - loss: 0.4007 - accuracy: 0.8281\n",
      "Epoch 104: saving model to model/keypoint_classifier\\keypoint_classifier.hdf5\n",
      "24/24 [==============================] - 0s 3ms/step - loss: 0.3974 - accuracy: 0.8491 - val_loss: 0.1302 - val_accuracy: 0.9749\n",
      "Epoch 105/1000\n",
      " 1/24 [>.............................] - ETA: 0s - loss: 0.3167 - accuracy: 0.8828\n",
      "Epoch 105: saving model to model/keypoint_classifier\\keypoint_classifier.hdf5\n",
      "24/24 [==============================] - 0s 3ms/step - loss: 0.3978 - accuracy: 0.8450 - val_loss: 0.1279 - val_accuracy: 0.9749\n",
      "Epoch 106/1000\n",
      " 1/24 [>.............................] - ETA: 0s - loss: 0.3795 - accuracy: 0.8672\n",
      "Epoch 106: saving model to model/keypoint_classifier\\keypoint_classifier.hdf5\n",
      "24/24 [==============================] - 0s 3ms/step - loss: 0.3915 - accuracy: 0.8450 - val_loss: 0.1303 - val_accuracy: 0.9749\n",
      "Epoch 107/1000\n",
      " 1/24 [>.............................] - ETA: 0s - loss: 0.3672 - accuracy: 0.8672\n",
      "Epoch 107: saving model to model/keypoint_classifier\\keypoint_classifier.hdf5\n",
      "24/24 [==============================] - 0s 4ms/step - loss: 0.3901 - accuracy: 0.8548 - val_loss: 0.1303 - val_accuracy: 0.9749\n",
      "Epoch 108/1000\n",
      " 1/24 [>.............................] - ETA: 0s - loss: 0.4055 - accuracy: 0.8516\n",
      "Epoch 108: saving model to model/keypoint_classifier\\keypoint_classifier.hdf5\n",
      "24/24 [==============================] - 0s 3ms/step - loss: 0.3856 - accuracy: 0.8541 - val_loss: 0.1274 - val_accuracy: 0.9769\n",
      "Epoch 109/1000\n",
      " 1/24 [>.............................] - ETA: 0s - loss: 0.3189 - accuracy: 0.8516\n",
      "Epoch 109: saving model to model/keypoint_classifier\\keypoint_classifier.hdf5\n",
      "24/24 [==============================] - 0s 3ms/step - loss: 0.3837 - accuracy: 0.8541 - val_loss: 0.1300 - val_accuracy: 0.9749\n",
      "Epoch 110/1000\n",
      " 1/24 [>.............................] - ETA: 0s - loss: 0.3734 - accuracy: 0.8750\n",
      "Epoch 110: saving model to model/keypoint_classifier\\keypoint_classifier.hdf5\n",
      "24/24 [==============================] - 0s 3ms/step - loss: 0.3846 - accuracy: 0.8537 - val_loss: 0.1281 - val_accuracy: 0.9769\n",
      "Epoch 111/1000\n",
      " 1/24 [>.............................] - ETA: 0s - loss: 0.4149 - accuracy: 0.8438\n",
      "Epoch 111: saving model to model/keypoint_classifier\\keypoint_classifier.hdf5\n",
      "24/24 [==============================] - 0s 3ms/step - loss: 0.3663 - accuracy: 0.8618 - val_loss: 0.1267 - val_accuracy: 0.9779\n",
      "Epoch 112/1000\n",
      " 1/24 [>.............................] - ETA: 0s - loss: 0.4404 - accuracy: 0.8438\n",
      "Epoch 112: saving model to model/keypoint_classifier\\keypoint_classifier.hdf5\n",
      "24/24 [==============================] - 0s 3ms/step - loss: 0.3748 - accuracy: 0.8568 - val_loss: 0.1245 - val_accuracy: 0.9779\n",
      "Epoch 113/1000\n",
      " 1/24 [>.............................] - ETA: 0s - loss: 0.3428 - accuracy: 0.8672\n",
      "Epoch 113: saving model to model/keypoint_classifier\\keypoint_classifier.hdf5\n",
      "24/24 [==============================] - 0s 3ms/step - loss: 0.3775 - accuracy: 0.8564 - val_loss: 0.1237 - val_accuracy: 0.9789\n",
      "Epoch 114/1000\n",
      " 1/24 [>.............................] - ETA: 0s - loss: 0.3435 - accuracy: 0.8984\n",
      "Epoch 114: saving model to model/keypoint_classifier\\keypoint_classifier.hdf5\n",
      "24/24 [==============================] - 0s 3ms/step - loss: 0.3906 - accuracy: 0.8477 - val_loss: 0.1291 - val_accuracy: 0.9779\n",
      "Epoch 115/1000\n",
      " 1/24 [>.............................] - ETA: 0s - loss: 0.4095 - accuracy: 0.8125\n",
      "Epoch 115: saving model to model/keypoint_classifier\\keypoint_classifier.hdf5\n",
      "24/24 [==============================] - 0s 3ms/step - loss: 0.3883 - accuracy: 0.8461 - val_loss: 0.1297 - val_accuracy: 0.9799\n",
      "Epoch 116/1000\n",
      " 1/24 [>.............................] - ETA: 0s - loss: 0.3903 - accuracy: 0.8359\n",
      "Epoch 116: saving model to model/keypoint_classifier\\keypoint_classifier.hdf5\n",
      "24/24 [==============================] - 0s 4ms/step - loss: 0.3938 - accuracy: 0.8548 - val_loss: 0.1264 - val_accuracy: 0.9779\n",
      "Epoch 117/1000\n",
      " 1/24 [>.............................] - ETA: 0s - loss: 0.3383 - accuracy: 0.8672\n",
      "Epoch 117: saving model to model/keypoint_classifier\\keypoint_classifier.hdf5\n",
      "24/24 [==============================] - 0s 3ms/step - loss: 0.3820 - accuracy: 0.8524 - val_loss: 0.1270 - val_accuracy: 0.9779\n",
      "Epoch 118/1000\n",
      " 1/24 [>.............................] - ETA: 0s - loss: 0.4039 - accuracy: 0.8438\n",
      "Epoch 118: saving model to model/keypoint_classifier\\keypoint_classifier.hdf5\n",
      "24/24 [==============================] - 0s 3ms/step - loss: 0.3780 - accuracy: 0.8564 - val_loss: 0.1267 - val_accuracy: 0.9779\n",
      "Epoch 119/1000\n",
      " 1/24 [>.............................] - ETA: 0s - loss: 0.4098 - accuracy: 0.8281\n",
      "Epoch 119: saving model to model/keypoint_classifier\\keypoint_classifier.hdf5\n",
      "24/24 [==============================] - 0s 3ms/step - loss: 0.3922 - accuracy: 0.8537 - val_loss: 0.1258 - val_accuracy: 0.9789\n",
      "Epoch 120/1000\n",
      " 1/24 [>.............................] - ETA: 0s - loss: 0.3761 - accuracy: 0.8906\n",
      "Epoch 120: saving model to model/keypoint_classifier\\keypoint_classifier.hdf5\n",
      "24/24 [==============================] - 0s 3ms/step - loss: 0.3926 - accuracy: 0.8544 - val_loss: 0.1247 - val_accuracy: 0.9789\n",
      "Epoch 121/1000\n",
      " 1/24 [>.............................] - ETA: 0s - loss: 0.3790 - accuracy: 0.8359\n",
      "Epoch 121: saving model to model/keypoint_classifier\\keypoint_classifier.hdf5\n",
      "24/24 [==============================] - 0s 3ms/step - loss: 0.3968 - accuracy: 0.8504 - val_loss: 0.1266 - val_accuracy: 0.9789\n",
      "Epoch 122/1000\n",
      " 1/24 [>.............................] - ETA: 0s - loss: 0.3495 - accuracy: 0.8438\n",
      "Epoch 122: saving model to model/keypoint_classifier\\keypoint_classifier.hdf5\n",
      "24/24 [==============================] - 0s 3ms/step - loss: 0.3597 - accuracy: 0.8661 - val_loss: 0.1248 - val_accuracy: 0.9769\n",
      "Epoch 123/1000\n",
      " 1/24 [>.............................] - ETA: 0s - loss: 0.3783 - accuracy: 0.8672\n",
      "Epoch 123: saving model to model/keypoint_classifier\\keypoint_classifier.hdf5\n",
      "24/24 [==============================] - 0s 4ms/step - loss: 0.3917 - accuracy: 0.8481 - val_loss: 0.1225 - val_accuracy: 0.9779\n",
      "Epoch 124/1000\n",
      " 1/24 [>.............................] - ETA: 0s - loss: 0.3713 - accuracy: 0.8672\n",
      "Epoch 124: saving model to model/keypoint_classifier\\keypoint_classifier.hdf5\n",
      "24/24 [==============================] - 0s 3ms/step - loss: 0.3562 - accuracy: 0.8658 - val_loss: 0.1236 - val_accuracy: 0.9779\n",
      "Epoch 125/1000\n",
      " 1/24 [>.............................] - ETA: 0s - loss: 0.3889 - accuracy: 0.8359\n",
      "Epoch 125: saving model to model/keypoint_classifier\\keypoint_classifier.hdf5\n",
      "24/24 [==============================] - 0s 3ms/step - loss: 0.3725 - accuracy: 0.8464 - val_loss: 0.1221 - val_accuracy: 0.9809\n",
      "Epoch 126/1000\n",
      " 1/24 [>.............................] - ETA: 0s - loss: 0.3029 - accuracy: 0.8828\n",
      "Epoch 126: saving model to model/keypoint_classifier\\keypoint_classifier.hdf5\n",
      "24/24 [==============================] - 0s 4ms/step - loss: 0.3625 - accuracy: 0.8551 - val_loss: 0.1226 - val_accuracy: 0.9809\n",
      "Epoch 127/1000\n",
      " 1/24 [>.............................] - ETA: 0s - loss: 0.3594 - accuracy: 0.8516\n",
      "Epoch 127: saving model to model/keypoint_classifier\\keypoint_classifier.hdf5\n",
      "24/24 [==============================] - 0s 3ms/step - loss: 0.3613 - accuracy: 0.8661 - val_loss: 0.1242 - val_accuracy: 0.9789\n",
      "Epoch 128/1000\n",
      " 1/24 [>.............................] - ETA: 0s - loss: 0.3377 - accuracy: 0.8906\n",
      "Epoch 128: saving model to model/keypoint_classifier\\keypoint_classifier.hdf5\n",
      "24/24 [==============================] - 0s 3ms/step - loss: 0.3768 - accuracy: 0.8524 - val_loss: 0.1205 - val_accuracy: 0.9779\n",
      "Epoch 129/1000\n",
      " 1/24 [>.............................] - ETA: 0s - loss: 0.4545 - accuracy: 0.7969\n",
      "Epoch 129: saving model to model/keypoint_classifier\\keypoint_classifier.hdf5\n",
      "24/24 [==============================] - 0s 3ms/step - loss: 0.3885 - accuracy: 0.8507 - val_loss: 0.1193 - val_accuracy: 0.9799\n",
      "Epoch 130/1000\n",
      " 1/24 [>.............................] - ETA: 0s - loss: 0.4877 - accuracy: 0.7656\n",
      "Epoch 130: saving model to model/keypoint_classifier\\keypoint_classifier.hdf5\n",
      "24/24 [==============================] - 0s 3ms/step - loss: 0.3722 - accuracy: 0.8521 - val_loss: 0.1199 - val_accuracy: 0.9809\n",
      "Epoch 131/1000\n",
      " 1/24 [>.............................] - ETA: 0s - loss: 0.4180 - accuracy: 0.8281\n",
      "Epoch 131: saving model to model/keypoint_classifier\\keypoint_classifier.hdf5\n",
      "24/24 [==============================] - 0s 3ms/step - loss: 0.3682 - accuracy: 0.8631 - val_loss: 0.1179 - val_accuracy: 0.9799\n",
      "Epoch 132/1000\n",
      " 1/24 [>.............................] - ETA: 0s - loss: 0.3586 - accuracy: 0.8516\n",
      "Epoch 132: saving model to model/keypoint_classifier\\keypoint_classifier.hdf5\n",
      "24/24 [==============================] - 0s 3ms/step - loss: 0.3833 - accuracy: 0.8571 - val_loss: 0.1163 - val_accuracy: 0.9809\n",
      "Epoch 133/1000\n",
      " 1/24 [>.............................] - ETA: 0s - loss: 0.3974 - accuracy: 0.8672\n",
      "Epoch 133: saving model to model/keypoint_classifier\\keypoint_classifier.hdf5\n",
      "24/24 [==============================] - 0s 3ms/step - loss: 0.3820 - accuracy: 0.8504 - val_loss: 0.1157 - val_accuracy: 0.9819\n",
      "Epoch 134/1000\n",
      " 1/24 [>.............................] - ETA: 0s - loss: 0.3320 - accuracy: 0.8438\n",
      "Epoch 134: saving model to model/keypoint_classifier\\keypoint_classifier.hdf5\n",
      "24/24 [==============================] - 0s 3ms/step - loss: 0.3865 - accuracy: 0.8477 - val_loss: 0.1157 - val_accuracy: 0.9809\n",
      "Epoch 135/1000\n",
      " 1/24 [>.............................] - ETA: 0s - loss: 0.4557 - accuracy: 0.7891\n",
      "Epoch 135: saving model to model/keypoint_classifier\\keypoint_classifier.hdf5\n",
      "24/24 [==============================] - 0s 3ms/step - loss: 0.3729 - accuracy: 0.8474 - val_loss: 0.1168 - val_accuracy: 0.9799\n",
      "Epoch 136/1000\n",
      " 1/24 [>.............................] - ETA: 0s - loss: 0.3617 - accuracy: 0.8281\n",
      "Epoch 136: saving model to model/keypoint_classifier\\keypoint_classifier.hdf5\n",
      "24/24 [==============================] - 0s 3ms/step - loss: 0.3567 - accuracy: 0.8648 - val_loss: 0.1137 - val_accuracy: 0.9799\n",
      "Epoch 137/1000\n",
      " 1/24 [>.............................] - ETA: 0s - loss: 0.3903 - accuracy: 0.8516\n",
      "Epoch 137: saving model to model/keypoint_classifier\\keypoint_classifier.hdf5\n",
      "24/24 [==============================] - 0s 4ms/step - loss: 0.3702 - accuracy: 0.8524 - val_loss: 0.1136 - val_accuracy: 0.9789\n",
      "Epoch 138/1000\n",
      " 1/24 [>.............................] - ETA: 0s - loss: 0.4556 - accuracy: 0.8359\n",
      "Epoch 138: saving model to model/keypoint_classifier\\keypoint_classifier.hdf5\n",
      "24/24 [==============================] - 0s 3ms/step - loss: 0.3735 - accuracy: 0.8635 - val_loss: 0.1129 - val_accuracy: 0.9809\n",
      "Epoch 139/1000\n",
      " 1/24 [>.............................] - ETA: 0s - loss: 0.3232 - accuracy: 0.8516\n",
      "Epoch 139: saving model to model/keypoint_classifier\\keypoint_classifier.hdf5\n",
      "24/24 [==============================] - 0s 3ms/step - loss: 0.3546 - accuracy: 0.8715 - val_loss: 0.1150 - val_accuracy: 0.9799\n",
      "Epoch 140/1000\n",
      " 1/24 [>.............................] - ETA: 0s - loss: 0.4264 - accuracy: 0.8516\n",
      "Epoch 140: saving model to model/keypoint_classifier\\keypoint_classifier.hdf5\n",
      "24/24 [==============================] - 0s 3ms/step - loss: 0.3666 - accuracy: 0.8578 - val_loss: 0.1181 - val_accuracy: 0.9799\n",
      "Epoch 141/1000\n",
      " 1/24 [>.............................] - ETA: 0s - loss: 0.3571 - accuracy: 0.8750\n",
      "Epoch 141: saving model to model/keypoint_classifier\\keypoint_classifier.hdf5\n",
      "24/24 [==============================] - 0s 3ms/step - loss: 0.3613 - accuracy: 0.8691 - val_loss: 0.1169 - val_accuracy: 0.9799\n",
      "Epoch 142/1000\n",
      " 1/24 [>.............................] - ETA: 0s - loss: 0.3633 - accuracy: 0.8594\n",
      "Epoch 142: saving model to model/keypoint_classifier\\keypoint_classifier.hdf5\n",
      "24/24 [==============================] - 0s 3ms/step - loss: 0.3643 - accuracy: 0.8685 - val_loss: 0.1142 - val_accuracy: 0.9799\n",
      "Epoch 143/1000\n",
      " 1/24 [>.............................] - ETA: 0s - loss: 0.3648 - accuracy: 0.8672\n",
      "Epoch 143: saving model to model/keypoint_classifier\\keypoint_classifier.hdf5\n",
      "24/24 [==============================] - 0s 3ms/step - loss: 0.3665 - accuracy: 0.8598 - val_loss: 0.1153 - val_accuracy: 0.9789\n",
      "Epoch 144/1000\n",
      " 1/24 [>.............................] - ETA: 0s - loss: 0.2830 - accuracy: 0.9141\n",
      "Epoch 144: saving model to model/keypoint_classifier\\keypoint_classifier.hdf5\n",
      "24/24 [==============================] - 0s 3ms/step - loss: 0.3403 - accuracy: 0.8678 - val_loss: 0.1143 - val_accuracy: 0.9799\n",
      "Epoch 145/1000\n",
      " 1/24 [>.............................] - ETA: 0s - loss: 0.2364 - accuracy: 0.9297\n",
      "Epoch 145: saving model to model/keypoint_classifier\\keypoint_classifier.hdf5\n",
      "24/24 [==============================] - 0s 3ms/step - loss: 0.3746 - accuracy: 0.8561 - val_loss: 0.1109 - val_accuracy: 0.9799\n",
      "Epoch 146/1000\n",
      " 1/24 [>.............................] - ETA: 0s - loss: 0.4026 - accuracy: 0.8203\n",
      "Epoch 146: saving model to model/keypoint_classifier\\keypoint_classifier.hdf5\n",
      "24/24 [==============================] - 0s 3ms/step - loss: 0.3841 - accuracy: 0.8467 - val_loss: 0.1095 - val_accuracy: 0.9799\n",
      "Epoch 147/1000\n",
      " 1/24 [>.............................] - ETA: 0s - loss: 0.3279 - accuracy: 0.8828\n",
      "Epoch 147: saving model to model/keypoint_classifier\\keypoint_classifier.hdf5\n",
      "24/24 [==============================] - 0s 3ms/step - loss: 0.3478 - accuracy: 0.8681 - val_loss: 0.1101 - val_accuracy: 0.9809\n",
      "Epoch 148/1000\n",
      " 1/24 [>.............................] - ETA: 0s - loss: 0.3426 - accuracy: 0.8828\n",
      "Epoch 148: saving model to model/keypoint_classifier\\keypoint_classifier.hdf5\n",
      "24/24 [==============================] - 0s 3ms/step - loss: 0.3555 - accuracy: 0.8651 - val_loss: 0.1107 - val_accuracy: 0.9809\n",
      "Epoch 149/1000\n",
      " 1/24 [>.............................] - ETA: 0s - loss: 0.3297 - accuracy: 0.8672\n",
      "Epoch 149: saving model to model/keypoint_classifier\\keypoint_classifier.hdf5\n",
      "24/24 [==============================] - 0s 3ms/step - loss: 0.3665 - accuracy: 0.8638 - val_loss: 0.1086 - val_accuracy: 0.9829\n",
      "Epoch 150/1000\n",
      " 1/24 [>.............................] - ETA: 0s - loss: 0.3308 - accuracy: 0.8672\n",
      "Epoch 150: saving model to model/keypoint_classifier\\keypoint_classifier.hdf5\n",
      "24/24 [==============================] - 0s 3ms/step - loss: 0.3389 - accuracy: 0.8708 - val_loss: 0.1078 - val_accuracy: 0.9809\n",
      "Epoch 151/1000\n",
      " 1/24 [>.............................] - ETA: 0s - loss: 0.3367 - accuracy: 0.8828\n",
      "Epoch 151: saving model to model/keypoint_classifier\\keypoint_classifier.hdf5\n",
      "24/24 [==============================] - 0s 3ms/step - loss: 0.3509 - accuracy: 0.8691 - val_loss: 0.1082 - val_accuracy: 0.9819\n",
      "Epoch 152/1000\n",
      " 1/24 [>.............................] - ETA: 0s - loss: 0.2790 - accuracy: 0.9062\n",
      "Epoch 152: saving model to model/keypoint_classifier\\keypoint_classifier.hdf5\n",
      "24/24 [==============================] - 0s 3ms/step - loss: 0.3560 - accuracy: 0.8698 - val_loss: 0.1088 - val_accuracy: 0.9819\n",
      "Epoch 153/1000\n",
      " 1/24 [>.............................] - ETA: 0s - loss: 0.4874 - accuracy: 0.8438\n",
      "Epoch 153: saving model to model/keypoint_classifier\\keypoint_classifier.hdf5\n",
      "24/24 [==============================] - 0s 3ms/step - loss: 0.3740 - accuracy: 0.8578 - val_loss: 0.1105 - val_accuracy: 0.9819\n",
      "Epoch 154/1000\n",
      " 1/24 [>.............................] - ETA: 0s - loss: 0.3026 - accuracy: 0.8906\n",
      "Epoch 154: saving model to model/keypoint_classifier\\keypoint_classifier.hdf5\n",
      "24/24 [==============================] - 0s 3ms/step - loss: 0.3515 - accuracy: 0.8621 - val_loss: 0.1099 - val_accuracy: 0.9809\n",
      "Epoch 155/1000\n",
      " 1/24 [>.............................] - ETA: 0s - loss: 0.3040 - accuracy: 0.8906\n",
      "Epoch 155: saving model to model/keypoint_classifier\\keypoint_classifier.hdf5\n",
      "24/24 [==============================] - 0s 3ms/step - loss: 0.3864 - accuracy: 0.8494 - val_loss: 0.1095 - val_accuracy: 0.9799\n",
      "Epoch 156/1000\n",
      " 1/24 [>.............................] - ETA: 0s - loss: 0.3649 - accuracy: 0.8516\n",
      "Epoch 156: saving model to model/keypoint_classifier\\keypoint_classifier.hdf5\n",
      "24/24 [==============================] - 0s 3ms/step - loss: 0.3512 - accuracy: 0.8675 - val_loss: 0.1088 - val_accuracy: 0.9809\n",
      "Epoch 157/1000\n",
      " 1/24 [>.............................] - ETA: 0s - loss: 0.3394 - accuracy: 0.8828\n",
      "Epoch 157: saving model to model/keypoint_classifier\\keypoint_classifier.hdf5\n",
      "24/24 [==============================] - 0s 3ms/step - loss: 0.3642 - accuracy: 0.8638 - val_loss: 0.1072 - val_accuracy: 0.9819\n",
      "Epoch 158/1000\n",
      " 1/24 [>.............................] - ETA: 0s - loss: 0.4735 - accuracy: 0.8047\n",
      "Epoch 158: saving model to model/keypoint_classifier\\keypoint_classifier.hdf5\n",
      "24/24 [==============================] - 0s 3ms/step - loss: 0.3654 - accuracy: 0.8618 - val_loss: 0.1075 - val_accuracy: 0.9809\n",
      "Epoch 159/1000\n",
      " 1/24 [>.............................] - ETA: 0s - loss: 0.2539 - accuracy: 0.9531\n",
      "Epoch 159: saving model to model/keypoint_classifier\\keypoint_classifier.hdf5\n",
      "24/24 [==============================] - 0s 3ms/step - loss: 0.3619 - accuracy: 0.8725 - val_loss: 0.1099 - val_accuracy: 0.9809\n",
      "Epoch 160/1000\n",
      " 1/24 [>.............................] - ETA: 0s - loss: 0.4037 - accuracy: 0.8281\n",
      "Epoch 160: saving model to model/keypoint_classifier\\keypoint_classifier.hdf5\n",
      "24/24 [==============================] - 0s 3ms/step - loss: 0.3547 - accuracy: 0.8651 - val_loss: 0.1090 - val_accuracy: 0.9809\n",
      "Epoch 161/1000\n",
      " 1/24 [>.............................] - ETA: 0s - loss: 0.2855 - accuracy: 0.8984\n",
      "Epoch 161: saving model to model/keypoint_classifier\\keypoint_classifier.hdf5\n",
      "24/24 [==============================] - 0s 3ms/step - loss: 0.3529 - accuracy: 0.8661 - val_loss: 0.1102 - val_accuracy: 0.9789\n",
      "Epoch 162/1000\n",
      " 1/24 [>.............................] - ETA: 0s - loss: 0.4726 - accuracy: 0.8281\n",
      "Epoch 162: saving model to model/keypoint_classifier\\keypoint_classifier.hdf5\n",
      "24/24 [==============================] - 0s 3ms/step - loss: 0.3511 - accuracy: 0.8708 - val_loss: 0.1098 - val_accuracy: 0.9799\n",
      "Epoch 163/1000\n",
      " 1/24 [>.............................] - ETA: 0s - loss: 0.3219 - accuracy: 0.8828\n",
      "Epoch 163: saving model to model/keypoint_classifier\\keypoint_classifier.hdf5\n",
      "24/24 [==============================] - 0s 3ms/step - loss: 0.3367 - accuracy: 0.8715 - val_loss: 0.1039 - val_accuracy: 0.9809\n",
      "Epoch 164/1000\n",
      " 1/24 [>.............................] - ETA: 0s - loss: 0.3084 - accuracy: 0.9062\n",
      "Epoch 164: saving model to model/keypoint_classifier\\keypoint_classifier.hdf5\n",
      "24/24 [==============================] - 0s 3ms/step - loss: 0.3505 - accuracy: 0.8635 - val_loss: 0.1076 - val_accuracy: 0.9799\n",
      "Epoch 165/1000\n",
      " 1/24 [>.............................] - ETA: 0s - loss: 0.4141 - accuracy: 0.8594\n",
      "Epoch 165: saving model to model/keypoint_classifier\\keypoint_classifier.hdf5\n",
      "24/24 [==============================] - 0s 3ms/step - loss: 0.3557 - accuracy: 0.8675 - val_loss: 0.1068 - val_accuracy: 0.9819\n",
      "Epoch 166/1000\n",
      " 1/24 [>.............................] - ETA: 0s - loss: 0.3879 - accuracy: 0.8594\n",
      "Epoch 166: saving model to model/keypoint_classifier\\keypoint_classifier.hdf5\n",
      "24/24 [==============================] - 0s 3ms/step - loss: 0.3446 - accuracy: 0.8648 - val_loss: 0.1073 - val_accuracy: 0.9799\n",
      "Epoch 167/1000\n",
      " 1/24 [>.............................] - ETA: 0s - loss: 0.3220 - accuracy: 0.8750\n",
      "Epoch 167: saving model to model/keypoint_classifier\\keypoint_classifier.hdf5\n",
      "24/24 [==============================] - 0s 3ms/step - loss: 0.3705 - accuracy: 0.8618 - val_loss: 0.1076 - val_accuracy: 0.9809\n",
      "Epoch 168/1000\n",
      " 1/24 [>.............................] - ETA: 0s - loss: 0.3534 - accuracy: 0.8594\n",
      "Epoch 168: saving model to model/keypoint_classifier\\keypoint_classifier.hdf5\n",
      "24/24 [==============================] - 0s 3ms/step - loss: 0.3576 - accuracy: 0.8688 - val_loss: 0.1066 - val_accuracy: 0.9789\n",
      "Epoch 169/1000\n",
      " 1/24 [>.............................] - ETA: 0s - loss: 0.4714 - accuracy: 0.8203\n",
      "Epoch 169: saving model to model/keypoint_classifier\\keypoint_classifier.hdf5\n",
      "24/24 [==============================] - 0s 3ms/step - loss: 0.3439 - accuracy: 0.8718 - val_loss: 0.1084 - val_accuracy: 0.9799\n",
      "Epoch 170/1000\n",
      " 1/24 [>.............................] - ETA: 0s - loss: 0.3104 - accuracy: 0.9297\n",
      "Epoch 170: saving model to model/keypoint_classifier\\keypoint_classifier.hdf5\n",
      "24/24 [==============================] - 0s 4ms/step - loss: 0.3500 - accuracy: 0.8695 - val_loss: 0.1125 - val_accuracy: 0.9799\n",
      "Epoch 171/1000\n",
      " 1/24 [>.............................] - ETA: 0s - loss: 0.4018 - accuracy: 0.8516\n",
      "Epoch 171: saving model to model/keypoint_classifier\\keypoint_classifier.hdf5\n",
      "24/24 [==============================] - 0s 3ms/step - loss: 0.3639 - accuracy: 0.8564 - val_loss: 0.1095 - val_accuracy: 0.9819\n",
      "Epoch 172/1000\n",
      " 1/24 [>.............................] - ETA: 0s - loss: 0.4946 - accuracy: 0.8281\n",
      "Epoch 172: saving model to model/keypoint_classifier\\keypoint_classifier.hdf5\n",
      "24/24 [==============================] - 0s 3ms/step - loss: 0.3501 - accuracy: 0.8661 - val_loss: 0.1114 - val_accuracy: 0.9809\n",
      "Epoch 173/1000\n",
      " 1/24 [>.............................] - ETA: 0s - loss: 0.3581 - accuracy: 0.8594\n",
      "Epoch 173: saving model to model/keypoint_classifier\\keypoint_classifier.hdf5\n",
      "24/24 [==============================] - 0s 3ms/step - loss: 0.3555 - accuracy: 0.8604 - val_loss: 0.1085 - val_accuracy: 0.9809\n",
      "Epoch 174/1000\n",
      " 1/24 [>.............................] - ETA: 0s - loss: 0.2440 - accuracy: 0.9062\n",
      "Epoch 174: saving model to model/keypoint_classifier\\keypoint_classifier.hdf5\n",
      "24/24 [==============================] - 0s 3ms/step - loss: 0.3599 - accuracy: 0.8561 - val_loss: 0.1075 - val_accuracy: 0.9789\n",
      "Epoch 175/1000\n",
      " 1/24 [>.............................] - ETA: 0s - loss: 0.4473 - accuracy: 0.8047\n",
      "Epoch 175: saving model to model/keypoint_classifier\\keypoint_classifier.hdf5\n",
      "24/24 [==============================] - 0s 3ms/step - loss: 0.3400 - accuracy: 0.8725 - val_loss: 0.1075 - val_accuracy: 0.9769\n",
      "Epoch 176/1000\n",
      " 1/24 [>.............................] - ETA: 0s - loss: 0.3803 - accuracy: 0.8281\n",
      "Epoch 176: saving model to model/keypoint_classifier\\keypoint_classifier.hdf5\n",
      "24/24 [==============================] - 0s 3ms/step - loss: 0.3568 - accuracy: 0.8631 - val_loss: 0.1066 - val_accuracy: 0.9799\n",
      "Epoch 177/1000\n",
      " 1/24 [>.............................] - ETA: 0s - loss: 0.3604 - accuracy: 0.8594\n",
      "Epoch 177: saving model to model/keypoint_classifier\\keypoint_classifier.hdf5\n",
      "24/24 [==============================] - 0s 3ms/step - loss: 0.3574 - accuracy: 0.8635 - val_loss: 0.1056 - val_accuracy: 0.9789\n",
      "Epoch 178/1000\n",
      " 1/24 [>.............................] - ETA: 0s - loss: 0.3336 - accuracy: 0.8750\n",
      "Epoch 178: saving model to model/keypoint_classifier\\keypoint_classifier.hdf5\n",
      "24/24 [==============================] - 0s 3ms/step - loss: 0.3356 - accuracy: 0.8725 - val_loss: 0.1078 - val_accuracy: 0.9809\n",
      "Epoch 179/1000\n",
      " 1/24 [>.............................] - ETA: 0s - loss: 0.3620 - accuracy: 0.8516\n",
      "Epoch 179: saving model to model/keypoint_classifier\\keypoint_classifier.hdf5\n",
      "24/24 [==============================] - 0s 3ms/step - loss: 0.3458 - accuracy: 0.8691 - val_loss: 0.1058 - val_accuracy: 0.9789\n",
      "Epoch 180/1000\n",
      " 1/24 [>.............................] - ETA: 0s - loss: 0.3858 - accuracy: 0.8828\n",
      "Epoch 180: saving model to model/keypoint_classifier\\keypoint_classifier.hdf5\n",
      "24/24 [==============================] - 0s 3ms/step - loss: 0.3428 - accuracy: 0.8732 - val_loss: 0.1039 - val_accuracy: 0.9809\n",
      "Epoch 181/1000\n",
      " 1/24 [>.............................] - ETA: 0s - loss: 0.2564 - accuracy: 0.9062\n",
      "Epoch 181: saving model to model/keypoint_classifier\\keypoint_classifier.hdf5\n",
      "24/24 [==============================] - 0s 3ms/step - loss: 0.3227 - accuracy: 0.8799 - val_loss: 0.1036 - val_accuracy: 0.9769\n",
      "Epoch 182/1000\n",
      " 1/24 [>.............................] - ETA: 0s - loss: 0.3633 - accuracy: 0.8594\n",
      "Epoch 182: saving model to model/keypoint_classifier\\keypoint_classifier.hdf5\n",
      "24/24 [==============================] - 0s 4ms/step - loss: 0.3501 - accuracy: 0.8641 - val_loss: 0.1047 - val_accuracy: 0.9799\n",
      "Epoch 183/1000\n",
      " 1/24 [>.............................] - ETA: 0s - loss: 0.2711 - accuracy: 0.9062\n",
      "Epoch 183: saving model to model/keypoint_classifier\\keypoint_classifier.hdf5\n",
      "24/24 [==============================] - 0s 3ms/step - loss: 0.3643 - accuracy: 0.8624 - val_loss: 0.1059 - val_accuracy: 0.9809\n",
      "Epoch 184/1000\n",
      " 1/24 [>.............................] - ETA: 0s - loss: 0.3989 - accuracy: 0.7969\n",
      "Epoch 184: saving model to model/keypoint_classifier\\keypoint_classifier.hdf5\n",
      "24/24 [==============================] - 0s 3ms/step - loss: 0.3402 - accuracy: 0.8685 - val_loss: 0.1024 - val_accuracy: 0.9819\n",
      "Epoch 185/1000\n",
      " 1/24 [>.............................] - ETA: 0s - loss: 0.2998 - accuracy: 0.8984\n",
      "Epoch 185: saving model to model/keypoint_classifier\\keypoint_classifier.hdf5\n",
      "24/24 [==============================] - 0s 3ms/step - loss: 0.3409 - accuracy: 0.8718 - val_loss: 0.1032 - val_accuracy: 0.9799\n",
      "Epoch 186/1000\n",
      " 1/24 [>.............................] - ETA: 0s - loss: 0.2432 - accuracy: 0.9297\n",
      "Epoch 186: saving model to model/keypoint_classifier\\keypoint_classifier.hdf5\n",
      "24/24 [==============================] - 0s 3ms/step - loss: 0.3415 - accuracy: 0.8762 - val_loss: 0.1052 - val_accuracy: 0.9799\n",
      "Epoch 187/1000\n",
      " 1/24 [>.............................] - ETA: 0s - loss: 0.3252 - accuracy: 0.8281\n",
      "Epoch 187: saving model to model/keypoint_classifier\\keypoint_classifier.hdf5\n",
      "24/24 [==============================] - 0s 3ms/step - loss: 0.3322 - accuracy: 0.8732 - val_loss: 0.1035 - val_accuracy: 0.9799\n",
      "Epoch 188/1000\n",
      " 1/24 [>.............................] - ETA: 0s - loss: 0.4003 - accuracy: 0.8516\n",
      "Epoch 188: saving model to model/keypoint_classifier\\keypoint_classifier.hdf5\n",
      "24/24 [==============================] - 0s 3ms/step - loss: 0.3677 - accuracy: 0.8645 - val_loss: 0.1027 - val_accuracy: 0.9809\n",
      "Epoch 189/1000\n",
      " 1/24 [>.............................] - ETA: 0s - loss: 0.3609 - accuracy: 0.8516\n",
      "Epoch 189: saving model to model/keypoint_classifier\\keypoint_classifier.hdf5\n",
      "24/24 [==============================] - 0s 3ms/step - loss: 0.3743 - accuracy: 0.8537 - val_loss: 0.1072 - val_accuracy: 0.9809\n",
      "Epoch 190/1000\n",
      " 1/24 [>.............................] - ETA: 0s - loss: 0.2674 - accuracy: 0.9141\n",
      "Epoch 190: saving model to model/keypoint_classifier\\keypoint_classifier.hdf5\n",
      "24/24 [==============================] - 0s 3ms/step - loss: 0.3564 - accuracy: 0.8678 - val_loss: 0.1061 - val_accuracy: 0.9789\n",
      "Epoch 191/1000\n",
      " 1/24 [>.............................] - ETA: 0s - loss: 0.3368 - accuracy: 0.8828\n",
      "Epoch 191: saving model to model/keypoint_classifier\\keypoint_classifier.hdf5\n",
      "24/24 [==============================] - 0s 3ms/step - loss: 0.3490 - accuracy: 0.8651 - val_loss: 0.1081 - val_accuracy: 0.9789\n",
      "Epoch 192/1000\n",
      " 1/24 [>.............................] - ETA: 0s - loss: 0.2336 - accuracy: 0.9297\n",
      "Epoch 192: saving model to model/keypoint_classifier\\keypoint_classifier.hdf5\n",
      "24/24 [==============================] - 0s 3ms/step - loss: 0.3404 - accuracy: 0.8765 - val_loss: 0.1038 - val_accuracy: 0.9809\n",
      "Epoch 193/1000\n",
      " 1/24 [>.............................] - ETA: 0s - loss: 0.2959 - accuracy: 0.9141\n",
      "Epoch 193: saving model to model/keypoint_classifier\\keypoint_classifier.hdf5\n",
      "24/24 [==============================] - 0s 3ms/step - loss: 0.3403 - accuracy: 0.8735 - val_loss: 0.1039 - val_accuracy: 0.9809\n",
      "Epoch 194/1000\n",
      " 1/24 [>.............................] - ETA: 0s - loss: 0.2908 - accuracy: 0.8594\n",
      "Epoch 194: saving model to model/keypoint_classifier\\keypoint_classifier.hdf5\n",
      "24/24 [==============================] - 0s 3ms/step - loss: 0.3401 - accuracy: 0.8671 - val_loss: 0.1035 - val_accuracy: 0.9809\n",
      "Epoch 195/1000\n",
      " 1/24 [>.............................] - ETA: 0s - loss: 0.3015 - accuracy: 0.8828\n",
      "Epoch 195: saving model to model/keypoint_classifier\\keypoint_classifier.hdf5\n",
      "24/24 [==============================] - 0s 4ms/step - loss: 0.3399 - accuracy: 0.8718 - val_loss: 0.1072 - val_accuracy: 0.9809\n",
      "Epoch 196/1000\n",
      " 1/24 [>.............................] - ETA: 0s - loss: 0.3609 - accuracy: 0.8281\n",
      "Epoch 196: saving model to model/keypoint_classifier\\keypoint_classifier.hdf5\n",
      "24/24 [==============================] - 0s 3ms/step - loss: 0.3245 - accuracy: 0.8725 - val_loss: 0.1069 - val_accuracy: 0.9819\n",
      "Epoch 197/1000\n",
      " 1/24 [>.............................] - ETA: 0s - loss: 0.3153 - accuracy: 0.8906\n",
      "Epoch 197: saving model to model/keypoint_classifier\\keypoint_classifier.hdf5\n",
      "24/24 [==============================] - 0s 3ms/step - loss: 0.3468 - accuracy: 0.8608 - val_loss: 0.1040 - val_accuracy: 0.9839\n",
      "Epoch 198/1000\n",
      " 1/24 [>.............................] - ETA: 0s - loss: 0.4024 - accuracy: 0.8359\n",
      "Epoch 198: saving model to model/keypoint_classifier\\keypoint_classifier.hdf5\n",
      "24/24 [==============================] - 0s 3ms/step - loss: 0.3545 - accuracy: 0.8651 - val_loss: 0.1011 - val_accuracy: 0.9809\n",
      "Epoch 199/1000\n",
      " 1/24 [>.............................] - ETA: 0s - loss: 0.4206 - accuracy: 0.8281\n",
      "Epoch 199: saving model to model/keypoint_classifier\\keypoint_classifier.hdf5\n",
      "24/24 [==============================] - 0s 3ms/step - loss: 0.3484 - accuracy: 0.8651 - val_loss: 0.1036 - val_accuracy: 0.9799\n",
      "Epoch 200/1000\n",
      " 1/24 [>.............................] - ETA: 0s - loss: 0.2722 - accuracy: 0.9219\n",
      "Epoch 200: saving model to model/keypoint_classifier\\keypoint_classifier.hdf5\n",
      "24/24 [==============================] - 0s 3ms/step - loss: 0.3511 - accuracy: 0.8735 - val_loss: 0.1058 - val_accuracy: 0.9819\n",
      "Epoch 201/1000\n",
      " 1/24 [>.............................] - ETA: 0s - loss: 0.2833 - accuracy: 0.8984\n",
      "Epoch 201: saving model to model/keypoint_classifier\\keypoint_classifier.hdf5\n",
      "24/24 [==============================] - 0s 4ms/step - loss: 0.3316 - accuracy: 0.8748 - val_loss: 0.0990 - val_accuracy: 0.9819\n",
      "Epoch 202/1000\n",
      " 1/24 [>.............................] - ETA: 0s - loss: 0.2987 - accuracy: 0.8672\n",
      "Epoch 202: saving model to model/keypoint_classifier\\keypoint_classifier.hdf5\n",
      "24/24 [==============================] - 0s 3ms/step - loss: 0.3504 - accuracy: 0.8698 - val_loss: 0.0993 - val_accuracy: 0.9819\n",
      "Epoch 203/1000\n",
      " 1/24 [>.............................] - ETA: 0s - loss: 0.3659 - accuracy: 0.8594\n",
      "Epoch 203: saving model to model/keypoint_classifier\\keypoint_classifier.hdf5\n",
      "24/24 [==============================] - 0s 3ms/step - loss: 0.3518 - accuracy: 0.8688 - val_loss: 0.0993 - val_accuracy: 0.9809\n",
      "Epoch 204/1000\n",
      " 1/24 [>.............................] - ETA: 0s - loss: 0.4200 - accuracy: 0.8281\n",
      "Epoch 204: saving model to model/keypoint_classifier\\keypoint_classifier.hdf5\n",
      "24/24 [==============================] - 0s 3ms/step - loss: 0.3459 - accuracy: 0.8648 - val_loss: 0.1003 - val_accuracy: 0.9809\n",
      "Epoch 205/1000\n",
      " 1/24 [>.............................] - ETA: 0s - loss: 0.2498 - accuracy: 0.9062\n",
      "Epoch 205: saving model to model/keypoint_classifier\\keypoint_classifier.hdf5\n",
      "24/24 [==============================] - 0s 3ms/step - loss: 0.3359 - accuracy: 0.8685 - val_loss: 0.1028 - val_accuracy: 0.9789\n",
      "Epoch 206/1000\n",
      " 1/24 [>.............................] - ETA: 0s - loss: 0.3386 - accuracy: 0.8672\n",
      "Epoch 206: saving model to model/keypoint_classifier\\keypoint_classifier.hdf5\n",
      "24/24 [==============================] - 0s 3ms/step - loss: 0.3343 - accuracy: 0.8708 - val_loss: 0.1005 - val_accuracy: 0.9819\n",
      "Epoch 207/1000\n",
      " 1/24 [>.............................] - ETA: 0s - loss: 0.3536 - accuracy: 0.8906\n",
      "Epoch 207: saving model to model/keypoint_classifier\\keypoint_classifier.hdf5\n",
      "24/24 [==============================] - 0s 3ms/step - loss: 0.3441 - accuracy: 0.8712 - val_loss: 0.0986 - val_accuracy: 0.9829\n",
      "Epoch 208/1000\n",
      " 1/24 [>.............................] - ETA: 0s - loss: 0.4354 - accuracy: 0.8281\n",
      "Epoch 208: saving model to model/keypoint_classifier\\keypoint_classifier.hdf5\n",
      "24/24 [==============================] - 0s 3ms/step - loss: 0.3503 - accuracy: 0.8738 - val_loss: 0.0977 - val_accuracy: 0.9809\n",
      "Epoch 209/1000\n",
      " 1/24 [>.............................] - ETA: 0s - loss: 0.3722 - accuracy: 0.8359\n",
      "Epoch 209: saving model to model/keypoint_classifier\\keypoint_classifier.hdf5\n",
      "24/24 [==============================] - 0s 3ms/step - loss: 0.3481 - accuracy: 0.8675 - val_loss: 0.0978 - val_accuracy: 0.9819\n",
      "Epoch 210/1000\n",
      " 1/24 [>.............................] - ETA: 0s - loss: 0.2834 - accuracy: 0.8828\n",
      "Epoch 210: saving model to model/keypoint_classifier\\keypoint_classifier.hdf5\n",
      "24/24 [==============================] - 0s 3ms/step - loss: 0.3472 - accuracy: 0.8618 - val_loss: 0.0988 - val_accuracy: 0.9819\n",
      "Epoch 211/1000\n",
      " 1/24 [>.............................] - ETA: 0s - loss: 0.3197 - accuracy: 0.8750\n",
      "Epoch 211: saving model to model/keypoint_classifier\\keypoint_classifier.hdf5\n",
      "24/24 [==============================] - 0s 3ms/step - loss: 0.3312 - accuracy: 0.8778 - val_loss: 0.1033 - val_accuracy: 0.9789\n",
      "Epoch 212/1000\n",
      " 1/24 [>.............................] - ETA: 0s - loss: 0.3568 - accuracy: 0.8750\n",
      "Epoch 212: saving model to model/keypoint_classifier\\keypoint_classifier.hdf5\n",
      "24/24 [==============================] - 0s 3ms/step - loss: 0.3302 - accuracy: 0.8742 - val_loss: 0.1071 - val_accuracy: 0.9799\n",
      "Epoch 213/1000\n",
      " 1/24 [>.............................] - ETA: 0s - loss: 0.3333 - accuracy: 0.9062\n",
      "Epoch 213: saving model to model/keypoint_classifier\\keypoint_classifier.hdf5\n",
      "24/24 [==============================] - 0s 3ms/step - loss: 0.3473 - accuracy: 0.8681 - val_loss: 0.1018 - val_accuracy: 0.9819\n",
      "Epoch 214/1000\n",
      " 1/24 [>.............................] - ETA: 0s - loss: 0.3272 - accuracy: 0.8750\n",
      "Epoch 214: saving model to model/keypoint_classifier\\keypoint_classifier.hdf5\n",
      "24/24 [==============================] - 0s 3ms/step - loss: 0.3491 - accuracy: 0.8641 - val_loss: 0.1012 - val_accuracy: 0.9829\n",
      "Epoch 215/1000\n",
      " 1/24 [>.............................] - ETA: 0s - loss: 0.2850 - accuracy: 0.8828\n",
      "Epoch 215: saving model to model/keypoint_classifier\\keypoint_classifier.hdf5\n",
      "24/24 [==============================] - 0s 3ms/step - loss: 0.3363 - accuracy: 0.8732 - val_loss: 0.1023 - val_accuracy: 0.9819\n",
      "Epoch 216/1000\n",
      " 1/24 [>.............................] - ETA: 0s - loss: 0.3228 - accuracy: 0.8906\n",
      "Epoch 216: saving model to model/keypoint_classifier\\keypoint_classifier.hdf5\n",
      "24/24 [==============================] - 0s 3ms/step - loss: 0.3330 - accuracy: 0.8788 - val_loss: 0.1013 - val_accuracy: 0.9809\n",
      "Epoch 217/1000\n",
      " 1/24 [>.............................] - ETA: 0s - loss: 0.4037 - accuracy: 0.8359\n",
      "Epoch 217: saving model to model/keypoint_classifier\\keypoint_classifier.hdf5\n",
      "24/24 [==============================] - 0s 3ms/step - loss: 0.3411 - accuracy: 0.8712 - val_loss: 0.1042 - val_accuracy: 0.9799\n",
      "Epoch 218/1000\n",
      " 1/24 [>.............................] - ETA: 0s - loss: 0.3624 - accuracy: 0.8828\n",
      "Epoch 218: saving model to model/keypoint_classifier\\keypoint_classifier.hdf5\n",
      "24/24 [==============================] - 0s 3ms/step - loss: 0.3466 - accuracy: 0.8708 - val_loss: 0.1002 - val_accuracy: 0.9789\n",
      "Epoch 219/1000\n",
      " 1/24 [>.............................] - ETA: 0s - loss: 0.4022 - accuracy: 0.7734\n",
      "Epoch 219: saving model to model/keypoint_classifier\\keypoint_classifier.hdf5\n",
      "24/24 [==============================] - 0s 3ms/step - loss: 0.3316 - accuracy: 0.8675 - val_loss: 0.1028 - val_accuracy: 0.9829\n",
      "Epoch 220/1000\n",
      " 1/24 [>.............................] - ETA: 0s - loss: 0.3723 - accuracy: 0.8828\n",
      "Epoch 220: saving model to model/keypoint_classifier\\keypoint_classifier.hdf5\n",
      "24/24 [==============================] - 0s 3ms/step - loss: 0.3390 - accuracy: 0.8688 - val_loss: 0.1008 - val_accuracy: 0.9819\n",
      "Epoch 221/1000\n",
      " 1/24 [>.............................] - ETA: 0s - loss: 0.3147 - accuracy: 0.8828\n",
      "Epoch 221: saving model to model/keypoint_classifier\\keypoint_classifier.hdf5\n",
      "24/24 [==============================] - 0s 3ms/step - loss: 0.3473 - accuracy: 0.8658 - val_loss: 0.1025 - val_accuracy: 0.9819\n",
      "Epoch 222/1000\n",
      " 1/24 [>.............................] - ETA: 0s - loss: 0.3131 - accuracy: 0.8828\n",
      "Epoch 222: saving model to model/keypoint_classifier\\keypoint_classifier.hdf5\n",
      "24/24 [==============================] - 0s 4ms/step - loss: 0.3286 - accuracy: 0.8772 - val_loss: 0.0989 - val_accuracy: 0.9809\n",
      "Epoch 223/1000\n",
      " 1/24 [>.............................] - ETA: 0s - loss: 0.3581 - accuracy: 0.8438\n",
      "Epoch 223: saving model to model/keypoint_classifier\\keypoint_classifier.hdf5\n",
      "24/24 [==============================] - 0s 3ms/step - loss: 0.3471 - accuracy: 0.8655 - val_loss: 0.0987 - val_accuracy: 0.9819\n",
      "Epoch 224/1000\n",
      " 1/24 [>.............................] - ETA: 0s - loss: 0.2457 - accuracy: 0.9141\n",
      "Epoch 224: saving model to model/keypoint_classifier\\keypoint_classifier.hdf5\n",
      "24/24 [==============================] - 0s 3ms/step - loss: 0.3250 - accuracy: 0.8775 - val_loss: 0.1019 - val_accuracy: 0.9809\n",
      "Epoch 225/1000\n",
      " 1/24 [>.............................] - ETA: 0s - loss: 0.3585 - accuracy: 0.8516\n",
      "Epoch 225: saving model to model/keypoint_classifier\\keypoint_classifier.hdf5\n",
      "24/24 [==============================] - 0s 3ms/step - loss: 0.3491 - accuracy: 0.8722 - val_loss: 0.0991 - val_accuracy: 0.9809\n",
      "Epoch 226/1000\n",
      " 1/24 [>.............................] - ETA: 0s - loss: 0.3014 - accuracy: 0.8984\n",
      "Epoch 226: saving model to model/keypoint_classifier\\keypoint_classifier.hdf5\n",
      "24/24 [==============================] - 0s 3ms/step - loss: 0.3237 - accuracy: 0.8802 - val_loss: 0.1000 - val_accuracy: 0.9819\n",
      "Epoch 227/1000\n",
      " 1/24 [>.............................] - ETA: 0s - loss: 0.3075 - accuracy: 0.8516\n",
      "Epoch 227: saving model to model/keypoint_classifier\\keypoint_classifier.hdf5\n",
      "24/24 [==============================] - 0s 3ms/step - loss: 0.3096 - accuracy: 0.8892 - val_loss: 0.1023 - val_accuracy: 0.9819\n",
      "Epoch 228/1000\n",
      " 1/24 [>.............................] - ETA: 0s - loss: 0.3847 - accuracy: 0.8672\n",
      "Epoch 228: saving model to model/keypoint_classifier\\keypoint_classifier.hdf5\n",
      "24/24 [==============================] - 0s 3ms/step - loss: 0.3368 - accuracy: 0.8715 - val_loss: 0.0982 - val_accuracy: 0.9809\n",
      "Epoch 228: early stopping\n"
     ]
    },
    {
     "data": {
      "text/plain": "<keras.callbacks.History at 0x1fb89b53a90>"
     },
     "execution_count": 198,
     "metadata": {},
     "output_type": "execute_result"
    }
   ],
   "source": [
    "model.fit(\n",
    "    X_train,\n",
    "    y_train,\n",
    "    epochs=1000,\n",
    "    batch_size=128,\n",
    "    validation_data=(X_test, y_test),\n",
    "    callbacks=[cp_callback, es_callback]\n",
    ")"
   ]
  },
  {
   "cell_type": "code",
   "execution_count": 199,
   "metadata": {
    "pycharm": {
     "name": "#%%\n"
    }
   },
   "outputs": [
    {
     "name": "stdout",
     "output_type": "stream",
     "text": [
      "8/8 [==============================] - 0s 2ms/step - loss: 0.0982 - accuracy: 0.9809\n"
     ]
    }
   ],
   "source": [
    "# Model evaluation\n",
    "val_loss, val_acc = model.evaluate(X_test, y_test, batch_size=128)"
   ]
  },
  {
   "cell_type": "code",
   "execution_count": 200,
   "metadata": {
    "pycharm": {
     "name": "#%%\n"
    }
   },
   "outputs": [],
   "source": [
    "# Loading the saved model\n",
    "model = tf.keras.models.load_model(model_save_path)"
   ]
  },
  {
   "cell_type": "code",
   "execution_count": 201,
   "metadata": {
    "pycharm": {
     "name": "#%%\n"
    }
   },
   "outputs": [
    {
     "name": "stdout",
     "output_type": "stream",
     "text": [
      "1/1 [==============================] - 0s 47ms/step\n",
      "[9.6782178e-01 3.2178219e-02 1.2407899e-14 1.0621603e-18 2.6581700e-23\n",
      " 1.3925764e-19]\n",
      "0\n"
     ]
    }
   ],
   "source": [
    "# Model prediction - Inference test\n",
    "predict_result = model.predict(np.array([X_test[0]]))\n",
    "print(np.squeeze(predict_result))\n",
    "print(np.argmax(np.squeeze(predict_result)))"
   ]
  },
  {
   "cell_type": "markdown",
   "metadata": {
    "pycharm": {
     "name": "#%% md\n"
    }
   },
   "source": [
    "# mixed row"
   ]
  },
  {
   "cell_type": "code",
   "execution_count": 202,
   "metadata": {
    "pycharm": {
     "name": "#%%\n"
    }
   },
   "outputs": [
    {
     "name": "stdout",
     "output_type": "stream",
     "text": [
      "32/32 [==============================] - 0s 1ms/step\n"
     ]
    },
    {
     "data": {
      "text/plain": "<Figure size 504x432 with 2 Axes>",
      "image/png": "[encoded data removed]"
     },
     "metadata": {
      "needs_background": "light"
     },
     "output_type": "display_data"
    },
    {
     "name": "stdout",
     "output_type": "stream",
     "text": [
      "Classification Report\n",
      "              precision    recall  f1-score   support\n",
      "\n",
      "           0       0.99      0.98      0.98       408\n",
      "           1       0.98      0.97      0.97       377\n",
      "           2       1.00      1.00      1.00        88\n",
      "           3       1.00      1.00      1.00        49\n",
      "           4       0.88      1.00      0.94        46\n",
      "           5       1.00      1.00      1.00        28\n",
      "\n",
      "    accuracy                           0.98       996\n",
      "   macro avg       0.98      0.99      0.98       996\n",
      "weighted avg       0.98      0.98      0.98       996\n",
      "\n"
     ]
    }
   ],
   "source": [
    "import pandas as pd\n",
    "import seaborn as sns\n",
    "import matplotlib.pyplot as plt\n",
    "from sklearn.metrics import confusion_matrix, classification_report\n",
    "\n",
    "def print_confusion_matrix(y_true, y_pred, report=True):\n",
    "    labels = sorted(list(set(y_true)))\n",
    "    cmx_data = confusion_matrix(y_true, y_pred, labels=labels)\n",
    "    \n",
    "    df_cmx = pd.DataFrame(cmx_data, index=labels, columns=labels)\n",
    " \n",
    "    fig, ax = plt.subplots(figsize=(7, 6))\n",
    "    sns.heatmap(df_cmx, annot=True, fmt='g' ,square=False)\n",
    "    ax.set_ylim(len(set(y_true)), 0)\n",
    "    plt.show()\n",
    "    \n",
    "    if report:\n",
    "        print('Classification Report')\n",
    "        print(classification_report(y_test, y_pred))\n",
    "\n",
    "Y_pred = model.predict(X_test)\n",
    "y_pred = np.argmax(Y_pred, axis=1)\n",
    "\n",
    "print_confusion_matrix(y_test, y_pred)"
   ]
  },
  {
   "cell_type": "markdown",
   "metadata": {
    "pycharm": {
     "name": "#%% md\n"
    }
   },
   "source": [
    "# Convert to model for Tensorflow-Lite"
   ]
  },
  {
   "cell_type": "code",
   "execution_count": 203,
   "metadata": {
    "pycharm": {
     "name": "#%%\n"
    }
   },
   "outputs": [],
   "source": [
    "# Save as a model dedicated to inference\n",
    "model.save(model_save_path, include_optimizer=False)"
   ]
  },
  {
   "cell_type": "code",
   "execution_count": 204,
   "metadata": {
    "pycharm": {
     "name": "#%%\n"
    }
   },
   "outputs": [
    {
     "name": "stdout",
     "output_type": "stream",
     "text": [
      "INFO:tensorflow:Assets written to: C:\\Users\\ADMINI~2\\AppData\\Local\\Temp\\tmpouz1hjqw\\assets\n"
     ]
    },
    {
     "name": "stderr",
     "output_type": "stream",
     "text": [
      "INFO:tensorflow:Assets written to: C:\\Users\\ADMINI~2\\AppData\\Local\\Temp\\tmpouz1hjqw\\assets\n"
     ]
    },
    {
     "data": {
      "text/plain": "6668"
     },
     "execution_count": 204,
     "metadata": {},
     "output_type": "execute_result"
    }
   ],
   "source": [
    "# Transforming the model (quantization)\n",
    "tflite_save_path = 'model/keypoint_classifier/keypoint_classifier.tflite'\n",
    "\n",
    "converter = tf.lite.TFLiteConverter.from_keras_model(model)\n",
    "converter.optimizations = [tf.lite.Optimize.DEFAULT]\n",
    "tflite_quantized_model = converter.convert()\n",
    "\n",
    "open(tflite_save_path, 'wb').write(tflite_quantized_model)"
   ]
  },
  {
   "cell_type": "markdown",
   "metadata": {
    "pycharm": {
     "name": "#%% md\n"
    }
   },
   "source": [
    "# Inference test"
   ]
  },
  {
   "cell_type": "code",
   "execution_count": 205,
   "metadata": {
    "pycharm": {
     "name": "#%%\n"
    }
   },
   "outputs": [],
   "source": [
    "interpreter = tf.lite.Interpreter(model_path=tflite_save_path)\n",
    "interpreter.allocate_tensors()"
   ]
  },
  {
   "cell_type": "code",
   "execution_count": 206,
   "metadata": {
    "pycharm": {
     "name": "#%%\n"
    }
   },
   "outputs": [],
   "source": [
    "# Get I / O tensor\n",
    "input_details = interpreter.get_input_details()\n",
    "output_details = interpreter.get_output_details()"
   ]
  },
  {
   "cell_type": "code",
   "execution_count": 207,
   "metadata": {
    "pycharm": {
     "name": "#%%\n"
    }
   },
   "outputs": [],
   "source": [
    "interpreter.set_tensor(input_details[0]['index'], np.array([X_test[0]]))"
   ]
  },
  {
   "cell_type": "code",
   "execution_count": 208,
   "metadata": {
    "scrolled": true,
    "pycharm": {
     "name": "#%%\n"
    }
   },
   "outputs": [
    {
     "name": "stdout",
     "output_type": "stream",
     "text": [
      "CPU times: total: 0 ns\n",
      "Wall time: 0 ns\n"
     ]
    }
   ],
   "source": [
    "%%time\n",
    "# Inference implementation\n",
    "interpreter.invoke()\n",
    "tflite_results = interpreter.get_tensor(output_details[0]['index'])"
   ]
  },
  {
   "cell_type": "code",
   "execution_count": 209,
   "metadata": {
    "pycharm": {
     "name": "#%%\n"
    }
   },
   "outputs": [
    {
     "name": "stdout",
     "output_type": "stream",
     "text": [
      "[9.67821777e-01 3.21782194e-02 1.24078985e-14 1.06215636e-18\n",
      " 2.65817000e-23 1.39257653e-19]\n",
      "0\n"
     ]
    }
   ],
   "source": [
    "print(np.squeeze(tflite_results))\n",
    "print(np.argmax(np.squeeze(tflite_results)))"
   ]
  },
  {
   "cell_type": "code",
   "execution_count": 209,
   "metadata": {
    "pycharm": {
     "name": "#%%\n"
    }
   },
   "outputs": [],
   "source": []
  }
 ],
 "metadata": {
  "kernelspec": {
   "display_name": "Python 3 (ipykernel)",
   "language": "python",
   "name": "python3"
  },
  "language_info": {
   "codemirror_mode": {
    "name": "ipython",
    "version": 3
   },
   "file_extension": ".py",
   "mimetype": "text/x-python",
   "name": "python",
   "nbconvert_exporter": "python",
   "pygments_lexer": "ipython3",
   "version": "3.10.4"
  }
 },
 "nbformat": 4,
 "nbformat_minor": 4
}